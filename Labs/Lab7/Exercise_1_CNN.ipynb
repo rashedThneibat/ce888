{
  "nbformat": 4,
  "nbformat_minor": 0,
  "metadata": {
    "kernelspec": {
      "display_name": "Python 3",
      "language": "python",
      "name": "python3"
    },
    "language_info": {
      "codemirror_mode": {
        "name": "ipython",
        "version": 3
      },
      "file_extension": ".py",
      "mimetype": "text/x-python",
      "name": "python",
      "nbconvert_exporter": "python",
      "pygments_lexer": "ipython3",
      "version": "3.6.5"
    },
    "colab": {
      "name": "CNN.ipynb",
      "provenance": []
    },
    "accelerator": "GPU"
  },
  "cells": [
    {
      "cell_type": "markdown",
      "metadata": {
        "id": "vwRGEQbzGpYQ"
      },
      "source": [
        "# First CNN model for MNIST Dataset\n",
        "\n",
        "* MNIST Dataset is ''Hello World'' of Image Recognition\n",
        "\n",
        "* [Dataset HomePage](http://yann.lecun.com/exdb/mnist/)\n",
        "\n",
        "* History of MNIST Dataset [Watch here](https://www.youtube.com/watch?v=oKzNUGz21JM)\n",
        "\n",
        "\n",
        "---\n",
        "The MNIST database of handwritten digits, available from this page, has a training set of 60,000 examples, and a \n",
        "test set of 10,000 examples. It is a subset of a larger set available from NIST. The digits have been size-normalized and centered in a fixed-size image.\n",
        "\n",
        "![Kitten](https://camo.githubusercontent.com/01c057a753e92a9bc70b8c45d62b295431851c09cffadf53106fc0aea7e2843f/687474703a2f2f692e7974696d672e636f6d2f76692f3051493378675875422d512f687164656661756c742e6a7067)\n"
      ]
    },
    {
      "cell_type": "markdown",
      "metadata": {
        "id": "PhmJOHCpJD_w"
      },
      "source": [
        "# Let's start building our first CNN Model"
      ]
    },
    {
      "cell_type": "code",
      "metadata": {
        "id": "lSyHCSV7jymI"
      },
      "source": [
        "from keras import layers\n",
        "from keras import models"
      ],
      "execution_count": 1,
      "outputs": []
    },
    {
      "cell_type": "markdown",
      "metadata": {
        "id": "oWNzCYUUjymN"
      },
      "source": [
        "Importantly, a convnet takes as input tensors of shape (image_height, image_width,\n",
        "image_channels) (not including the batch dimension). In this case, we’ll configure\n",
        "the convnet to process inputs of size (28, 28, 1), which is the format of MNIST\n",
        "images. We’ll do this by passing the argument input_shape=(28, 28, 1) to the first\n",
        "layer."
      ]
    },
    {
      "cell_type": "markdown",
      "metadata": {
        "id": "dM4JLEpwjymN"
      },
      "source": [
        "#### Instantiating a small convnet"
      ]
    },
    {
      "cell_type": "code",
      "metadata": {
        "id": "p-OnpExGjymO",
        "colab": {
          "base_uri": "https://localhost:8080/"
        },
        "outputId": "751540d4-9928-4a15-838d-8b2256be88eb"
      },
      "source": [
        "model = models.Sequential()\n",
        "model.add(layers.Conv2D(32, (3, 3), activation='relu', input_shape=(28, 28, 1)))\n",
        "model.add(layers.MaxPooling2D((2, 2)))\n",
        "model.add(layers.Conv2D(64, (3, 3), activation='relu'))\n",
        "model.add(layers.MaxPooling2D((2, 2)))\n",
        "model.add(layers.Conv2D(64, (3, 3), activation='relu'))\n",
        "model.summary()"
      ],
      "execution_count": 2,
      "outputs": [
        {
          "output_type": "stream",
          "text": [
            "Model: \"sequential\"\n",
            "_________________________________________________________________\n",
            "Layer (type)                 Output Shape              Param #   \n",
            "=================================================================\n",
            "conv2d (Conv2D)              (None, 26, 26, 32)        320       \n",
            "_________________________________________________________________\n",
            "max_pooling2d (MaxPooling2D) (None, 13, 13, 32)        0         \n",
            "_________________________________________________________________\n",
            "conv2d_1 (Conv2D)            (None, 11, 11, 64)        18496     \n",
            "_________________________________________________________________\n",
            "max_pooling2d_1 (MaxPooling2 (None, 5, 5, 64)          0         \n",
            "_________________________________________________________________\n",
            "conv2d_2 (Conv2D)            (None, 3, 3, 64)          36928     \n",
            "=================================================================\n",
            "Total params: 55,744\n",
            "Trainable params: 55,744\n",
            "Non-trainable params: 0\n",
            "_________________________________________________________________\n"
          ],
          "name": "stdout"
        }
      ]
    },
    {
      "cell_type": "markdown",
      "metadata": {
        "id": "7gcVG3xkjymR"
      },
      "source": [
        "#### Adding a classifier on top of the convnet"
      ]
    },
    {
      "cell_type": "code",
      "metadata": {
        "id": "C2DfhDJYjymR",
        "colab": {
          "base_uri": "https://localhost:8080/"
        },
        "outputId": "b22deffa-3019-4432-cc1c-835b1fd70e29"
      },
      "source": [
        "model.add(layers.Flatten())\n",
        "model.add(layers.Dense(64, activation='relu'))\n",
        "model.add(layers.Dense(10, activation='softmax'))\n",
        "model.summary()"
      ],
      "execution_count": 3,
      "outputs": [
        {
          "output_type": "stream",
          "text": [
            "Model: \"sequential\"\n",
            "_________________________________________________________________\n",
            "Layer (type)                 Output Shape              Param #   \n",
            "=================================================================\n",
            "conv2d (Conv2D)              (None, 26, 26, 32)        320       \n",
            "_________________________________________________________________\n",
            "max_pooling2d (MaxPooling2D) (None, 13, 13, 32)        0         \n",
            "_________________________________________________________________\n",
            "conv2d_1 (Conv2D)            (None, 11, 11, 64)        18496     \n",
            "_________________________________________________________________\n",
            "max_pooling2d_1 (MaxPooling2 (None, 5, 5, 64)          0         \n",
            "_________________________________________________________________\n",
            "conv2d_2 (Conv2D)            (None, 3, 3, 64)          36928     \n",
            "_________________________________________________________________\n",
            "flatten (Flatten)            (None, 576)               0         \n",
            "_________________________________________________________________\n",
            "dense (Dense)                (None, 64)                36928     \n",
            "_________________________________________________________________\n",
            "dense_1 (Dense)              (None, 10)                650       \n",
            "=================================================================\n",
            "Total params: 93,322\n",
            "Trainable params: 93,322\n",
            "Non-trainable params: 0\n",
            "_________________________________________________________________\n"
          ],
          "name": "stdout"
        }
      ]
    },
    {
      "cell_type": "markdown",
      "metadata": {
        "id": "NOKVF4nKjymU"
      },
      "source": [
        "### Training the convnet on MNIST images"
      ]
    },
    {
      "cell_type": "code",
      "metadata": {
        "id": "oIcgUbbUjymV"
      },
      "source": [
        "from keras.datasets import mnist\n",
        "from keras.utils import to_categorical"
      ],
      "execution_count": 4,
      "outputs": []
    },
    {
      "cell_type": "markdown",
      "metadata": {
        "id": "ZnJ2Pfs_jymX"
      },
      "source": [
        "#### Load Data"
      ]
    },
    {
      "cell_type": "code",
      "metadata": {
        "id": "JpHGHE9MjymY"
      },
      "source": [
        "(train_images, train_labels), (test_images, test_labels) = mnist.load_data()\n",
        "train_images = train_images.reshape((60000, 28, 28, 1))\n",
        "train_images = train_images.astype('float32') / 255\n",
        "test_images = test_images.reshape((10000, 28, 28, 1))\n",
        "test_images = test_images.astype('float32') / 255\n",
        "train_labels = to_categorical(train_labels)\n",
        "test_labels = to_categorical(test_labels)"
      ],
      "execution_count": 5,
      "outputs": []
    },
    {
      "cell_type": "markdown",
      "metadata": {
        "id": "4HoTLrfSjymd"
      },
      "source": [
        "#### compile and fit model "
      ]
    },
    {
      "cell_type": "code",
      "metadata": {
        "id": "i23FDtC9jyme",
        "colab": {
          "base_uri": "https://localhost:8080/"
        },
        "outputId": "30b79f0a-c83c-468d-a8dc-2da38abd0ab8"
      },
      "source": [
        "model.compile(optimizer='rmsprop', \n",
        "              loss='categorical_crossentropy',\n",
        "              metrics=['accuracy'])\n",
        "history = model.fit(train_images, train_labels, epochs=5, batch_size=64, validation_split=0.2)"
      ],
      "execution_count": 6,
      "outputs": [
        {
          "output_type": "stream",
          "text": [
            "Epoch 1/5\n",
            "750/750 [==============================] - 7s 5ms/step - loss: 0.4486 - accuracy: 0.8588 - val_loss: 0.0661 - val_accuracy: 0.9797\n",
            "Epoch 2/5\n",
            "750/750 [==============================] - 3s 4ms/step - loss: 0.0558 - accuracy: 0.9836 - val_loss: 0.0458 - val_accuracy: 0.9857\n",
            "Epoch 3/5\n",
            "750/750 [==============================] - 3s 4ms/step - loss: 0.0360 - accuracy: 0.9885 - val_loss: 0.0356 - val_accuracy: 0.9889\n",
            "Epoch 4/5\n",
            "750/750 [==============================] - 3s 4ms/step - loss: 0.0256 - accuracy: 0.9913 - val_loss: 0.0361 - val_accuracy: 0.9902\n",
            "Epoch 5/5\n",
            "750/750 [==============================] - 3s 4ms/step - loss: 0.0211 - accuracy: 0.9933 - val_loss: 0.0397 - val_accuracy: 0.9893\n"
          ],
          "name": "stdout"
        }
      ]
    },
    {
      "cell_type": "markdown",
      "metadata": {
        "id": "9zU8iI5ojymg"
      },
      "source": [
        "#### evaluate model"
      ]
    },
    {
      "cell_type": "code",
      "metadata": {
        "id": "Z3VeaL1Njymh",
        "colab": {
          "base_uri": "https://localhost:8080/"
        },
        "outputId": "6e56a9ad-349f-4bd2-c591-991764c15e6b"
      },
      "source": [
        "test_loss, test_acc = model.evaluate(test_images, test_labels)\n",
        "test_acc"
      ],
      "execution_count": 7,
      "outputs": [
        {
          "output_type": "stream",
          "text": [
            "313/313 [==============================] - 1s 2ms/step - loss: 0.0324 - accuracy: 0.9904\n"
          ],
          "name": "stdout"
        },
        {
          "output_type": "execute_result",
          "data": {
            "text/plain": [
              "0.9904000163078308"
            ]
          },
          "metadata": {
            "tags": []
          },
          "execution_count": 7
        }
      ]
    },
    {
      "cell_type": "code",
      "metadata": {
        "id": "wXNZOY7Sjymj",
        "colab": {
          "base_uri": "https://localhost:8080/",
          "height": 545
        },
        "outputId": "2757269f-5f45-427d-ad52-b249216c328f"
      },
      "source": [
        "import matplotlib.pyplot as plt\n",
        "\n",
        "acc = history.history['accuracy']\n",
        "val_acc = history.history['val_accuracy']\n",
        "loss = history.history['loss']\n",
        "val_loss = history.history['val_loss']\n",
        "\n",
        "epochs = range(1, len(acc) + 1)\n",
        "\n",
        "plt.plot(epochs, acc, 'bo', label='Training acc')\n",
        "plt.plot(epochs, val_acc, 'b', label='Validation acc')\n",
        "plt.title('Training and validation accuracy')\n",
        "plt.legend()\n",
        "\n",
        "plt.figure()\n",
        "\n",
        "plt.plot(epochs, loss, 'bo', label='Training loss')\n",
        "plt.plot(epochs, val_loss, 'b', label='Validation loss')\n",
        "plt.title('Training and validation loss')\n",
        "plt.legend()\n",
        "\n",
        "plt.show()"
      ],
      "execution_count": 8,
      "outputs": [
        {
          "output_type": "display_data",
          "data": {
            "image/png": "[encoded data removed]",
            "text/plain": [
              "<Figure size 432x288 with 1 Axes>"
            ]
          },
          "metadata": {
            "tags": [],
            "needs_background": "light"
          }
        },
        {
          "output_type": "display_data",
          "data": {
            "image/png": "[encoded data removed]",
            "text/plain": [
              "<Figure size 432x288 with 1 Axes>"
            ]
          },
          "metadata": {
            "tags": [],
            "needs_background": "light"
          }
        }
      ]
    },
    {
      "cell_type": "markdown",
      "metadata": {
        "id": "dsQMc0Iojyml"
      },
      "source": [
        "## Task 1\n",
        "\n",
        "Change the activation function and other parameters such as optimizer to see the effect on the network and it's performance. If possible create a grid search. "
      ]
    },
    {
      "cell_type": "code",
      "metadata": {
        "id": "owJ-29BrJXNa"
      },
      "source": [
        "# Write code here\n",
        "def create_model(optimizer,activation):\n",
        "  model = models.Sequential()\n",
        "  model.add(layers.Conv2D(32, (3, 3), activation=activation, input_shape=(28, 28, 1)))\n",
        "  model.add(layers.MaxPooling2D((2, 2)))\n",
        "  model.add(layers.Conv2D(64, (3, 3), activation=activation))\n",
        "  model.add(layers.MaxPooling2D((2, 2)))\n",
        "  model.add(layers.Conv2D(64, (3, 3), activation=activation))\n",
        "  model.add(layers.Flatten())\n",
        "  model.add(layers.Dense(64, activation=activation))\n",
        "  model.add(layers.Dense(10, activation='softmax'))\n",
        "  model.compile(optimizer=optimizer, loss='categorical_crossentropy',metrics=['accuracy'])\n",
        "  return model"
      ],
      "execution_count": 28,
      "outputs": []
    },
    {
      "cell_type": "code",
      "metadata": {
        "colab": {
          "base_uri": "https://localhost:8080/"
        },
        "id": "S7Zjtdjzl5cu",
        "outputId": "338f1dc4-d20c-4965-dd64-cdaec6baf1f0"
      },
      "source": [
        "from sklearn.model_selection import GridSearchCV\n",
        "from keras.wrappers.scikit_learn import KerasClassifier\n",
        "model  = KerasClassifier(build_fn=create_model,epochs=5,batch_size=64,verbose=0)\n",
        "optimizer = ['SGD', 'RMSprop', 'Adagrad', 'Adadelta', 'Adam', 'Adamax', 'Nadam']\n",
        "activation=['softmax', 'softplus', 'softsign', 'relu', 'tanh', 'sigmoid', 'hard_sigmoid', 'linear']\n",
        "param_grid = dict(optimizer=optimizer,activation=activation)\n",
        "grid = GridSearchCV(estimator=model, param_grid=param_grid, n_jobs=-1, cv=3)\n",
        "grid_result = grid.fit(train_images, train_labels, validation_split=0.2)\n",
        "# summarize results\n",
        "print(\"Best: %f using %s\" % (grid_result.best_score_, grid_result.best_params_))\n",
        "means = grid_result.cv_results_['mean_test_score']\n",
        "stds = grid_result.cv_results_['std_test_score']\n",
        "params = grid_result.cv_results_['params']\n",
        "for mean, stdev, param in zip(means, stds, params):\n",
        "    print(\"%f (%f) with: %r\" % (mean, stdev, param))"
      ],
      "execution_count": 29,
      "outputs": [
        {
          "output_type": "stream",
          "text": [
            "/usr/local/lib/python3.7/dist-packages/joblib/externals/loky/process_executor.py:691: UserWarning: A worker stopped while some jobs were given to the executor. This can be caused by a too short worker timeout or by a memory leak.\n",
            "  \"timeout or by a memory leak.\", UserWarning\n"
          ],
          "name": "stderr"
        },
        {
          "output_type": "stream",
          "text": [
            "Best: 0.986633 using {'activation': 'softsign', 'optimizer': 'RMSprop'}\n",
            "0.112367 (0.002416) with: {'activation': 'softmax', 'optimizer': 'SGD'}\n",
            "0.658650 (0.079780) with: {'activation': 'softmax', 'optimizer': 'RMSprop'}\n",
            "0.103483 (0.007610) with: {'activation': 'softmax', 'optimizer': 'Adagrad'}\n",
            "0.102283 (0.004754) with: {'activation': 'softmax', 'optimizer': 'Adadelta'}\n",
            "0.626750 (0.050270) with: {'activation': 'softmax', 'optimizer': 'Adam'}\n",
            "0.112367 (0.002416) with: {'activation': 'softmax', 'optimizer': 'Adamax'}\n",
            "0.677467 (0.087507) with: {'activation': 'softmax', 'optimizer': 'Nadam'}\n",
            "0.905417 (0.011709) with: {'activation': 'softplus', 'optimizer': 'SGD'}\n",
            "0.979683 (0.001704) with: {'activation': 'softplus', 'optimizer': 'RMSprop'}\n",
            "0.352133 (0.125244) with: {'activation': 'softplus', 'optimizer': 'Adagrad'}\n",
            "0.112367 (0.002416) with: {'activation': 'softplus', 'optimizer': 'Adadelta'}\n",
            "0.979450 (0.001030) with: {'activation': 'softplus', 'optimizer': 'Adam'}\n",
            "0.969783 (0.001358) with: {'activation': 'softplus', 'optimizer': 'Adamax'}\n",
            "0.980167 (0.001752) with: {'activation': 'softplus', 'optimizer': 'Nadam'}\n",
            "0.909317 (0.001906) with: {'activation': 'softsign', 'optimizer': 'SGD'}\n",
            "0.986633 (0.000470) with: {'activation': 'softsign', 'optimizer': 'RMSprop'}\n",
            "0.825883 (0.006186) with: {'activation': 'softsign', 'optimizer': 'Adagrad'}\n",
            "0.550500 (0.015029) with: {'activation': 'softsign', 'optimizer': 'Adadelta'}\n",
            "0.984000 (0.002312) with: {'activation': 'softsign', 'optimizer': 'Adam'}\n",
            "0.981967 (0.000370) with: {'activation': 'softsign', 'optimizer': 'Adamax'}\n",
            "0.985750 (0.000857) with: {'activation': 'softsign', 'optimizer': 'Nadam'}\n",
            "0.958600 (0.005059) with: {'activation': 'relu', 'optimizer': 'SGD'}\n",
            "0.986383 (0.002000) with: {'activation': 'relu', 'optimizer': 'RMSprop'}\n",
            "0.880417 (0.001761) with: {'activation': 'relu', 'optimizer': 'Adagrad'}\n",
            "0.350267 (0.042688) with: {'activation': 'relu', 'optimizer': 'Adadelta'}\n",
            "0.984467 (0.003069) with: {'activation': 'relu', 'optimizer': 'Adam'}\n",
            "0.982333 (0.001452) with: {'activation': 'relu', 'optimizer': 'Adamax'}\n",
            "0.984867 (0.000290) with: {'activation': 'relu', 'optimizer': 'Nadam'}\n",
            "0.948467 (0.002465) with: {'activation': 'tanh', 'optimizer': 'SGD'}\n",
            "0.985867 (0.000806) with: {'activation': 'tanh', 'optimizer': 'RMSprop'}\n",
            "0.883983 (0.004635) with: {'activation': 'tanh', 'optimizer': 'Adagrad'}\n",
            "0.615567 (0.011408) with: {'activation': 'tanh', 'optimizer': 'Adadelta'}\n",
            "0.985467 (0.001143) with: {'activation': 'tanh', 'optimizer': 'Adam'}\n",
            "0.983867 (0.000527) with: {'activation': 'tanh', 'optimizer': 'Adamax'}\n",
            "0.985233 (0.002535) with: {'activation': 'tanh', 'optimizer': 'Nadam'}\n",
            "0.112367 (0.002416) with: {'activation': 'sigmoid', 'optimizer': 'SGD'}\n",
            "0.972417 (0.000880) with: {'activation': 'sigmoid', 'optimizer': 'RMSprop'}\n",
            "0.112367 (0.002416) with: {'activation': 'sigmoid', 'optimizer': 'Adagrad'}\n",
            "0.101717 (0.005279) with: {'activation': 'sigmoid', 'optimizer': 'Adadelta'}\n",
            "0.973367 (0.002451) with: {'activation': 'sigmoid', 'optimizer': 'Adam'}\n",
            "0.936183 (0.006867) with: {'activation': 'sigmoid', 'optimizer': 'Adamax'}\n",
            "0.976817 (0.000205) with: {'activation': 'sigmoid', 'optimizer': 'Nadam'}\n",
            "0.112367 (0.002416) with: {'activation': 'hard_sigmoid', 'optimizer': 'SGD'}\n",
            "0.970333 (0.002330) with: {'activation': 'hard_sigmoid', 'optimizer': 'RMSprop'}\n",
            "0.112367 (0.002416) with: {'activation': 'hard_sigmoid', 'optimizer': 'Adagrad'}\n",
            "0.103767 (0.007389) with: {'activation': 'hard_sigmoid', 'optimizer': 'Adadelta'}\n",
            "0.974250 (0.001736) with: {'activation': 'hard_sigmoid', 'optimizer': 'Adam'}\n",
            "0.942783 (0.004974) with: {'activation': 'hard_sigmoid', 'optimizer': 'Adamax'}\n",
            "0.975250 (0.001050) with: {'activation': 'hard_sigmoid', 'optimizer': 'Nadam'}\n",
            "0.959700 (0.001952) with: {'activation': 'linear', 'optimizer': 'SGD'}\n",
            "0.978450 (0.000972) with: {'activation': 'linear', 'optimizer': 'RMSprop'}\n",
            "0.897533 (0.006489) with: {'activation': 'linear', 'optimizer': 'Adagrad'}\n",
            "0.589150 (0.044265) with: {'activation': 'linear', 'optimizer': 'Adadelta'}\n",
            "0.978167 (0.001329) with: {'activation': 'linear', 'optimizer': 'Adam'}\n",
            "0.979183 (0.001296) with: {'activation': 'linear', 'optimizer': 'Adamax'}\n",
            "0.978250 (0.000756) with: {'activation': 'linear', 'optimizer': 'Nadam'}\n"
          ],
          "name": "stdout"
        }
      ]
    },
    {
      "cell_type": "code",
      "metadata": {
        "colab": {
          "base_uri": "https://localhost:8080/"
        },
        "id": "bqLKig7wnkp8",
        "outputId": "e1aef320-7e75-416f-abf2-a1673b50c3fb"
      },
      "source": [
        "model  = KerasClassifier(build_fn=create_model,optimizer='RMSprop',epochs=5,verbose=0)\n",
        "batch_size = [10, 20, 40, 60, 80, 100]\n",
        "epochs = [10, 50, 100]\n",
        "param_grid = dict(batch_size=batch_size)\n",
        "grid = GridSearchCV(estimator=model, param_grid=param_grid, cv=3)\n",
        "grid_result = grid.fit(train_images, train_labels, validation_split=0.2)\n",
        "# summarize results\n",
        "print(\"Best: %f using %s\" % (grid_result.best_score_, grid_result.best_params_))\n",
        "means = grid_result.cv_results_['mean_test_score']\n",
        "stds = grid_result.cv_results_['std_test_score']\n",
        "params = grid_result.cv_results_['params']\n",
        "for mean, stdev, param in zip(means, stds, params):\n",
        "    print(\"%f (%f) with: %r\" % (mean, stdev, param))"
      ],
      "execution_count": 25,
      "outputs": [
        {
          "output_type": "stream",
          "text": [
            "Best: 0.987417 using {'batch_size': 20}\n",
            "0.979483 (0.007647) with: {'batch_size': 10}\n",
            "0.987417 (0.000910) with: {'batch_size': 20}\n",
            "0.987350 (0.000147) with: {'batch_size': 40}\n",
            "0.986567 (0.000579) with: {'batch_size': 60}\n",
            "0.985817 (0.001329) with: {'batch_size': 80}\n",
            "0.986817 (0.000684) with: {'batch_size': 100}\n"
          ],
          "name": "stdout"
        }
      ]
    },
    {
      "cell_type": "code",
      "metadata": {
        "colab": {
          "base_uri": "https://localhost:8080/"
        },
        "id": "cFeZtNNjlsyo",
        "outputId": "92ad4ce0-c114-4093-f56d-a19b3e985248"
      },
      "source": [
        "model = models.Sequential()\n",
        "model.add(layers.Conv2D(32, (3, 3), activation='softsign', input_shape=(28, 28, 1)))\n",
        "\n",
        "model.add(layers.MaxPooling2D((2, 2)))\n",
        "model.add(layers.Conv2D(64, (3, 3), activation='softsign'))\n",
        "\n",
        "model.add(layers.MaxPooling2D((2, 2)))\n",
        "model.add(layers.Conv2D(64, (3, 3), activation='softsign'))\n",
        "\n",
        "model.add(layers.Flatten())\n",
        "model.add(layers.Dense(64, activation='softsign'))\n",
        "model.add(layers.Dense(10, activation='softmax'))\n",
        "\n",
        "model.compile(optimizer='RMSprop', loss='categorical_crossentropy', metrics=['accuracy'])\n",
        "model.fit(train_images, train_labels, epochs=10, batch_size=20, validation_split=0.2)\n",
        "\n",
        "test_loss, test_acc = model.evaluate(test_images, test_labels)\n",
        "test_acc\n"
      ],
      "execution_count": 26,
      "outputs": [
        {
          "output_type": "stream",
          "text": [
            "Epoch 1/10\n",
            "2400/2400 [==============================] - 10s 4ms/step - loss: 0.3097 - accuracy: 0.9146 - val_loss: 0.0621 - val_accuracy: 0.9812\n",
            "Epoch 2/10\n",
            "2400/2400 [==============================] - 9s 4ms/step - loss: 0.0552 - accuracy: 0.9827 - val_loss: 0.0462 - val_accuracy: 0.9860\n",
            "Epoch 3/10\n",
            "2400/2400 [==============================] - 9s 4ms/step - loss: 0.0343 - accuracy: 0.9892 - val_loss: 0.0504 - val_accuracy: 0.9842\n",
            "Epoch 4/10\n",
            "2400/2400 [==============================] - 9s 4ms/step - loss: 0.0250 - accuracy: 0.9922 - val_loss: 0.0464 - val_accuracy: 0.9868\n",
            "Epoch 5/10\n",
            "2400/2400 [==============================] - 9s 4ms/step - loss: 0.0220 - accuracy: 0.9939 - val_loss: 0.0433 - val_accuracy: 0.9894\n",
            "Epoch 6/10\n",
            "2400/2400 [==============================] - 9s 4ms/step - loss: 0.0145 - accuracy: 0.9956 - val_loss: 0.0409 - val_accuracy: 0.9899\n",
            "Epoch 7/10\n",
            "2400/2400 [==============================] - 9s 4ms/step - loss: 0.0115 - accuracy: 0.9963 - val_loss: 0.0732 - val_accuracy: 0.9809\n",
            "Epoch 8/10\n",
            "2400/2400 [==============================] - 9s 4ms/step - loss: 0.0089 - accuracy: 0.9971 - val_loss: 0.0397 - val_accuracy: 0.9898\n",
            "Epoch 9/10\n",
            "2400/2400 [==============================] - 9s 4ms/step - loss: 0.0066 - accuracy: 0.9978 - val_loss: 0.0469 - val_accuracy: 0.9900\n",
            "Epoch 10/10\n",
            "2400/2400 [==============================] - 9s 4ms/step - loss: 0.0060 - accuracy: 0.9980 - val_loss: 0.0484 - val_accuracy: 0.9895\n",
            "313/313 [==============================] - 1s 3ms/step - loss: 0.0401 - accuracy: 0.9920\n"
          ],
          "name": "stdout"
        },
        {
          "output_type": "execute_result",
          "data": {
            "text/plain": [
              "0.9919999837875366"
            ]
          },
          "metadata": {
            "tags": []
          },
          "execution_count": 26
        }
      ]
    }
  ]
}