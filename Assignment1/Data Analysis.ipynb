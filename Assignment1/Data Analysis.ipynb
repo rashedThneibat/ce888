{
 "cells": [
  {
   "cell_type": "markdown",
   "metadata": {},
   "source": [
    "# Project3 - Police Bias - Datasets Analysis\n",
    "\n",
    "**Aims:**\n",
    "\n",
    "- Determining if the UK police is biased through using publicaly available datasets:\n",
    "\n",
    "     **1.UK Population by ethnicity (Latest)** https://www.ethnicity-facts-figures.service.gov.uk/uk-population-by-ethnicity/national-and-regional-populations/population-of-england-and-wales/latest\n",
    "\n",
    "    **2. All UK arrests by ethnicity (2013 - 2019)** https://www.ethnicity-facts-figures.service.gov.uk/crime-justice-and-the-law/policing/number-of-arrests/latest#download-the-data \n",
    "    \n",
    "    **3.Police work force by ethnicity (2007 - 2019)** https://data.gov.uk/dataset/6050668e-12fe-49d1-9018-74309cdd3037/police-workforce-by-ethnicity\n",
    "    \n",
    "    **4.Stop and search by ethnicity (2007 - 2018)** https://data.gov.uk/dataset/0dd6014a-bc2c-48b4-81e5-adfb2550c096/stop-and-search-by-ethnicity\n",
    "    \n",
    "    **5.Prosecutions and convictions by ethnicity (2009 - 2017)** https://data.gov.uk/dataset/0cb4d81a-8a2b-47c1-a3a5-53257f05b095/prosecutions-and-convictions-by-ethnicity\n",
    "    \n",
    "    **6.Victims of crime by ethnicity (2013 - 2019)** https://data.gov.uk/dataset/79e025d2-e411-45b5-b96f-06919ee698c7/victims-of-crime-by-ethnicity\n",
    "    \n"
   ]
  },
  {
   "cell_type": "markdown",
   "metadata": {},
   "source": [
    "##  Individual Pre-processing &Data Analysis \n",
    "\n",
    "**Individual Pre-processing:**\n",
    "This section focuses on preprocessing each file individualy before merging the files; however, additional preprocessing will be covered in a different section where we mitigate the bias through advanced pre-processing techniques.\n",
    "\n",
    "**Data Analysis:**\n",
    "This section will analyze each file individually and highlight their most important aspects and relationships through plots before merging different datasets together.\n",
    "\n"
   ]
  },
  {
   "cell_type": "code",
   "execution_count": 946,
   "metadata": {},
   "outputs": [],
   "source": [
    "%matplotlib inline\n",
    "import matplotlib\n",
    "import numpy as np\n",
    "import matplotlib.pyplot as plt\n",
    "import pandas as pd\n",
    "import seaborn as sns\n",
    "import itertools\n",
    "import plotly.express as px\n",
    "import plotly.graph_objects as go\n"
   ]
  },
  {
   "cell_type": "code",
   "execution_count": 947,
   "metadata": {},
   "outputs": [
    {
     "name": "stderr",
     "output_type": "stream",
     "text": [
      "C:\\Users\\rashe\\anaconda3\\lib\\site-packages\\IPython\\core\\interactiveshell.py:3063: DtypeWarning:\n",
      "\n",
      "Columns (14) have mixed types.Specify dtype option on import or set low_memory=False.\n",
      "\n"
     ]
    }
   ],
   "source": [
    "raw_uk_population_by_ethnicity = pd.read_csv(\"final data/by-ethnicity.csv\")\n",
    "raw_arrests_ethnicity = pd.read_csv(\"final data/13-19 arrests nationwide.csv\")\n",
    "raw_police_force_ethnicity = pd.read_csv(\"final data/police-workforce.csv\")\n",
    "raw_StopSearch_ethnicity = pd.read_csv(\"final data/stop-and-search.csv\")\n",
    "raw_prosecution_convictions_ethnicity = pd.read_csv(\"final data/prosecutions-and-convictions.csv\")\n",
    "# victims by ethnicity had some non utf-8 encoded data, so python engine had to be used to disregard the mixed encodings in the file\n",
    "raw_victims_ethnicity = pd.read_csv(\"final data/victims_of_crime.csv\", engine='python')\n"
   ]
  },
  {
   "cell_type": "markdown",
   "metadata": {},
   "source": [
    "### UK Latest Population Ethnic Percentage\n",
    "\n",
    "This dataset contains the latest percentages of ethnicity in the UK population in (2011 - latest census)"
   ]
  },
  {
   "cell_type": "code",
   "execution_count": 948,
   "metadata": {},
   "outputs": [
    {
     "data": {
      "text/html": [
       "<div>\n",
       "<style scoped>\n",
       "    .dataframe tbody tr th:only-of-type {\n",
       "        vertical-align: middle;\n",
       "    }\n",
       "\n",
       "    .dataframe tbody tr th {\n",
       "        vertical-align: top;\n",
       "    }\n",
       "\n",
       "    .dataframe thead th {\n",
       "        text-align: right;\n",
       "    }\n",
       "</style>\n",
       "<table border=\"1\" class=\"dataframe\">\n",
       "  <thead>\n",
       "    <tr style=\"text-align: right;\">\n",
       "      <th></th>\n",
       "      <th>Ethnicity</th>\n",
       "      <th>Number</th>\n",
       "      <th>%</th>\n",
       "    </tr>\n",
       "  </thead>\n",
       "  <tbody>\n",
       "    <tr>\n",
       "      <th>2</th>\n",
       "      <td>Bangladeshi</td>\n",
       "      <td>447,201</td>\n",
       "      <td>0.8</td>\n",
       "    </tr>\n",
       "    <tr>\n",
       "      <th>3</th>\n",
       "      <td>Chinese</td>\n",
       "      <td>393,141</td>\n",
       "      <td>0.7</td>\n",
       "    </tr>\n",
       "    <tr>\n",
       "      <th>4</th>\n",
       "      <td>Indian</td>\n",
       "      <td>1,412,958</td>\n",
       "      <td>2.5</td>\n",
       "    </tr>\n",
       "    <tr>\n",
       "      <th>5</th>\n",
       "      <td>Pakistani</td>\n",
       "      <td>1,124,511</td>\n",
       "      <td>2.0</td>\n",
       "    </tr>\n",
       "    <tr>\n",
       "      <th>6</th>\n",
       "      <td>Asian other</td>\n",
       "      <td>835,720</td>\n",
       "      <td>1.5</td>\n",
       "    </tr>\n",
       "    <tr>\n",
       "      <th>8</th>\n",
       "      <td>Black African</td>\n",
       "      <td>989,628</td>\n",
       "      <td>1.8</td>\n",
       "    </tr>\n",
       "    <tr>\n",
       "      <th>9</th>\n",
       "      <td>Black Caribbean</td>\n",
       "      <td>594,825</td>\n",
       "      <td>1.1</td>\n",
       "    </tr>\n",
       "    <tr>\n",
       "      <th>10</th>\n",
       "      <td>Black other</td>\n",
       "      <td>280,437</td>\n",
       "      <td>0.5</td>\n",
       "    </tr>\n",
       "    <tr>\n",
       "      <th>12</th>\n",
       "      <td>Mixed White/Asian</td>\n",
       "      <td>341,727</td>\n",
       "      <td>0.6</td>\n",
       "    </tr>\n",
       "    <tr>\n",
       "      <th>13</th>\n",
       "      <td>Mixed White/Black African</td>\n",
       "      <td>165,974</td>\n",
       "      <td>0.3</td>\n",
       "    </tr>\n",
       "    <tr>\n",
       "      <th>14</th>\n",
       "      <td>Mixed White/Black Caribbean</td>\n",
       "      <td>426,715</td>\n",
       "      <td>0.8</td>\n",
       "    </tr>\n",
       "    <tr>\n",
       "      <th>15</th>\n",
       "      <td>Mixed other</td>\n",
       "      <td>289,984</td>\n",
       "      <td>0.5</td>\n",
       "    </tr>\n",
       "    <tr>\n",
       "      <th>17</th>\n",
       "      <td>White British</td>\n",
       "      <td>45,134,686</td>\n",
       "      <td>80.5</td>\n",
       "    </tr>\n",
       "    <tr>\n",
       "      <th>18</th>\n",
       "      <td>White Irish</td>\n",
       "      <td>531,087</td>\n",
       "      <td>0.9</td>\n",
       "    </tr>\n",
       "    <tr>\n",
       "      <th>19</th>\n",
       "      <td>White Gypsy/Traveller</td>\n",
       "      <td>57,680</td>\n",
       "      <td>0.1</td>\n",
       "    </tr>\n",
       "    <tr>\n",
       "      <th>20</th>\n",
       "      <td>White other</td>\n",
       "      <td>2,485,942</td>\n",
       "      <td>4.4</td>\n",
       "    </tr>\n",
       "    <tr>\n",
       "      <th>22</th>\n",
       "      <td>Arab</td>\n",
       "      <td>230,600</td>\n",
       "      <td>0.4</td>\n",
       "    </tr>\n",
       "    <tr>\n",
       "      <th>23</th>\n",
       "      <td>Any other</td>\n",
       "      <td>333,096</td>\n",
       "      <td>0.6</td>\n",
       "    </tr>\n",
       "  </tbody>\n",
       "</table>\n",
       "</div>"
      ],
      "text/plain": [
       "                      Ethnicity      Number     %\n",
       "2                   Bangladeshi     447,201   0.8\n",
       "3                       Chinese     393,141   0.7\n",
       "4                        Indian   1,412,958   2.5\n",
       "5                     Pakistani   1,124,511   2.0\n",
       "6                   Asian other     835,720   1.5\n",
       "8                 Black African     989,628   1.8\n",
       "9               Black Caribbean     594,825   1.1\n",
       "10                  Black other     280,437   0.5\n",
       "12            Mixed White/Asian     341,727   0.6\n",
       "13    Mixed White/Black African     165,974   0.3\n",
       "14  Mixed White/Black Caribbean     426,715   0.8\n",
       "15                  Mixed other     289,984   0.5\n",
       "17                White British  45,134,686  80.5\n",
       "18                  White Irish     531,087   0.9\n",
       "19        White Gypsy/Traveller      57,680   0.1\n",
       "20                  White other   2,485,942   4.4\n",
       "22                         Arab     230,600   0.4\n",
       "23                    Any other     333,096   0.6"
      ]
     },
     "execution_count": 948,
     "metadata": {},
     "output_type": "execute_result"
    }
   ],
   "source": [
    "# Showing the structure of the loaded csv file\n",
    "raw_uk_population_by_ethnicity = raw_uk_population_by_ethnicity[~raw_uk_population_by_ethnicity.Ethnicity.isin(['All','Asian','Black','Mixed','White','Other'])]\n",
    "raw_uk_population_by_ethnicity"
   ]
  },
  {
   "cell_type": "markdown",
   "metadata": {},
   "source": [
    "**Below: Under each general ethnicity (e.g- 'Asian', 'Black', etc..) we will sum their total number and generate a new dataframe with the new accumulated population number.**"
   ]
  },
  {
   "cell_type": "code",
   "execution_count": 949,
   "metadata": {
    "scrolled": true
   },
   "outputs": [
    {
     "data": {
      "text/html": [
       "<div>\n",
       "<style scoped>\n",
       "    .dataframe tbody tr th:only-of-type {\n",
       "        vertical-align: middle;\n",
       "    }\n",
       "\n",
       "    .dataframe tbody tr th {\n",
       "        vertical-align: top;\n",
       "    }\n",
       "\n",
       "    .dataframe thead th {\n",
       "        text-align: right;\n",
       "    }\n",
       "</style>\n",
       "<table border=\"1\" class=\"dataframe\">\n",
       "  <thead>\n",
       "    <tr style=\"text-align: right;\">\n",
       "      <th></th>\n",
       "      <th>Number</th>\n",
       "    </tr>\n",
       "    <tr>\n",
       "      <th>Ethnicity</th>\n",
       "      <th></th>\n",
       "    </tr>\n",
       "  </thead>\n",
       "  <tbody>\n",
       "    <tr>\n",
       "      <th>White</th>\n",
       "      <td>48209395.0</td>\n",
       "    </tr>\n",
       "    <tr>\n",
       "      <th>Asian</th>\n",
       "      <td>4213531.0</td>\n",
       "    </tr>\n",
       "    <tr>\n",
       "      <th>Black</th>\n",
       "      <td>1864890.0</td>\n",
       "    </tr>\n",
       "    <tr>\n",
       "      <th>Mixed</th>\n",
       "      <td>1224400.0</td>\n",
       "    </tr>\n",
       "    <tr>\n",
       "      <th>Other</th>\n",
       "      <td>563696.0</td>\n",
       "    </tr>\n",
       "  </tbody>\n",
       "</table>\n",
       "</div>"
      ],
      "text/plain": [
       "               Number\n",
       "Ethnicity            \n",
       "White      48209395.0\n",
       "Asian       4213531.0\n",
       "Black       1864890.0\n",
       "Mixed       1224400.0\n",
       "Other        563696.0"
      ]
     },
     "execution_count": 949,
     "metadata": {},
     "output_type": "execute_result"
    }
   ],
   "source": [
    "demographic_ethnic_groups = {'Pakistani':'Asian','Bangladeshi':'Asian','Indian':'Asian','Asian other':'Asian','Chinese':'Asian','Black other':'Black','Black African':'Black','Black Caribbean':'Black','Mixed White/Black African':'Mixed','Mixed White/Black Caribbean':'Mixed','Mixed White/Asian':'Mixed','Mixed other':'Mixed','White British':'White','White Irish':'White','White Gypsy/Traveller':'White','White other':'White','Arab':'Other','Any other':'Other'  }\n",
    "raw_uk_population_by_ethnicity=raw_uk_population_by_ethnicity.replace({\"Ethnicity\":demographic_ethnic_groups})\n",
    "raw_uk_population_by_ethnicity['Number'] = raw_uk_population_by_ethnicity['Number'].str.replace(',', '').astype(float)\n",
    "uk_population_aggregated_by_race=pd.DataFrame((raw_uk_population_by_ethnicity.groupby('Ethnicity')['Number']).sum().sort_values(ascending=False))\n",
    "uk_population_aggregated_by_race"
   ]
  },
  {
   "cell_type": "markdown",
   "metadata": {},
   "source": [
    "**Pie Chart Below:** Hover over any section with the mouse to show the real number of individuals instead of percentage.\n",
    "\n",
    "   1. **It can be seen that 86% of the UK population belong to the white ethnicity.**\n",
    "   2. **The black ethnicity forms only a 3.33% from the UK population; therefore, the black community are considered minorities in the UK.**\n",
    "   3. **There is a very large gap between the white ethnicity and the black ethnicity of arround 46344505 individuals.**"
   ]
  },
  {
   "cell_type": "code",
   "execution_count": 950,
   "metadata": {},
   "outputs": [
    {
     "data": {
      "application/vnd.plotly.v1+json": {
       "config": {
        "plotlyServerURL": "https://plot.ly"
       },
       "data": [
        {
         "domain": {
          "x": [
           0,
           1
          ],
          "y": [
           0,
           1
          ]
         },
         "hole": 0.4,
         "hoverlabel": {
          "namelength": 0
         },
         "hovertemplate": "label=%{label}<br>Number=%{value}",
         "labels": [
          "White",
          "Asian",
          "Black",
          "Mixed",
          "Other"
         ],
         "legendgroup": "",
         "marker": {
          "line": {
           "color": "black",
           "width": 1
          }
         },
         "name": "",
         "pull": [
          0,
          0.2
         ],
         "showlegend": true,
         "textinfo": "percent+label",
         "textposition": "inside",
         "type": "pie",
         "values": [
          48209395,
          4213531,
          1864890,
          1224400,
          563696
         ]
        }
       ],
       "layout": {
        "height": 600,
        "legend": {
         "tracegroupgap": 0
        },
        "margin": {
         "t": 60
        },
        "piecolorway": [
         "rgb(102, 197, 204)",
         "rgb(246, 207, 113)",
         "rgb(248, 156, 116)",
         "rgb(220, 176, 242)",
         "rgb(135, 197, 95)",
         "rgb(158, 185, 243)",
         "rgb(254, 136, 177)",
         "rgb(201, 219, 116)",
         "rgb(139, 224, 164)",
         "rgb(180, 151, 231)",
         "rgb(179, 179, 179)"
        ],
        "template": {
         "data": {
          "bar": [
           {
            "error_x": {
             "color": "#2a3f5f"
            },
            "error_y": {
             "color": "#2a3f5f"
            },
            "marker": {
             "line": {
              "color": "white",
              "width": 0.5
             }
            },
            "type": "bar"
           }
          ],
          "barpolar": [
           {
            "marker": {
             "line": {
              "color": "white",
              "width": 0.5
             }
            },
            "type": "barpolar"
           }
          ],
          "carpet": [
           {
            "aaxis": {
             "endlinecolor": "#2a3f5f",
             "gridcolor": "#C8D4E3",
             "linecolor": "#C8D4E3",
             "minorgridcolor": "#C8D4E3",
             "startlinecolor": "#2a3f5f"
            },
            "baxis": {
             "endlinecolor": "#2a3f5f",
             "gridcolor": "#C8D4E3",
             "linecolor": "#C8D4E3",
             "minorgridcolor": "#C8D4E3",
             "startlinecolor": "#2a3f5f"
            },
            "type": "carpet"
           }
          ],
          "choropleth": [
           {
            "colorbar": {
             "outlinewidth": 0,
             "ticks": ""
            },
            "type": "choropleth"
           }
          ],
          "contour": [
           {
            "colorbar": {
             "outlinewidth": 0,
             "ticks": ""
            },
            "colorscale": [
             [
              0,
              "#0d0887"
             ],
             [
              0.1111111111111111,
              "#46039f"
             ],
             [
              0.2222222222222222,
              "#7201a8"
             ],
             [
              0.3333333333333333,
              "#9c179e"
             ],
             [
              0.4444444444444444,
              "#bd3786"
             ],
             [
              0.5555555555555556,
              "#d8576b"
             ],
             [
              0.6666666666666666,
              "#ed7953"
             ],
             [
              0.7777777777777778,
              "#fb9f3a"
             ],
             [
              0.8888888888888888,
              "#fdca26"
             ],
             [
              1,
              "#f0f921"
             ]
            ],
            "type": "contour"
           }
          ],
          "contourcarpet": [
           {
            "colorbar": {
             "outlinewidth": 0,
             "ticks": ""
            },
            "type": "contourcarpet"
           }
          ],
          "heatmap": [
           {
            "colorbar": {
             "outlinewidth": 0,
             "ticks": ""
            },
            "colorscale": [
             [
              0,
              "#0d0887"
             ],
             [
              0.1111111111111111,
              "#46039f"
             ],
             [
              0.2222222222222222,
              "#7201a8"
             ],
             [
              0.3333333333333333,
              "#9c179e"
             ],
             [
              0.4444444444444444,
              "#bd3786"
             ],
             [
              0.5555555555555556,
              "#d8576b"
             ],
             [
              0.6666666666666666,
              "#ed7953"
             ],
             [
              0.7777777777777778,
              "#fb9f3a"
             ],
             [
              0.8888888888888888,
              "#fdca26"
             ],
             [
              1,
              "#f0f921"
             ]
            ],
            "type": "heatmap"
           }
          ],
          "heatmapgl": [
           {
            "colorbar": {
             "outlinewidth": 0,
             "ticks": ""
            },
            "colorscale": [
             [
              0,
              "#0d0887"
             ],
             [
              0.1111111111111111,
              "#46039f"
             ],
             [
              0.2222222222222222,
              "#7201a8"
             ],
             [
              0.3333333333333333,
              "#9c179e"
             ],
             [
              0.4444444444444444,
              "#bd3786"
             ],
             [
              0.5555555555555556,
              "#d8576b"
             ],
             [
              0.6666666666666666,
              "#ed7953"
             ],
             [
              0.7777777777777778,
              "#fb9f3a"
             ],
             [
              0.8888888888888888,
              "#fdca26"
             ],
             [
              1,
              "#f0f921"
             ]
            ],
            "type": "heatmapgl"
           }
          ],
          "histogram": [
           {
            "marker": {
             "colorbar": {
              "outlinewidth": 0,
              "ticks": ""
             }
            },
            "type": "histogram"
           }
          ],
          "histogram2d": [
           {
            "colorbar": {
             "outlinewidth": 0,
             "ticks": ""
            },
            "colorscale": [
             [
              0,
              "#0d0887"
             ],
             [
              0.1111111111111111,
              "#46039f"
             ],
             [
              0.2222222222222222,
              "#7201a8"
             ],
             [
              0.3333333333333333,
              "#9c179e"
             ],
             [
              0.4444444444444444,
              "#bd3786"
             ],
             [
              0.5555555555555556,
              "#d8576b"
             ],
             [
              0.6666666666666666,
              "#ed7953"
             ],
             [
              0.7777777777777778,
              "#fb9f3a"
             ],
             [
              0.8888888888888888,
              "#fdca26"
             ],
             [
              1,
              "#f0f921"
             ]
            ],
            "type": "histogram2d"
           }
          ],
          "histogram2dcontour": [
           {
            "colorbar": {
             "outlinewidth": 0,
             "ticks": ""
            },
            "colorscale": [
             [
              0,
              "#0d0887"
             ],
             [
              0.1111111111111111,
              "#46039f"
             ],
             [
              0.2222222222222222,
              "#7201a8"
             ],
             [
              0.3333333333333333,
              "#9c179e"
             ],
             [
              0.4444444444444444,
              "#bd3786"
             ],
             [
              0.5555555555555556,
              "#d8576b"
             ],
             [
              0.6666666666666666,
              "#ed7953"
             ],
             [
              0.7777777777777778,
              "#fb9f3a"
             ],
             [
              0.8888888888888888,
              "#fdca26"
             ],
             [
              1,
              "#f0f921"
             ]
            ],
            "type": "histogram2dcontour"
           }
          ],
          "mesh3d": [
           {
            "colorbar": {
             "outlinewidth": 0,
             "ticks": ""
            },
            "type": "mesh3d"
           }
          ],
          "parcoords": [
           {
            "line": {
             "colorbar": {
              "outlinewidth": 0,
              "ticks": ""
             }
            },
            "type": "parcoords"
           }
          ],
          "pie": [
           {
            "automargin": true,
            "type": "pie"
           }
          ],
          "scatter": [
           {
            "marker": {
             "colorbar": {
              "outlinewidth": 0,
              "ticks": ""
             }
            },
            "type": "scatter"
           }
          ],
          "scatter3d": [
           {
            "line": {
             "colorbar": {
              "outlinewidth": 0,
              "ticks": ""
             }
            },
            "marker": {
             "colorbar": {
              "outlinewidth": 0,
              "ticks": ""
             }
            },
            "type": "scatter3d"
           }
          ],
          "scattercarpet": [
           {
            "marker": {
             "colorbar": {
              "outlinewidth": 0,
              "ticks": ""
             }
            },
            "type": "scattercarpet"
           }
          ],
          "scattergeo": [
           {
            "marker": {
             "colorbar": {
              "outlinewidth": 0,
              "ticks": ""
             }
            },
            "type": "scattergeo"
           }
          ],
          "scattergl": [
           {
            "marker": {
             "colorbar": {
              "outlinewidth": 0,
              "ticks": ""
             }
            },
            "type": "scattergl"
           }
          ],
          "scattermapbox": [
           {
            "marker": {
             "colorbar": {
              "outlinewidth": 0,
              "ticks": ""
             }
            },
            "type": "scattermapbox"
           }
          ],
          "scatterpolar": [
           {
            "marker": {
             "colorbar": {
              "outlinewidth": 0,
              "ticks": ""
             }
            },
            "type": "scatterpolar"
           }
          ],
          "scatterpolargl": [
           {
            "marker": {
             "colorbar": {
              "outlinewidth": 0,
              "ticks": ""
             }
            },
            "type": "scatterpolargl"
           }
          ],
          "scatterternary": [
           {
            "marker": {
             "colorbar": {
              "outlinewidth": 0,
              "ticks": ""
             }
            },
            "type": "scatterternary"
           }
          ],
          "surface": [
           {
            "colorbar": {
             "outlinewidth": 0,
             "ticks": ""
            },
            "colorscale": [
             [
              0,
              "#0d0887"
             ],
             [
              0.1111111111111111,
              "#46039f"
             ],
             [
              0.2222222222222222,
              "#7201a8"
             ],
             [
              0.3333333333333333,
              "#9c179e"
             ],
             [
              0.4444444444444444,
              "#bd3786"
             ],
             [
              0.5555555555555556,
              "#d8576b"
             ],
             [
              0.6666666666666666,
              "#ed7953"
             ],
             [
              0.7777777777777778,
              "#fb9f3a"
             ],
             [
              0.8888888888888888,
              "#fdca26"
             ],
             [
              1,
              "#f0f921"
             ]
            ],
            "type": "surface"
           }
          ],
          "table": [
           {
            "cells": {
             "fill": {
              "color": "#EBF0F8"
             },
             "line": {
              "color": "white"
             }
            },
            "header": {
             "fill": {
              "color": "#C8D4E3"
             },
             "line": {
              "color": "white"
             }
            },
            "type": "table"
           }
          ]
         },
         "layout": {
          "annotationdefaults": {
           "arrowcolor": "#2a3f5f",
           "arrowhead": 0,
           "arrowwidth": 1
          },
          "coloraxis": {
           "colorbar": {
            "outlinewidth": 0,
            "ticks": ""
           }
          },
          "colorscale": {
           "diverging": [
            [
             0,
             "#8e0152"
            ],
            [
             0.1,
             "#c51b7d"
            ],
            [
             0.2,
             "#de77ae"
            ],
            [
             0.3,
             "#f1b6da"
            ],
            [
             0.4,
             "#fde0ef"
            ],
            [
             0.5,
             "#f7f7f7"
            ],
            [
             0.6,
             "#e6f5d0"
            ],
            [
             0.7,
             "#b8e186"
            ],
            [
             0.8,
             "#7fbc41"
            ],
            [
             0.9,
             "#4d9221"
            ],
            [
             1,
             "#276419"
            ]
           ],
           "sequential": [
            [
             0,
             "#0d0887"
            ],
            [
             0.1111111111111111,
             "#46039f"
            ],
            [
             0.2222222222222222,
             "#7201a8"
            ],
            [
             0.3333333333333333,
             "#9c179e"
            ],
            [
             0.4444444444444444,
             "#bd3786"
            ],
            [
             0.5555555555555556,
             "#d8576b"
            ],
            [
             0.6666666666666666,
             "#ed7953"
            ],
            [
             0.7777777777777778,
             "#fb9f3a"
            ],
            [
             0.8888888888888888,
             "#fdca26"
            ],
            [
             1,
             "#f0f921"
            ]
           ],
           "sequentialminus": [
            [
             0,
             "#0d0887"
            ],
            [
             0.1111111111111111,
             "#46039f"
            ],
            [
             0.2222222222222222,
             "#7201a8"
            ],
            [
             0.3333333333333333,
             "#9c179e"
            ],
            [
             0.4444444444444444,
             "#bd3786"
            ],
            [
             0.5555555555555556,
             "#d8576b"
            ],
            [
             0.6666666666666666,
             "#ed7953"
            ],
            [
             0.7777777777777778,
             "#fb9f3a"
            ],
            [
             0.8888888888888888,
             "#fdca26"
            ],
            [
             1,
             "#f0f921"
            ]
           ]
          },
          "colorway": [
           "#636efa",
           "#EF553B",
           "#00cc96",
           "#ab63fa",
           "#FFA15A",
           "#19d3f3",
           "#FF6692",
           "#B6E880",
           "#FF97FF",
           "#FECB52"
          ],
          "font": {
           "color": "#2a3f5f"
          },
          "geo": {
           "bgcolor": "white",
           "lakecolor": "white",
           "landcolor": "white",
           "showlakes": true,
           "showland": true,
           "subunitcolor": "#C8D4E3"
          },
          "hoverlabel": {
           "align": "left"
          },
          "hovermode": "closest",
          "mapbox": {
           "style": "light"
          },
          "paper_bgcolor": "white",
          "plot_bgcolor": "white",
          "polar": {
           "angularaxis": {
            "gridcolor": "#EBF0F8",
            "linecolor": "#EBF0F8",
            "ticks": ""
           },
           "bgcolor": "white",
           "radialaxis": {
            "gridcolor": "#EBF0F8",
            "linecolor": "#EBF0F8",
            "ticks": ""
           }
          },
          "scene": {
           "xaxis": {
            "backgroundcolor": "white",
            "gridcolor": "#DFE8F3",
            "gridwidth": 2,
            "linecolor": "#EBF0F8",
            "showbackground": true,
            "ticks": "",
            "zerolinecolor": "#EBF0F8"
           },
           "yaxis": {
            "backgroundcolor": "white",
            "gridcolor": "#DFE8F3",
            "gridwidth": 2,
            "linecolor": "#EBF0F8",
            "showbackground": true,
            "ticks": "",
            "zerolinecolor": "#EBF0F8"
           },
           "zaxis": {
            "backgroundcolor": "white",
            "gridcolor": "#DFE8F3",
            "gridwidth": 2,
            "linecolor": "#EBF0F8",
            "showbackground": true,
            "ticks": "",
            "zerolinecolor": "#EBF0F8"
           }
          },
          "shapedefaults": {
           "line": {
            "color": "#2a3f5f"
           }
          },
          "ternary": {
           "aaxis": {
            "gridcolor": "#DFE8F3",
            "linecolor": "#A2B1C6",
            "ticks": ""
           },
           "baxis": {
            "gridcolor": "#DFE8F3",
            "linecolor": "#A2B1C6",
            "ticks": ""
           },
           "bgcolor": "white",
           "caxis": {
            "gridcolor": "#DFE8F3",
            "linecolor": "#A2B1C6",
            "ticks": ""
           }
          },
          "title": {
           "x": 0.05
          },
          "xaxis": {
           "automargin": true,
           "gridcolor": "#EBF0F8",
           "linecolor": "#EBF0F8",
           "ticks": "",
           "title": {
            "standoff": 15
           },
           "zerolinecolor": "#EBF0F8",
           "zerolinewidth": 2
          },
          "yaxis": {
           "automargin": true,
           "gridcolor": "#EBF0F8",
           "linecolor": "#EBF0F8",
           "ticks": "",
           "title": {
            "standoff": 15
           },
           "zerolinecolor": "#EBF0F8",
           "zerolinewidth": 2
          }
         }
        },
        "title": {
         "text": "Demographics of the United Kingdom",
         "x": 0.5,
         "xanchor": "center",
         "y": 0.98,
         "yanchor": "top"
        }
       }
      },
      "text/html": [
       "<div>\n",
       "        \n",
       "        \n",
       "            <div id=\"fa20e354-c1dc-4240-b5ef-d3189f90a4fd\" class=\"plotly-graph-div\" style=\"height:600px; width:100%;\"></div>\n",
       "            <script type=\"text/javascript\">\n",
       "                require([\"plotly\"], function(Plotly) {\n",
       "                    window.PLOTLYENV=window.PLOTLYENV || {};\n",
       "                    \n",
       "                if (document.getElementById(\"fa20e354-c1dc-4240-b5ef-d3189f90a4fd\")) {\n",
       "                    Plotly.newPlot(\n",
       "                        'fa20e354-c1dc-4240-b5ef-d3189f90a4fd',\n",
       "                        [{\"domain\": {\"x\": [0.0, 1.0], \"y\": [0.0, 1.0]}, \"hole\": 0.4, \"hoverlabel\": {\"namelength\": 0}, \"hovertemplate\": \"label=%{label}<br>Number=%{value}\", \"labels\": [\"White\", \"Asian\", \"Black\", \"Mixed\", \"Other\"], \"legendgroup\": \"\", \"marker\": {\"line\": {\"color\": \"black\", \"width\": 1}}, \"name\": \"\", \"pull\": [0, 0.2], \"showlegend\": true, \"textinfo\": \"percent+label\", \"textposition\": \"inside\", \"type\": \"pie\", \"values\": [48209395.0, 4213531.0, 1864890.0, 1224400.0, 563696.0]}],\n",
       "                        {\"height\": 600, \"legend\": {\"tracegroupgap\": 0}, \"margin\": {\"t\": 60}, \"piecolorway\": [\"rgb(102, 197, 204)\", \"rgb(246, 207, 113)\", \"rgb(248, 156, 116)\", \"rgb(220, 176, 242)\", \"rgb(135, 197, 95)\", \"rgb(158, 185, 243)\", \"rgb(254, 136, 177)\", \"rgb(201, 219, 116)\", \"rgb(139, 224, 164)\", \"rgb(180, 151, 231)\", \"rgb(179, 179, 179)\"], \"template\": {\"data\": {\"bar\": [{\"error_x\": {\"color\": \"#2a3f5f\"}, \"error_y\": {\"color\": \"#2a3f5f\"}, \"marker\": {\"line\": {\"color\": \"white\", \"width\": 0.5}}, \"type\": \"bar\"}], \"barpolar\": [{\"marker\": {\"line\": {\"color\": \"white\", \"width\": 0.5}}, \"type\": \"barpolar\"}], \"carpet\": [{\"aaxis\": {\"endlinecolor\": \"#2a3f5f\", \"gridcolor\": \"#C8D4E3\", \"linecolor\": \"#C8D4E3\", \"minorgridcolor\": \"#C8D4E3\", \"startlinecolor\": \"#2a3f5f\"}, \"baxis\": {\"endlinecolor\": \"#2a3f5f\", \"gridcolor\": \"#C8D4E3\", \"linecolor\": \"#C8D4E3\", \"minorgridcolor\": \"#C8D4E3\", \"startlinecolor\": \"#2a3f5f\"}, \"type\": \"carpet\"}], \"choropleth\": [{\"colorbar\": {\"outlinewidth\": 0, \"ticks\": \"\"}, \"type\": \"choropleth\"}], \"contour\": [{\"colorbar\": {\"outlinewidth\": 0, \"ticks\": \"\"}, \"colorscale\": [[0.0, \"#0d0887\"], [0.1111111111111111, \"#46039f\"], [0.2222222222222222, \"#7201a8\"], [0.3333333333333333, \"#9c179e\"], [0.4444444444444444, \"#bd3786\"], [0.5555555555555556, \"#d8576b\"], [0.6666666666666666, \"#ed7953\"], [0.7777777777777778, \"#fb9f3a\"], [0.8888888888888888, \"#fdca26\"], [1.0, \"#f0f921\"]], \"type\": \"contour\"}], \"contourcarpet\": [{\"colorbar\": {\"outlinewidth\": 0, \"ticks\": \"\"}, \"type\": \"contourcarpet\"}], \"heatmap\": [{\"colorbar\": {\"outlinewidth\": 0, \"ticks\": \"\"}, \"colorscale\": [[0.0, \"#0d0887\"], [0.1111111111111111, \"#46039f\"], [0.2222222222222222, \"#7201a8\"], [0.3333333333333333, \"#9c179e\"], [0.4444444444444444, \"#bd3786\"], [0.5555555555555556, \"#d8576b\"], [0.6666666666666666, \"#ed7953\"], [0.7777777777777778, \"#fb9f3a\"], [0.8888888888888888, \"#fdca26\"], [1.0, \"#f0f921\"]], \"type\": \"heatmap\"}], \"heatmapgl\": [{\"colorbar\": {\"outlinewidth\": 0, \"ticks\": \"\"}, \"colorscale\": [[0.0, \"#0d0887\"], [0.1111111111111111, \"#46039f\"], [0.2222222222222222, \"#7201a8\"], [0.3333333333333333, \"#9c179e\"], [0.4444444444444444, \"#bd3786\"], [0.5555555555555556, \"#d8576b\"], [0.6666666666666666, \"#ed7953\"], [0.7777777777777778, \"#fb9f3a\"], [0.8888888888888888, \"#fdca26\"], [1.0, \"#f0f921\"]], \"type\": \"heatmapgl\"}], \"histogram\": [{\"marker\": {\"colorbar\": {\"outlinewidth\": 0, \"ticks\": \"\"}}, \"type\": \"histogram\"}], \"histogram2d\": [{\"colorbar\": {\"outlinewidth\": 0, \"ticks\": \"\"}, \"colorscale\": [[0.0, \"#0d0887\"], [0.1111111111111111, \"#46039f\"], [0.2222222222222222, \"#7201a8\"], [0.3333333333333333, \"#9c179e\"], [0.4444444444444444, \"#bd3786\"], [0.5555555555555556, \"#d8576b\"], [0.6666666666666666, \"#ed7953\"], [0.7777777777777778, \"#fb9f3a\"], [0.8888888888888888, \"#fdca26\"], [1.0, \"#f0f921\"]], \"type\": \"histogram2d\"}], \"histogram2dcontour\": [{\"colorbar\": {\"outlinewidth\": 0, \"ticks\": \"\"}, \"colorscale\": [[0.0, \"#0d0887\"], [0.1111111111111111, \"#46039f\"], [0.2222222222222222, \"#7201a8\"], [0.3333333333333333, \"#9c179e\"], [0.4444444444444444, \"#bd3786\"], [0.5555555555555556, \"#d8576b\"], [0.6666666666666666, \"#ed7953\"], [0.7777777777777778, \"#fb9f3a\"], [0.8888888888888888, \"#fdca26\"], [1.0, \"#f0f921\"]], \"type\": \"histogram2dcontour\"}], \"mesh3d\": [{\"colorbar\": {\"outlinewidth\": 0, \"ticks\": \"\"}, \"type\": \"mesh3d\"}], \"parcoords\": [{\"line\": {\"colorbar\": {\"outlinewidth\": 0, \"ticks\": \"\"}}, \"type\": \"parcoords\"}], \"pie\": [{\"automargin\": true, \"type\": \"pie\"}], \"scatter\": [{\"marker\": {\"colorbar\": {\"outlinewidth\": 0, \"ticks\": \"\"}}, \"type\": \"scatter\"}], \"scatter3d\": [{\"line\": {\"colorbar\": {\"outlinewidth\": 0, \"ticks\": \"\"}}, \"marker\": {\"colorbar\": {\"outlinewidth\": 0, \"ticks\": \"\"}}, \"type\": \"scatter3d\"}], \"scattercarpet\": [{\"marker\": {\"colorbar\": {\"outlinewidth\": 0, \"ticks\": \"\"}}, \"type\": \"scattercarpet\"}], \"scattergeo\": [{\"marker\": {\"colorbar\": {\"outlinewidth\": 0, \"ticks\": \"\"}}, \"type\": \"scattergeo\"}], \"scattergl\": [{\"marker\": {\"colorbar\": {\"outlinewidth\": 0, \"ticks\": \"\"}}, \"type\": \"scattergl\"}], \"scattermapbox\": [{\"marker\": {\"colorbar\": {\"outlinewidth\": 0, \"ticks\": \"\"}}, \"type\": \"scattermapbox\"}], \"scatterpolar\": [{\"marker\": {\"colorbar\": {\"outlinewidth\": 0, \"ticks\": \"\"}}, \"type\": \"scatterpolar\"}], \"scatterpolargl\": [{\"marker\": {\"colorbar\": {\"outlinewidth\": 0, \"ticks\": \"\"}}, \"type\": \"scatterpolargl\"}], \"scatterternary\": [{\"marker\": {\"colorbar\": {\"outlinewidth\": 0, \"ticks\": \"\"}}, \"type\": \"scatterternary\"}], \"surface\": [{\"colorbar\": {\"outlinewidth\": 0, \"ticks\": \"\"}, \"colorscale\": [[0.0, \"#0d0887\"], [0.1111111111111111, \"#46039f\"], [0.2222222222222222, \"#7201a8\"], [0.3333333333333333, \"#9c179e\"], [0.4444444444444444, \"#bd3786\"], [0.5555555555555556, \"#d8576b\"], [0.6666666666666666, \"#ed7953\"], [0.7777777777777778, \"#fb9f3a\"], [0.8888888888888888, \"#fdca26\"], [1.0, \"#f0f921\"]], \"type\": \"surface\"}], \"table\": [{\"cells\": {\"fill\": {\"color\": \"#EBF0F8\"}, \"line\": {\"color\": \"white\"}}, \"header\": {\"fill\": {\"color\": \"#C8D4E3\"}, \"line\": {\"color\": \"white\"}}, \"type\": \"table\"}]}, \"layout\": {\"annotationdefaults\": {\"arrowcolor\": \"#2a3f5f\", \"arrowhead\": 0, \"arrowwidth\": 1}, \"coloraxis\": {\"colorbar\": {\"outlinewidth\": 0, \"ticks\": \"\"}}, \"colorscale\": {\"diverging\": [[0, \"#8e0152\"], [0.1, \"#c51b7d\"], [0.2, \"#de77ae\"], [0.3, \"#f1b6da\"], [0.4, \"#fde0ef\"], [0.5, \"#f7f7f7\"], [0.6, \"#e6f5d0\"], [0.7, \"#b8e186\"], [0.8, \"#7fbc41\"], [0.9, \"#4d9221\"], [1, \"#276419\"]], \"sequential\": [[0.0, \"#0d0887\"], [0.1111111111111111, \"#46039f\"], [0.2222222222222222, \"#7201a8\"], [0.3333333333333333, \"#9c179e\"], [0.4444444444444444, \"#bd3786\"], [0.5555555555555556, \"#d8576b\"], [0.6666666666666666, \"#ed7953\"], [0.7777777777777778, \"#fb9f3a\"], [0.8888888888888888, \"#fdca26\"], [1.0, \"#f0f921\"]], \"sequentialminus\": [[0.0, \"#0d0887\"], [0.1111111111111111, \"#46039f\"], [0.2222222222222222, \"#7201a8\"], [0.3333333333333333, \"#9c179e\"], [0.4444444444444444, \"#bd3786\"], [0.5555555555555556, \"#d8576b\"], [0.6666666666666666, \"#ed7953\"], [0.7777777777777778, \"#fb9f3a\"], [0.8888888888888888, \"#fdca26\"], [1.0, \"#f0f921\"]]}, \"colorway\": [\"#636efa\", \"#EF553B\", \"#00cc96\", \"#ab63fa\", \"#FFA15A\", \"#19d3f3\", \"#FF6692\", \"#B6E880\", \"#FF97FF\", \"#FECB52\"], \"font\": {\"color\": \"#2a3f5f\"}, \"geo\": {\"bgcolor\": \"white\", \"lakecolor\": \"white\", \"landcolor\": \"white\", \"showlakes\": true, \"showland\": true, \"subunitcolor\": \"#C8D4E3\"}, \"hoverlabel\": {\"align\": \"left\"}, \"hovermode\": \"closest\", \"mapbox\": {\"style\": \"light\"}, \"paper_bgcolor\": \"white\", \"plot_bgcolor\": \"white\", \"polar\": {\"angularaxis\": {\"gridcolor\": \"#EBF0F8\", \"linecolor\": \"#EBF0F8\", \"ticks\": \"\"}, \"bgcolor\": \"white\", \"radialaxis\": {\"gridcolor\": \"#EBF0F8\", \"linecolor\": \"#EBF0F8\", \"ticks\": \"\"}}, \"scene\": {\"xaxis\": {\"backgroundcolor\": \"white\", \"gridcolor\": \"#DFE8F3\", \"gridwidth\": 2, \"linecolor\": \"#EBF0F8\", \"showbackground\": true, \"ticks\": \"\", \"zerolinecolor\": \"#EBF0F8\"}, \"yaxis\": {\"backgroundcolor\": \"white\", \"gridcolor\": \"#DFE8F3\", \"gridwidth\": 2, \"linecolor\": \"#EBF0F8\", \"showbackground\": true, \"ticks\": \"\", \"zerolinecolor\": \"#EBF0F8\"}, \"zaxis\": {\"backgroundcolor\": \"white\", \"gridcolor\": \"#DFE8F3\", \"gridwidth\": 2, \"linecolor\": \"#EBF0F8\", \"showbackground\": true, \"ticks\": \"\", \"zerolinecolor\": \"#EBF0F8\"}}, \"shapedefaults\": {\"line\": {\"color\": \"#2a3f5f\"}}, \"ternary\": {\"aaxis\": {\"gridcolor\": \"#DFE8F3\", \"linecolor\": \"#A2B1C6\", \"ticks\": \"\"}, \"baxis\": {\"gridcolor\": \"#DFE8F3\", \"linecolor\": \"#A2B1C6\", \"ticks\": \"\"}, \"bgcolor\": \"white\", \"caxis\": {\"gridcolor\": \"#DFE8F3\", \"linecolor\": \"#A2B1C6\", \"ticks\": \"\"}}, \"title\": {\"x\": 0.05}, \"xaxis\": {\"automargin\": true, \"gridcolor\": \"#EBF0F8\", \"linecolor\": \"#EBF0F8\", \"ticks\": \"\", \"title\": {\"standoff\": 15}, \"zerolinecolor\": \"#EBF0F8\", \"zerolinewidth\": 2}, \"yaxis\": {\"automargin\": true, \"gridcolor\": \"#EBF0F8\", \"linecolor\": \"#EBF0F8\", \"ticks\": \"\", \"title\": {\"standoff\": 15}, \"zerolinecolor\": \"#EBF0F8\", \"zerolinewidth\": 2}}}, \"title\": {\"text\": \"Demographics of the United Kingdom\", \"x\": 0.5, \"xanchor\": \"center\", \"y\": 0.98, \"yanchor\": \"top\"}},\n",
       "                        {\"responsive\": true}\n",
       "                    ).then(function(){\n",
       "                            \n",
       "var gd = document.getElementById('fa20e354-c1dc-4240-b5ef-d3189f90a4fd');\n",
       "var x = new MutationObserver(function (mutations, observer) {{\n",
       "        var display = window.getComputedStyle(gd).display;\n",
       "        if (!display || display === 'none') {{\n",
       "            console.log([gd, 'removed!']);\n",
       "            Plotly.purge(gd);\n",
       "            observer.disconnect();\n",
       "        }}\n",
       "}});\n",
       "\n",
       "// Listen for the removal of the full notebook cells\n",
       "var notebookContainer = gd.closest('#notebook-container');\n",
       "if (notebookContainer) {{\n",
       "    x.observe(notebookContainer, {childList: true});\n",
       "}}\n",
       "\n",
       "// Listen for the clearing of the current output cell\n",
       "var outputEl = gd.closest('.output');\n",
       "if (outputEl) {{\n",
       "    x.observe(outputEl, {childList: true});\n",
       "}}\n",
       "\n",
       "                        })\n",
       "                };\n",
       "                });\n",
       "            </script>\n",
       "        </div>"
      ]
     },
     "metadata": {},
     "output_type": "display_data"
    }
   ],
   "source": [
    "#This Pie chart shows the percentage of each ethnicity in the UK in terms of individual count.\n",
    "population_pie_plot = px.pie(uk_population_aggregated_by_race, uk_population_aggregated_by_race.index, \n",
    "              uk_population_aggregated_by_race['Number'], \n",
    "              color_discrete_sequence=px.colors.qualitative.Pastel, hole=0.4)\n",
    "\n",
    "population_pie_plot.update_layout(title={\n",
    "                  'text': \"Demographics of the United Kingdom\",\n",
    "                  'y':0.98,\n",
    "                  'x':0.5,\n",
    "                  'xanchor': 'center',\n",
    "                  'yanchor': 'top'},\n",
    "                   height=600,\n",
    "                  template='plotly_white')\n",
    "\n",
    "population_pie_plot.update_traces(textposition='inside', textinfo='percent+label', pull=[0, 0.2])\n",
    "\n",
    "population_pie_plot.data[0].marker.line.width = 1\n",
    "population_pie_plot.data[0].marker.line.color = \"black\"\n",
    "population_pie_plot.show()\n"
   ]
  },
  {
   "cell_type": "code",
   "execution_count": 1133,
   "metadata": {},
   "outputs": [
    {
     "name": "stdout",
     "output_type": "stream",
     "text": [
      "The White community is 25.851 times bigger than the black community,\n",
      "With a total population of 48209395 white individuals\n",
      "With a total population of 1864890 black individuals\n",
      "\n"
     ]
    }
   ],
   "source": [
    "total_white_census = uk_population_aggregated_by_race.loc[uk_population_aggregated_by_race.index == 'White']['Number'][0]\n",
    "total_black_census = uk_population_aggregated_by_race.loc[uk_population_aggregated_by_race.index == 'Black']['Number'][0]\n",
    "total_asian_census = uk_population_aggregated_by_race.loc[uk_population_aggregated_by_race.index == 'Asian']['Number'][0]\n",
    "total_mixed_census = uk_population_aggregated_by_race.loc[uk_population_aggregated_by_race.index == 'Mixed']['Number'][0]\n",
    "total_other_census = uk_population_aggregated_by_race.loc[uk_population_aggregated_by_race.index == 'Other']['Number'][0]\n",
    "print('The White community is %.3f times bigger than the black community,\\nWith a total population of %d white individuals\\nWith a total population of %d black individuals\\n' % ((total_white_census/total_black_census),total_white_census,total_black_census))\n"
   ]
  },
  {
   "cell_type": "markdown",
   "metadata": {},
   "source": [
    "### Arrests by ethnicity"
   ]
  },
  {
   "cell_type": "code",
   "execution_count": 952,
   "metadata": {
    "scrolled": false
   },
   "outputs": [
    {
     "data": {
      "text/html": [
       "<div>\n",
       "<style scoped>\n",
       "    .dataframe tbody tr th:only-of-type {\n",
       "        vertical-align: middle;\n",
       "    }\n",
       "\n",
       "    .dataframe tbody tr th {\n",
       "        vertical-align: top;\n",
       "    }\n",
       "\n",
       "    .dataframe thead th {\n",
       "        text-align: right;\n",
       "    }\n",
       "</style>\n",
       "<table border=\"1\" class=\"dataframe\">\n",
       "  <thead>\n",
       "    <tr style=\"text-align: right;\">\n",
       "      <th></th>\n",
       "      <th>Measure</th>\n",
       "      <th>Time</th>\n",
       "      <th>Time_type</th>\n",
       "      <th>Ethnicity</th>\n",
       "      <th>Ethnicity_type</th>\n",
       "      <th>Gender</th>\n",
       "      <th>Gender_type</th>\n",
       "      <th>Age_Group</th>\n",
       "      <th>Age_Group_type</th>\n",
       "      <th>Geography</th>\n",
       "      <th>Geography_type</th>\n",
       "      <th>Number of arrests</th>\n",
       "      <th>Population by ethnicity, gender, and PFA (based on 2011 Census)</th>\n",
       "      <th>Rate per 1,000 population by ethnicity, gender, and PFA</th>\n",
       "      <th>Proportion of arrests of this ethnicity, in this year, of this gender and in this police force area (excludes unreported)</th>\n",
       "      <th>Notes</th>\n",
       "    </tr>\n",
       "  </thead>\n",
       "  <tbody>\n",
       "    <tr>\n",
       "      <th>0</th>\n",
       "      <td>Number of arrests</td>\n",
       "      <td>2018/19</td>\n",
       "      <td>Financial year</td>\n",
       "      <td>All</td>\n",
       "      <td>All</td>\n",
       "      <td>All</td>\n",
       "      <td>Male/Female</td>\n",
       "      <td>10 - 17 years</td>\n",
       "      <td>Arrest age group categories</td>\n",
       "      <td>All</td>\n",
       "      <td>Police Force Area</td>\n",
       "      <td>60,208</td>\n",
       "      <td>N/A for individual age groups</td>\n",
       "      <td>N/A for individual age groups</td>\n",
       "      <td>N/A for individual age groups</td>\n",
       "      <td>Excludes Lancashire (both arrest and populatio...</td>\n",
       "    </tr>\n",
       "    <tr>\n",
       "      <th>1</th>\n",
       "      <td>Number of arrests</td>\n",
       "      <td>2018/19</td>\n",
       "      <td>Financial year</td>\n",
       "      <td>All</td>\n",
       "      <td>All</td>\n",
       "      <td>Female</td>\n",
       "      <td>Male/Female</td>\n",
       "      <td>10 - 17 years</td>\n",
       "      <td>Arrest age group categories</td>\n",
       "      <td>All</td>\n",
       "      <td>Police Force Area</td>\n",
       "      <td>9,290</td>\n",
       "      <td>N/A for individual age groups</td>\n",
       "      <td>N/A for individual age groups</td>\n",
       "      <td>N/A for individual age groups</td>\n",
       "      <td>Excludes Lancashire (both arrest and populatio...</td>\n",
       "    </tr>\n",
       "    <tr>\n",
       "      <th>2</th>\n",
       "      <td>Number of arrests</td>\n",
       "      <td>2018/19</td>\n",
       "      <td>Financial year</td>\n",
       "      <td>All</td>\n",
       "      <td>All</td>\n",
       "      <td>Male</td>\n",
       "      <td>Male/Female</td>\n",
       "      <td>10 - 17 years</td>\n",
       "      <td>Arrest age group categories</td>\n",
       "      <td>All</td>\n",
       "      <td>Police Force Area</td>\n",
       "      <td>50,918</td>\n",
       "      <td>N/A for individual age groups</td>\n",
       "      <td>N/A for individual age groups</td>\n",
       "      <td>N/A for individual age groups</td>\n",
       "      <td>Excludes Lancashire (both arrest and populatio...</td>\n",
       "    </tr>\n",
       "  </tbody>\n",
       "</table>\n",
       "</div>"
      ],
      "text/plain": [
       "             Measure     Time       Time_type Ethnicity Ethnicity_type  \\\n",
       "0  Number of arrests  2018/19  Financial year       All            All   \n",
       "1  Number of arrests  2018/19  Financial year       All            All   \n",
       "2  Number of arrests  2018/19  Financial year       All            All   \n",
       "\n",
       "   Gender  Gender_type      Age_Group               Age_Group_type Geography  \\\n",
       "0     All  Male/Female  10 - 17 years  Arrest age group categories       All   \n",
       "1  Female  Male/Female  10 - 17 years  Arrest age group categories       All   \n",
       "2    Male  Male/Female  10 - 17 years  Arrest age group categories       All   \n",
       "\n",
       "      Geography_type Number of arrests  \\\n",
       "0  Police Force Area            60,208   \n",
       "1  Police Force Area             9,290   \n",
       "2  Police Force Area            50,918   \n",
       "\n",
       "  Population by ethnicity, gender, and PFA (based on 2011 Census)  \\\n",
       "0                      N/A for individual age groups                \n",
       "1                      N/A for individual age groups                \n",
       "2                      N/A for individual age groups                \n",
       "\n",
       "  Rate per 1,000 population by ethnicity, gender, and PFA  \\\n",
       "0                      N/A for individual age groups        \n",
       "1                      N/A for individual age groups        \n",
       "2                      N/A for individual age groups        \n",
       "\n",
       "  Proportion of arrests of this ethnicity, in this year, of this gender and in this police force area (excludes unreported)  \\\n",
       "0                      N/A for individual age groups                                                                          \n",
       "1                      N/A for individual age groups                                                                          \n",
       "2                      N/A for individual age groups                                                                          \n",
       "\n",
       "                                               Notes  \n",
       "0  Excludes Lancashire (both arrest and populatio...  \n",
       "1  Excludes Lancashire (both arrest and populatio...  \n",
       "2  Excludes Lancashire (both arrest and populatio...  "
      ]
     },
     "execution_count": 952,
     "metadata": {},
     "output_type": "execute_result"
    }
   ],
   "source": [
    "# showing an example of the first 3 rows in the arrests dataset\n",
    "raw_arrests_ethnicity.head(3)"
   ]
  },
  {
   "cell_type": "code",
   "execution_count": 953,
   "metadata": {
    "scrolled": false
   },
   "outputs": [
    {
     "data": {
      "text/html": [
       "<div>\n",
       "<style scoped>\n",
       "    .dataframe tbody tr th:only-of-type {\n",
       "        vertical-align: middle;\n",
       "    }\n",
       "\n",
       "    .dataframe tbody tr th {\n",
       "        vertical-align: top;\n",
       "    }\n",
       "\n",
       "    .dataframe thead th {\n",
       "        text-align: right;\n",
       "    }\n",
       "</style>\n",
       "<table border=\"1\" class=\"dataframe\">\n",
       "  <thead>\n",
       "    <tr style=\"text-align: right;\">\n",
       "      <th></th>\n",
       "      <th>Measure</th>\n",
       "      <th>Time</th>\n",
       "      <th>Time_type</th>\n",
       "      <th>Ethnicity</th>\n",
       "      <th>Ethnicity_type</th>\n",
       "      <th>Gender</th>\n",
       "      <th>Gender_type</th>\n",
       "      <th>Age_Group</th>\n",
       "      <th>Age_Group_type</th>\n",
       "      <th>Geography</th>\n",
       "      <th>Geography_type</th>\n",
       "      <th>Number of arrests</th>\n",
       "      <th>Population by ethnicity, gender, and PFA (based on 2011 Census)</th>\n",
       "      <th>Rate per 1,000 population by ethnicity, gender, and PFA</th>\n",
       "      <th>Proportion of arrests of this ethnicity, in this year, of this gender and in this police force area (excludes unreported)</th>\n",
       "      <th>Notes</th>\n",
       "    </tr>\n",
       "  </thead>\n",
       "  <tbody>\n",
       "    <tr>\n",
       "      <th>109317</th>\n",
       "      <td>Number of arrests</td>\n",
       "      <td>2013/14</td>\n",
       "      <td>Financial year</td>\n",
       "      <td>White Irish</td>\n",
       "      <td>ONS 2001 16+1</td>\n",
       "      <td>Female</td>\n",
       "      <td>Male/Female</td>\n",
       "      <td>Unknown</td>\n",
       "      <td>Arrest age group categories</td>\n",
       "      <td>Wiltshire</td>\n",
       "      <td>Police Force Area</td>\n",
       "      <td>-</td>\n",
       "      <td>N/A for individual age groups</td>\n",
       "      <td>N/A for individual age groups</td>\n",
       "      <td>N/A for individual age groups</td>\n",
       "      <td>NaN</td>\n",
       "    </tr>\n",
       "    <tr>\n",
       "      <th>109318</th>\n",
       "      <td>Number of arrests</td>\n",
       "      <td>2013/14</td>\n",
       "      <td>Financial year</td>\n",
       "      <td>White Irish</td>\n",
       "      <td>ONS 2001 16+1</td>\n",
       "      <td>Male</td>\n",
       "      <td>Male/Female</td>\n",
       "      <td>Unknown</td>\n",
       "      <td>Arrest age group categories</td>\n",
       "      <td>Wiltshire</td>\n",
       "      <td>Police Force Area</td>\n",
       "      <td>-</td>\n",
       "      <td>N/A for individual age groups</td>\n",
       "      <td>N/A for individual age groups</td>\n",
       "      <td>N/A for individual age groups</td>\n",
       "      <td>NaN</td>\n",
       "    </tr>\n",
       "    <tr>\n",
       "      <th>109319</th>\n",
       "      <td>Number of arrests</td>\n",
       "      <td>2013/14</td>\n",
       "      <td>Financial year</td>\n",
       "      <td>White Irish</td>\n",
       "      <td>ONS 2001 16+1</td>\n",
       "      <td>All</td>\n",
       "      <td>Male/Female</td>\n",
       "      <td>Unknown</td>\n",
       "      <td>Arrest age group categories</td>\n",
       "      <td>Wiltshire</td>\n",
       "      <td>Police Force Area</td>\n",
       "      <td>-</td>\n",
       "      <td>N/A for individual age groups</td>\n",
       "      <td>N/A for individual age groups</td>\n",
       "      <td>N/A for individual age groups</td>\n",
       "      <td>NaN</td>\n",
       "    </tr>\n",
       "  </tbody>\n",
       "</table>\n",
       "</div>"
      ],
      "text/plain": [
       "                  Measure     Time       Time_type    Ethnicity  \\\n",
       "109317  Number of arrests  2013/14  Financial year  White Irish   \n",
       "109318  Number of arrests  2013/14  Financial year  White Irish   \n",
       "109319  Number of arrests  2013/14  Financial year  White Irish   \n",
       "\n",
       "       Ethnicity_type  Gender  Gender_type Age_Group  \\\n",
       "109317  ONS 2001 16+1  Female  Male/Female   Unknown   \n",
       "109318  ONS 2001 16+1    Male  Male/Female   Unknown   \n",
       "109319  ONS 2001 16+1     All  Male/Female   Unknown   \n",
       "\n",
       "                     Age_Group_type  Geography     Geography_type  \\\n",
       "109317  Arrest age group categories  Wiltshire  Police Force Area   \n",
       "109318  Arrest age group categories  Wiltshire  Police Force Area   \n",
       "109319  Arrest age group categories  Wiltshire  Police Force Area   \n",
       "\n",
       "       Number of arrests  \\\n",
       "109317                 -   \n",
       "109318                 -   \n",
       "109319                 -   \n",
       "\n",
       "       Population by ethnicity, gender, and PFA (based on 2011 Census)  \\\n",
       "109317                      N/A for individual age groups                \n",
       "109318                      N/A for individual age groups                \n",
       "109319                      N/A for individual age groups                \n",
       "\n",
       "       Rate per 1,000 population by ethnicity, gender, and PFA  \\\n",
       "109317                      N/A for individual age groups        \n",
       "109318                      N/A for individual age groups        \n",
       "109319                      N/A for individual age groups        \n",
       "\n",
       "       Proportion of arrests of this ethnicity, in this year, of this gender and in this police force area (excludes unreported)  \\\n",
       "109317                      N/A for individual age groups                                                                          \n",
       "109318                      N/A for individual age groups                                                                          \n",
       "109319                      N/A for individual age groups                                                                          \n",
       "\n",
       "       Notes  \n",
       "109317   NaN  \n",
       "109318   NaN  \n",
       "109319   NaN  "
      ]
     },
     "execution_count": 953,
     "metadata": {},
     "output_type": "execute_result"
    }
   ],
   "source": [
    "#showing the last 3 rows to highlight that some columns are not static (dont have the same value of \"All\" for all rows.)\n",
    "raw_arrests_ethnicity.tail(3)"
   ]
  },
  {
   "cell_type": "code",
   "execution_count": 954,
   "metadata": {
    "scrolled": true
   },
   "outputs": [
    {
     "data": {
      "text/plain": [
       "(109320, 16)"
      ]
     },
     "execution_count": 954,
     "metadata": {},
     "output_type": "execute_result"
    }
   ],
   "source": [
    "raw_arrests_ethnicity.shape #which shows the data has 109320 rows and 16 columns."
   ]
  },
  {
   "cell_type": "code",
   "execution_count": 955,
   "metadata": {},
   "outputs": [
    {
     "name": "stdout",
     "output_type": "stream",
     "text": [
      "<class 'pandas.core.frame.DataFrame'>\n",
      "RangeIndex: 109320 entries, 0 to 109319\n",
      "Data columns (total 16 columns):\n",
      " #   Column                                                                                                                     Non-Null Count   Dtype \n",
      "---  ------                                                                                                                     --------------   ----- \n",
      " 0   Measure                                                                                                                    109320 non-null  object\n",
      " 1   Time                                                                                                                       109320 non-null  object\n",
      " 2   Time_type                                                                                                                  109320 non-null  object\n",
      " 3   Ethnicity                                                                                                                  109320 non-null  object\n",
      " 4   Ethnicity_type                                                                                                             109320 non-null  object\n",
      " 5   Gender                                                                                                                     109320 non-null  object\n",
      " 6   Gender_type                                                                                                                109320 non-null  object\n",
      " 7   Age_Group                                                                                                                  109320 non-null  object\n",
      " 8   Age_Group_type                                                                                                             109320 non-null  object\n",
      " 9   Geography                                                                                                                  109320 non-null  object\n",
      " 10  Geography_type                                                                                                             109320 non-null  object\n",
      " 11  Number of arrests                                                                                                          106476 non-null  object\n",
      " 12  Population by ethnicity, gender, and PFA (based on 2011 Census)                                                            108132 non-null  object\n",
      " 13  Rate per 1,000 population by ethnicity, gender, and PFA                                                                    107664 non-null  object\n",
      " 14  Proportion of arrests of this ethnicity, in this year, of this gender and in this police force area (excludes unreported)  108036 non-null  object\n",
      " 15  Notes                                                                                                                      3812 non-null    object\n",
      "dtypes: object(16)\n",
      "memory usage: 13.3+ MB\n"
     ]
    }
   ],
   "source": [
    "# showing each colomns (data type, the count of non-null instances & the column name)\n",
    "raw_arrests_ethnicity.info()"
   ]
  },
  {
   "cell_type": "markdown",
   "metadata": {},
   "source": [
    "**Note: It can be seen that some attributes carry some ambiguity in terms of their meaning and possible values; such as:**\n",
    "\n",
    "**[**'Measure' , 'Time_type','Ethnicity Type', 'Gender_type','Age_group_type','Geography_type'**]**\n",
    "\n",
    "Therefore, their distinct values will be analysed to know their meaning and purpose in the dataset."
   ]
  },
  {
   "cell_type": "code",
   "execution_count": 956,
   "metadata": {},
   "outputs": [
    {
     "data": {
      "text/plain": [
       "Index(['Measure', 'Time_type', 'Gender_type', 'Age_Group_type',\n",
       "       'Geography_type'],\n",
       "      dtype='object')"
      ]
     },
     "execution_count": 956,
     "metadata": {},
     "output_type": "execute_result"
    }
   ],
   "source": [
    "# Showing comlumns with less than 3 distinct values\n",
    "non_unique = raw_arrests_ethnicity.apply(pd.Series.nunique)\n",
    "static_columns = non_unique[(non_unique>=1)&(non_unique<3)].index\n",
    "static_columns"
   ]
  },
  {
   "cell_type": "code",
   "execution_count": 957,
   "metadata": {},
   "outputs": [
    {
     "name": "stdout",
     "output_type": "stream",
     "text": [
      "column: Measure \n",
      "Number of unique values: 1 \n",
      "Unique values: ['Number of arrests'] \n",
      "\n",
      "column: Time_type \n",
      "Number of unique values: 1 \n",
      "Unique values: ['Financial year'] \n",
      "\n",
      "column: Gender_type \n",
      "Number of unique values: 1 \n",
      "Unique values: ['Male/Female'] \n",
      "\n",
      "column: Age_Group_type \n",
      "Number of unique values: 1 \n",
      "Unique values: ['Arrest age group categories'] \n",
      "\n",
      "column: Geography_type \n",
      "Number of unique values: 1 \n",
      "Unique values: ['Police Force Area'] \n",
      "\n"
     ]
    }
   ],
   "source": [
    "# Showing the distinct values in columns that contain less than 3 distinct values\n",
    "for i in static_columns:\n",
    "    print('column:',i,'\\nNumber of unique values:',len(raw_arrests_ethnicity[i].unique()),'\\nUnique values:',raw_arrests_ethnicity[i].unique(),'\\n')"
   ]
  },
  {
   "cell_type": "markdown",
   "metadata": {},
   "source": [
    "**To Remove:** as they only have one distinct value for all rows\n",
    "\n",
    "1. **Measure:** Which represent the measuring methodology and the column will be deleted as it has the same value for all rows.\n",
    "\n",
    "2. **Time_type:** Which represent how the time was demonstrated/formated while gathering the data.\n",
    "\n",
    "3. **Gender_type:** Represents the possible genders for the Gender attribute.\n",
    "\n",
    "4. **Age_Group_type:** will be removed as it has the same value for all rows.\n",
    "\n",
    "5. **Geography_type:** which represents the methodology of determining the location of the study."
   ]
  },
  {
   "cell_type": "code",
   "execution_count": 958,
   "metadata": {},
   "outputs": [
    {
     "data": {
      "text/html": [
       "<div>\n",
       "<style scoped>\n",
       "    .dataframe tbody tr th:only-of-type {\n",
       "        vertical-align: middle;\n",
       "    }\n",
       "\n",
       "    .dataframe tbody tr th {\n",
       "        vertical-align: top;\n",
       "    }\n",
       "\n",
       "    .dataframe thead th {\n",
       "        text-align: right;\n",
       "    }\n",
       "</style>\n",
       "<table border=\"1\" class=\"dataframe\">\n",
       "  <thead>\n",
       "    <tr style=\"text-align: right;\">\n",
       "      <th></th>\n",
       "      <th>Missing values</th>\n",
       "    </tr>\n",
       "  </thead>\n",
       "  <tbody>\n",
       "    <tr>\n",
       "      <th>Time</th>\n",
       "      <td>0</td>\n",
       "    </tr>\n",
       "    <tr>\n",
       "      <th>Ethnicity</th>\n",
       "      <td>0</td>\n",
       "    </tr>\n",
       "    <tr>\n",
       "      <th>Ethnicity_type</th>\n",
       "      <td>0</td>\n",
       "    </tr>\n",
       "    <tr>\n",
       "      <th>Gender</th>\n",
       "      <td>0</td>\n",
       "    </tr>\n",
       "    <tr>\n",
       "      <th>Age_Group</th>\n",
       "      <td>0</td>\n",
       "    </tr>\n",
       "    <tr>\n",
       "      <th>Geography</th>\n",
       "      <td>0</td>\n",
       "    </tr>\n",
       "    <tr>\n",
       "      <th>Number of arrests</th>\n",
       "      <td>2844</td>\n",
       "    </tr>\n",
       "    <tr>\n",
       "      <th>Population by ethnicity, gender, and PFA (based on 2011 Census)</th>\n",
       "      <td>1188</td>\n",
       "    </tr>\n",
       "    <tr>\n",
       "      <th>Rate per 1,000 population by ethnicity, gender, and PFA</th>\n",
       "      <td>1656</td>\n",
       "    </tr>\n",
       "    <tr>\n",
       "      <th>Proportion of arrests of this ethnicity, in this year, of this gender and in this police force area (excludes unreported)</th>\n",
       "      <td>1284</td>\n",
       "    </tr>\n",
       "    <tr>\n",
       "      <th>Notes</th>\n",
       "      <td>105508</td>\n",
       "    </tr>\n",
       "  </tbody>\n",
       "</table>\n",
       "</div>"
      ],
      "text/plain": [
       "                                                    Missing values\n",
       "Time                                                             0\n",
       "Ethnicity                                                        0\n",
       "Ethnicity_type                                                   0\n",
       "Gender                                                           0\n",
       "Age_Group                                                        0\n",
       "Geography                                                        0\n",
       "Number of arrests                                             2844\n",
       "Population by ethnicity, gender, and PFA (based...            1188\n",
       "Rate per 1,000 population by ethnicity, gender,...            1656\n",
       "Proportion of arrests of this ethnicity, in thi...            1284\n",
       "Notes                                                       105508"
      ]
     },
     "execution_count": 958,
     "metadata": {},
     "output_type": "execute_result"
    }
   ],
   "source": [
    "#creating a copy of the arrests raw dataset before removing the static columns.\n",
    "arrests_no_static_columns = raw_arrests_ethnicity.copy()\n",
    "arrests_no_static_columns= arrests_no_static_columns.drop(static_columns, axis=1)\n",
    "pd.DataFrame(arrests_no_static_columns.isnull().sum(), columns=[ 'Missing values'])"
   ]
  },
  {
   "cell_type": "markdown",
   "metadata": {},
   "source": [
    "**Note:**Columns with index (7,8,9) are statistically generated attributes that we can calculate individually from columns (0-6); furthermore, the mentioned columns (7,8,9 & 10) mostly contained missing values or general notes that I believe wont provide any additional benifit to a model.\n",
    "\n",
    "**Below:** we check the columns that contain missing values, and with no surprise the returned columns by index are (7,8,9) which have been calculated statistically and can be removed and recomputed if needed; furthermore **Number of arrests(column_\n",
    "6)**, cannot be removed for only containing missing values as the number of arrests is one of the most important features in the dataset to identify bias in terms of number of arrests per ethnic group, location, etc.."
   ]
  },
  {
   "cell_type": "code",
   "execution_count": 959,
   "metadata": {
    "scrolled": true
   },
   "outputs": [
    {
     "data": {
      "text/plain": [
       "Number of arrests                                                                                                              2844\n",
       "Population by ethnicity, gender, and PFA (based on 2011 Census)                                                                1188\n",
       "Rate per 1,000 population by ethnicity, gender, and PFA                                                                        1656\n",
       "Proportion of arrests of this ethnicity, in this year, of this gender and in this police force area (excludes unreported)      1284\n",
       "Notes                                                                                                                        105508\n",
       "dtype: int64"
      ]
     },
     "execution_count": 959,
     "metadata": {},
     "output_type": "execute_result"
    }
   ],
   "source": [
    "#showing the columns that contain null-values and how many nulls do they contain\n",
    "contains_nan=arrests_no_static_columns.isnull().sum()\n",
    "contains_nan[(contains_nan>0)] #The only column that can contain 2844 missing values is the number of arrests column"
   ]
  },
  {
   "cell_type": "code",
   "execution_count": 960,
   "metadata": {},
   "outputs": [
    {
     "data": {
      "text/html": [
       "<div>\n",
       "<style scoped>\n",
       "    .dataframe tbody tr th:only-of-type {\n",
       "        vertical-align: middle;\n",
       "    }\n",
       "\n",
       "    .dataframe tbody tr th {\n",
       "        vertical-align: top;\n",
       "    }\n",
       "\n",
       "    .dataframe thead th {\n",
       "        text-align: right;\n",
       "    }\n",
       "</style>\n",
       "<table border=\"1\" class=\"dataframe\">\n",
       "  <thead>\n",
       "    <tr style=\"text-align: right;\">\n",
       "      <th></th>\n",
       "      <th>Number of arrests</th>\n",
       "    </tr>\n",
       "  </thead>\n",
       "  <tbody>\n",
       "    <tr>\n",
       "      <th>0</th>\n",
       "      <td>60,208</td>\n",
       "    </tr>\n",
       "    <tr>\n",
       "      <th>1</th>\n",
       "      <td>9,290</td>\n",
       "    </tr>\n",
       "    <tr>\n",
       "      <th>2</th>\n",
       "      <td>50,918</td>\n",
       "    </tr>\n",
       "    <tr>\n",
       "      <th>3</th>\n",
       "      <td>75</td>\n",
       "    </tr>\n",
       "    <tr>\n",
       "      <th>4</th>\n",
       "      <td>941</td>\n",
       "    </tr>\n",
       "    <tr>\n",
       "      <th>...</th>\n",
       "      <td>...</td>\n",
       "    </tr>\n",
       "    <tr>\n",
       "      <th>109315</th>\n",
       "      <td>-</td>\n",
       "    </tr>\n",
       "    <tr>\n",
       "      <th>109316</th>\n",
       "      <td>-</td>\n",
       "    </tr>\n",
       "    <tr>\n",
       "      <th>109317</th>\n",
       "      <td>-</td>\n",
       "    </tr>\n",
       "    <tr>\n",
       "      <th>109318</th>\n",
       "      <td>-</td>\n",
       "    </tr>\n",
       "    <tr>\n",
       "      <th>109319</th>\n",
       "      <td>-</td>\n",
       "    </tr>\n",
       "  </tbody>\n",
       "</table>\n",
       "<p>109320 rows × 1 columns</p>\n",
       "</div>"
      ],
      "text/plain": [
       "       Number of arrests\n",
       "0                 60,208\n",
       "1                  9,290\n",
       "2                 50,918\n",
       "3                     75\n",
       "4                    941\n",
       "...                  ...\n",
       "109315                 -\n",
       "109316                 -\n",
       "109317                 -\n",
       "109318                 -\n",
       "109319                 -\n",
       "\n",
       "[109320 rows x 1 columns]"
      ]
     },
     "execution_count": 960,
     "metadata": {},
     "output_type": "execute_result"
    }
   ],
   "source": [
    "# we create a copy of the number of arrests column so we add it to the data frame\n",
    "#  after we remove all columns with missing values.\n",
    "number_of_arrests = pd.DataFrame(arrests_no_static_columns['Number of arrests'])\n",
    "number_of_arrests"
   ]
  },
  {
   "cell_type": "code",
   "execution_count": 961,
   "metadata": {},
   "outputs": [
    {
     "data": {
      "text/html": [
       "<div>\n",
       "<style scoped>\n",
       "    .dataframe tbody tr th:only-of-type {\n",
       "        vertical-align: middle;\n",
       "    }\n",
       "\n",
       "    .dataframe tbody tr th {\n",
       "        vertical-align: top;\n",
       "    }\n",
       "\n",
       "    .dataframe thead th {\n",
       "        text-align: right;\n",
       "    }\n",
       "</style>\n",
       "<table border=\"1\" class=\"dataframe\">\n",
       "  <thead>\n",
       "    <tr style=\"text-align: right;\">\n",
       "      <th></th>\n",
       "      <th>Time</th>\n",
       "      <th>Ethnicity</th>\n",
       "      <th>Ethnicity_type</th>\n",
       "      <th>Gender</th>\n",
       "      <th>Age_Group</th>\n",
       "      <th>Geography</th>\n",
       "    </tr>\n",
       "  </thead>\n",
       "  <tbody>\n",
       "    <tr>\n",
       "      <th>0</th>\n",
       "      <td>2018/19</td>\n",
       "      <td>All</td>\n",
       "      <td>All</td>\n",
       "      <td>All</td>\n",
       "      <td>10 - 17 years</td>\n",
       "      <td>All</td>\n",
       "    </tr>\n",
       "    <tr>\n",
       "      <th>1</th>\n",
       "      <td>2018/19</td>\n",
       "      <td>All</td>\n",
       "      <td>All</td>\n",
       "      <td>Female</td>\n",
       "      <td>10 - 17 years</td>\n",
       "      <td>All</td>\n",
       "    </tr>\n",
       "    <tr>\n",
       "      <th>2</th>\n",
       "      <td>2018/19</td>\n",
       "      <td>All</td>\n",
       "      <td>All</td>\n",
       "      <td>Male</td>\n",
       "      <td>10 - 17 years</td>\n",
       "      <td>All</td>\n",
       "    </tr>\n",
       "    <tr>\n",
       "      <th>3</th>\n",
       "      <td>2018/19</td>\n",
       "      <td>Any other asian</td>\n",
       "      <td>ONS 2001 16+1</td>\n",
       "      <td>Female</td>\n",
       "      <td>10 - 17 years</td>\n",
       "      <td>All</td>\n",
       "    </tr>\n",
       "    <tr>\n",
       "      <th>4</th>\n",
       "      <td>2018/19</td>\n",
       "      <td>Any other asian</td>\n",
       "      <td>ONS 2001 16+1</td>\n",
       "      <td>Male</td>\n",
       "      <td>10 - 17 years</td>\n",
       "      <td>All</td>\n",
       "    </tr>\n",
       "    <tr>\n",
       "      <th>...</th>\n",
       "      <td>...</td>\n",
       "      <td>...</td>\n",
       "      <td>...</td>\n",
       "      <td>...</td>\n",
       "      <td>...</td>\n",
       "      <td>...</td>\n",
       "    </tr>\n",
       "    <tr>\n",
       "      <th>109315</th>\n",
       "      <td>2013/14</td>\n",
       "      <td>White British</td>\n",
       "      <td>ONS 2001 16+1</td>\n",
       "      <td>Male</td>\n",
       "      <td>Unknown</td>\n",
       "      <td>Wiltshire</td>\n",
       "    </tr>\n",
       "    <tr>\n",
       "      <th>109316</th>\n",
       "      <td>2013/14</td>\n",
       "      <td>White British</td>\n",
       "      <td>ONS 2001 16+1</td>\n",
       "      <td>All</td>\n",
       "      <td>Unknown</td>\n",
       "      <td>Wiltshire</td>\n",
       "    </tr>\n",
       "    <tr>\n",
       "      <th>109317</th>\n",
       "      <td>2013/14</td>\n",
       "      <td>White Irish</td>\n",
       "      <td>ONS 2001 16+1</td>\n",
       "      <td>Female</td>\n",
       "      <td>Unknown</td>\n",
       "      <td>Wiltshire</td>\n",
       "    </tr>\n",
       "    <tr>\n",
       "      <th>109318</th>\n",
       "      <td>2013/14</td>\n",
       "      <td>White Irish</td>\n",
       "      <td>ONS 2001 16+1</td>\n",
       "      <td>Male</td>\n",
       "      <td>Unknown</td>\n",
       "      <td>Wiltshire</td>\n",
       "    </tr>\n",
       "    <tr>\n",
       "      <th>109319</th>\n",
       "      <td>2013/14</td>\n",
       "      <td>White Irish</td>\n",
       "      <td>ONS 2001 16+1</td>\n",
       "      <td>All</td>\n",
       "      <td>Unknown</td>\n",
       "      <td>Wiltshire</td>\n",
       "    </tr>\n",
       "  </tbody>\n",
       "</table>\n",
       "<p>109320 rows × 6 columns</p>\n",
       "</div>"
      ],
      "text/plain": [
       "           Time        Ethnicity Ethnicity_type  Gender      Age_Group  \\\n",
       "0       2018/19              All            All     All  10 - 17 years   \n",
       "1       2018/19              All            All  Female  10 - 17 years   \n",
       "2       2018/19              All            All    Male  10 - 17 years   \n",
       "3       2018/19  Any other asian  ONS 2001 16+1  Female  10 - 17 years   \n",
       "4       2018/19  Any other asian  ONS 2001 16+1    Male  10 - 17 years   \n",
       "...         ...              ...            ...     ...            ...   \n",
       "109315  2013/14    White British  ONS 2001 16+1    Male        Unknown   \n",
       "109316  2013/14    White British  ONS 2001 16+1     All        Unknown   \n",
       "109317  2013/14      White Irish  ONS 2001 16+1  Female        Unknown   \n",
       "109318  2013/14      White Irish  ONS 2001 16+1    Male        Unknown   \n",
       "109319  2013/14      White Irish  ONS 2001 16+1     All        Unknown   \n",
       "\n",
       "        Geography  \n",
       "0             All  \n",
       "1             All  \n",
       "2             All  \n",
       "3             All  \n",
       "4             All  \n",
       "...           ...  \n",
       "109315  Wiltshire  \n",
       "109316  Wiltshire  \n",
       "109317  Wiltshire  \n",
       "109318  Wiltshire  \n",
       "109319  Wiltshire  \n",
       "\n",
       "[109320 rows x 6 columns]"
      ]
     },
     "execution_count": 961,
     "metadata": {},
     "output_type": "execute_result"
    }
   ],
   "source": [
    "# dropping all columns that contain missing values & can still be computed from other features.\n",
    "arrests_no_static_columns=arrests_no_static_columns.dropna(axis='columns')\n",
    "arrests_no_static_columns"
   ]
  },
  {
   "cell_type": "code",
   "execution_count": 962,
   "metadata": {},
   "outputs": [],
   "source": [
    "# re-Adding the number of arrests to the dataset; \n",
    "#  however rows with missing values will be deleted as they are only 2844 rows out of 109320 (2.59%)\n",
    "arrests_no_static_columns['Number of arrests'] = number_of_arrests"
   ]
  },
  {
   "cell_type": "markdown",
   "metadata": {},
   "source": [
    "**Note:**\n",
    "\n",
    "Below it can be seen that some of the number of arrests contain **'-'** instead of np.nan; meaning that the real number of missing values is higher than the below deleted **2844 rows**."
   ]
  },
  {
   "cell_type": "code",
   "execution_count": 963,
   "metadata": {},
   "outputs": [
    {
     "data": {
      "text/html": [
       "<div>\n",
       "<style scoped>\n",
       "    .dataframe tbody tr th:only-of-type {\n",
       "        vertical-align: middle;\n",
       "    }\n",
       "\n",
       "    .dataframe tbody tr th {\n",
       "        vertical-align: top;\n",
       "    }\n",
       "\n",
       "    .dataframe thead th {\n",
       "        text-align: right;\n",
       "    }\n",
       "</style>\n",
       "<table border=\"1\" class=\"dataframe\">\n",
       "  <thead>\n",
       "    <tr style=\"text-align: right;\">\n",
       "      <th></th>\n",
       "      <th>Time</th>\n",
       "      <th>Ethnicity</th>\n",
       "      <th>Ethnicity_type</th>\n",
       "      <th>Gender</th>\n",
       "      <th>Age_Group</th>\n",
       "      <th>Geography</th>\n",
       "      <th>Number of arrests</th>\n",
       "    </tr>\n",
       "  </thead>\n",
       "  <tbody>\n",
       "    <tr>\n",
       "      <th>0</th>\n",
       "      <td>2018/19</td>\n",
       "      <td>All</td>\n",
       "      <td>All</td>\n",
       "      <td>All</td>\n",
       "      <td>10 - 17 years</td>\n",
       "      <td>All</td>\n",
       "      <td>60,208</td>\n",
       "    </tr>\n",
       "    <tr>\n",
       "      <th>1</th>\n",
       "      <td>2018/19</td>\n",
       "      <td>All</td>\n",
       "      <td>All</td>\n",
       "      <td>Female</td>\n",
       "      <td>10 - 17 years</td>\n",
       "      <td>All</td>\n",
       "      <td>9,290</td>\n",
       "    </tr>\n",
       "    <tr>\n",
       "      <th>2</th>\n",
       "      <td>2018/19</td>\n",
       "      <td>All</td>\n",
       "      <td>All</td>\n",
       "      <td>Male</td>\n",
       "      <td>10 - 17 years</td>\n",
       "      <td>All</td>\n",
       "      <td>50,918</td>\n",
       "    </tr>\n",
       "    <tr>\n",
       "      <th>3</th>\n",
       "      <td>2018/19</td>\n",
       "      <td>Any other asian</td>\n",
       "      <td>ONS 2001 16+1</td>\n",
       "      <td>Female</td>\n",
       "      <td>10 - 17 years</td>\n",
       "      <td>All</td>\n",
       "      <td>75</td>\n",
       "    </tr>\n",
       "    <tr>\n",
       "      <th>4</th>\n",
       "      <td>2018/19</td>\n",
       "      <td>Any other asian</td>\n",
       "      <td>ONS 2001 16+1</td>\n",
       "      <td>Male</td>\n",
       "      <td>10 - 17 years</td>\n",
       "      <td>All</td>\n",
       "      <td>941</td>\n",
       "    </tr>\n",
       "    <tr>\n",
       "      <th>...</th>\n",
       "      <td>...</td>\n",
       "      <td>...</td>\n",
       "      <td>...</td>\n",
       "      <td>...</td>\n",
       "      <td>...</td>\n",
       "      <td>...</td>\n",
       "      <td>...</td>\n",
       "    </tr>\n",
       "    <tr>\n",
       "      <th>109315</th>\n",
       "      <td>2013/14</td>\n",
       "      <td>White British</td>\n",
       "      <td>ONS 2001 16+1</td>\n",
       "      <td>Male</td>\n",
       "      <td>Unknown</td>\n",
       "      <td>Wiltshire</td>\n",
       "      <td>-</td>\n",
       "    </tr>\n",
       "    <tr>\n",
       "      <th>109316</th>\n",
       "      <td>2013/14</td>\n",
       "      <td>White British</td>\n",
       "      <td>ONS 2001 16+1</td>\n",
       "      <td>All</td>\n",
       "      <td>Unknown</td>\n",
       "      <td>Wiltshire</td>\n",
       "      <td>-</td>\n",
       "    </tr>\n",
       "    <tr>\n",
       "      <th>109317</th>\n",
       "      <td>2013/14</td>\n",
       "      <td>White Irish</td>\n",
       "      <td>ONS 2001 16+1</td>\n",
       "      <td>Female</td>\n",
       "      <td>Unknown</td>\n",
       "      <td>Wiltshire</td>\n",
       "      <td>-</td>\n",
       "    </tr>\n",
       "    <tr>\n",
       "      <th>109318</th>\n",
       "      <td>2013/14</td>\n",
       "      <td>White Irish</td>\n",
       "      <td>ONS 2001 16+1</td>\n",
       "      <td>Male</td>\n",
       "      <td>Unknown</td>\n",
       "      <td>Wiltshire</td>\n",
       "      <td>-</td>\n",
       "    </tr>\n",
       "    <tr>\n",
       "      <th>109319</th>\n",
       "      <td>2013/14</td>\n",
       "      <td>White Irish</td>\n",
       "      <td>ONS 2001 16+1</td>\n",
       "      <td>All</td>\n",
       "      <td>Unknown</td>\n",
       "      <td>Wiltshire</td>\n",
       "      <td>-</td>\n",
       "    </tr>\n",
       "  </tbody>\n",
       "</table>\n",
       "<p>106476 rows × 7 columns</p>\n",
       "</div>"
      ],
      "text/plain": [
       "           Time        Ethnicity Ethnicity_type  Gender      Age_Group  \\\n",
       "0       2018/19              All            All     All  10 - 17 years   \n",
       "1       2018/19              All            All  Female  10 - 17 years   \n",
       "2       2018/19              All            All    Male  10 - 17 years   \n",
       "3       2018/19  Any other asian  ONS 2001 16+1  Female  10 - 17 years   \n",
       "4       2018/19  Any other asian  ONS 2001 16+1    Male  10 - 17 years   \n",
       "...         ...              ...            ...     ...            ...   \n",
       "109315  2013/14    White British  ONS 2001 16+1    Male        Unknown   \n",
       "109316  2013/14    White British  ONS 2001 16+1     All        Unknown   \n",
       "109317  2013/14      White Irish  ONS 2001 16+1  Female        Unknown   \n",
       "109318  2013/14      White Irish  ONS 2001 16+1    Male        Unknown   \n",
       "109319  2013/14      White Irish  ONS 2001 16+1     All        Unknown   \n",
       "\n",
       "        Geography Number of arrests  \n",
       "0             All            60,208  \n",
       "1             All             9,290  \n",
       "2             All            50,918  \n",
       "3             All                75  \n",
       "4             All               941  \n",
       "...           ...               ...  \n",
       "109315  Wiltshire                 -  \n",
       "109316  Wiltshire                 -  \n",
       "109317  Wiltshire                 -  \n",
       "109318  Wiltshire                 -  \n",
       "109319  Wiltshire                 -  \n",
       "\n",
       "[106476 rows x 7 columns]"
      ]
     },
     "execution_count": 963,
     "metadata": {},
     "output_type": "execute_result"
    }
   ],
   "source": [
    "arrests_no_static_columns = arrests_no_static_columns.dropna()\n",
    "arrests_no_static_columns"
   ]
  },
  {
   "cell_type": "markdown",
   "metadata": {},
   "source": [
    "**Below:**\n",
    "\n",
    "Showing that there is an additional **38714 rows** that contain missing arrests identified as '-'; which will also be removed as replacing the missing arrests count with (mean or a predicted value) can cause ambiguity when identyfing bias in the dataset."
   ]
  },
  {
   "cell_type": "code",
   "execution_count": 964,
   "metadata": {},
   "outputs": [
    {
     "data": {
      "text/plain": [
       "(38714, 7)"
      ]
     },
     "execution_count": 964,
     "metadata": {},
     "output_type": "execute_result"
    }
   ],
   "source": [
    "# Showing that there is an additional 38714 rows that contains missing values; \n",
    "#  which will also be removed as replacing the missing arrests count with (mean or a predicted value)\n",
    "#   can cause ambiguity when identyfing bias in the dataset.\n",
    "arrests_no_static_columns.loc[arrests_no_static_columns['Number of arrests'] == '-'].shape"
   ]
  },
  {
   "cell_type": "code",
   "execution_count": 965,
   "metadata": {
    "scrolled": false
   },
   "outputs": [
    {
     "data": {
      "text/html": [
       "<div>\n",
       "<style scoped>\n",
       "    .dataframe tbody tr th:only-of-type {\n",
       "        vertical-align: middle;\n",
       "    }\n",
       "\n",
       "    .dataframe tbody tr th {\n",
       "        vertical-align: top;\n",
       "    }\n",
       "\n",
       "    .dataframe thead th {\n",
       "        text-align: right;\n",
       "    }\n",
       "</style>\n",
       "<table border=\"1\" class=\"dataframe\">\n",
       "  <thead>\n",
       "    <tr style=\"text-align: right;\">\n",
       "      <th></th>\n",
       "      <th>Time</th>\n",
       "      <th>Ethnicity</th>\n",
       "      <th>Ethnicity_type</th>\n",
       "      <th>Gender</th>\n",
       "      <th>Age_Group</th>\n",
       "      <th>Geography</th>\n",
       "      <th>Number of arrests</th>\n",
       "    </tr>\n",
       "  </thead>\n",
       "  <tbody>\n",
       "    <tr>\n",
       "      <th>0</th>\n",
       "      <td>2018/19</td>\n",
       "      <td>All</td>\n",
       "      <td>All</td>\n",
       "      <td>All</td>\n",
       "      <td>10 - 17 years</td>\n",
       "      <td>All</td>\n",
       "      <td>60,208</td>\n",
       "    </tr>\n",
       "    <tr>\n",
       "      <th>1</th>\n",
       "      <td>2018/19</td>\n",
       "      <td>All</td>\n",
       "      <td>All</td>\n",
       "      <td>Female</td>\n",
       "      <td>10 - 17 years</td>\n",
       "      <td>All</td>\n",
       "      <td>9,290</td>\n",
       "    </tr>\n",
       "    <tr>\n",
       "      <th>2</th>\n",
       "      <td>2018/19</td>\n",
       "      <td>All</td>\n",
       "      <td>All</td>\n",
       "      <td>Male</td>\n",
       "      <td>10 - 17 years</td>\n",
       "      <td>All</td>\n",
       "      <td>50,918</td>\n",
       "    </tr>\n",
       "    <tr>\n",
       "      <th>3</th>\n",
       "      <td>2018/19</td>\n",
       "      <td>Any other asian</td>\n",
       "      <td>ONS 2001 16+1</td>\n",
       "      <td>Female</td>\n",
       "      <td>10 - 17 years</td>\n",
       "      <td>All</td>\n",
       "      <td>75</td>\n",
       "    </tr>\n",
       "    <tr>\n",
       "      <th>4</th>\n",
       "      <td>2018/19</td>\n",
       "      <td>Any other asian</td>\n",
       "      <td>ONS 2001 16+1</td>\n",
       "      <td>Male</td>\n",
       "      <td>10 - 17 years</td>\n",
       "      <td>All</td>\n",
       "      <td>941</td>\n",
       "    </tr>\n",
       "    <tr>\n",
       "      <th>...</th>\n",
       "      <td>...</td>\n",
       "      <td>...</td>\n",
       "      <td>...</td>\n",
       "      <td>...</td>\n",
       "      <td>...</td>\n",
       "      <td>...</td>\n",
       "      <td>...</td>\n",
       "    </tr>\n",
       "    <tr>\n",
       "      <th>109174</th>\n",
       "      <td>2013/14</td>\n",
       "      <td>White</td>\n",
       "      <td>ONS 2001 5+1</td>\n",
       "      <td>Male</td>\n",
       "      <td>Unknown</td>\n",
       "      <td>West Midlands</td>\n",
       "      <td>3</td>\n",
       "    </tr>\n",
       "    <tr>\n",
       "      <th>109175</th>\n",
       "      <td>2013/14</td>\n",
       "      <td>White</td>\n",
       "      <td>ONS 2001 5+1</td>\n",
       "      <td>All</td>\n",
       "      <td>Unknown</td>\n",
       "      <td>West Midlands</td>\n",
       "      <td>5</td>\n",
       "    </tr>\n",
       "    <tr>\n",
       "      <th>109176</th>\n",
       "      <td>2013/14</td>\n",
       "      <td>White British</td>\n",
       "      <td>ONS 2001 16+1</td>\n",
       "      <td>Female</td>\n",
       "      <td>Unknown</td>\n",
       "      <td>West Midlands</td>\n",
       "      <td>1</td>\n",
       "    </tr>\n",
       "    <tr>\n",
       "      <th>109177</th>\n",
       "      <td>2013/14</td>\n",
       "      <td>White British</td>\n",
       "      <td>ONS 2001 16+1</td>\n",
       "      <td>Male</td>\n",
       "      <td>Unknown</td>\n",
       "      <td>West Midlands</td>\n",
       "      <td>3</td>\n",
       "    </tr>\n",
       "    <tr>\n",
       "      <th>109178</th>\n",
       "      <td>2013/14</td>\n",
       "      <td>White British</td>\n",
       "      <td>ONS 2001 16+1</td>\n",
       "      <td>All</td>\n",
       "      <td>Unknown</td>\n",
       "      <td>West Midlands</td>\n",
       "      <td>4</td>\n",
       "    </tr>\n",
       "  </tbody>\n",
       "</table>\n",
       "<p>67762 rows × 7 columns</p>\n",
       "</div>"
      ],
      "text/plain": [
       "           Time        Ethnicity Ethnicity_type  Gender      Age_Group  \\\n",
       "0       2018/19              All            All     All  10 - 17 years   \n",
       "1       2018/19              All            All  Female  10 - 17 years   \n",
       "2       2018/19              All            All    Male  10 - 17 years   \n",
       "3       2018/19  Any other asian  ONS 2001 16+1  Female  10 - 17 years   \n",
       "4       2018/19  Any other asian  ONS 2001 16+1    Male  10 - 17 years   \n",
       "...         ...              ...            ...     ...            ...   \n",
       "109174  2013/14            White   ONS 2001 5+1    Male        Unknown   \n",
       "109175  2013/14            White   ONS 2001 5+1     All        Unknown   \n",
       "109176  2013/14    White British  ONS 2001 16+1  Female        Unknown   \n",
       "109177  2013/14    White British  ONS 2001 16+1    Male        Unknown   \n",
       "109178  2013/14    White British  ONS 2001 16+1     All        Unknown   \n",
       "\n",
       "            Geography Number of arrests  \n",
       "0                 All            60,208  \n",
       "1                 All             9,290  \n",
       "2                 All            50,918  \n",
       "3                 All                75  \n",
       "4                 All               941  \n",
       "...               ...               ...  \n",
       "109174  West Midlands                 3  \n",
       "109175  West Midlands                 5  \n",
       "109176  West Midlands                 1  \n",
       "109177  West Midlands                 3  \n",
       "109178  West Midlands                 4  \n",
       "\n",
       "[67762 rows x 7 columns]"
      ]
     },
     "execution_count": 965,
     "metadata": {},
     "output_type": "execute_result"
    }
   ],
   "source": [
    "# Replacing the '-' missing values with np.nan so we can remove all rows with missing values using .dropna command\n",
    "arrests_no_static_columns = arrests_no_static_columns.replace('-', np.nan)\n",
    "arrests_no_static_columns_no_nan = arrests_no_static_columns.dropna()\n",
    "arrests_no_static_columns_no_nan"
   ]
  },
  {
   "cell_type": "markdown",
   "metadata": {},
   "source": [
    "**It has been noticed that the number of arrests are splitted with ',' to show the thousands; therefore the comma will be removed and the generated number will be converted to float64.**"
   ]
  },
  {
   "cell_type": "code",
   "execution_count": 966,
   "metadata": {},
   "outputs": [
    {
     "name": "stdout",
     "output_type": "stream",
     "text": [
      "<class 'pandas.core.frame.DataFrame'>\n",
      "Int64Index: 67762 entries, 0 to 109178\n",
      "Data columns (total 7 columns):\n",
      " #   Column             Non-Null Count  Dtype  \n",
      "---  ------             --------------  -----  \n",
      " 0   Time               67762 non-null  object \n",
      " 1   Ethnicity          67762 non-null  object \n",
      " 2   Ethnicity_type     67762 non-null  object \n",
      " 3   Gender             67762 non-null  object \n",
      " 4   Age_Group          67762 non-null  object \n",
      " 5   Geography          67762 non-null  object \n",
      " 6   Number of arrests  67762 non-null  float64\n",
      "dtypes: float64(1), object(6)\n",
      "memory usage: 4.1+ MB\n"
     ]
    },
    {
     "name": "stderr",
     "output_type": "stream",
     "text": [
      "C:\\Users\\rashe\\anaconda3\\lib\\site-packages\\ipykernel_launcher.py:1: SettingWithCopyWarning:\n",
      "\n",
      "\n",
      "A value is trying to be set on a copy of a slice from a DataFrame.\n",
      "Try using .loc[row_indexer,col_indexer] = value instead\n",
      "\n",
      "See the caveats in the documentation: https://pandas.pydata.org/pandas-docs/stable/user_guide/indexing.html#returning-a-view-versus-a-copy\n",
      "\n"
     ]
    }
   ],
   "source": [
    "arrests_no_static_columns_no_nan['Number of arrests'] = arrests_no_static_columns_no_nan['Number of arrests'].str.replace(',', '').astype(float)\n",
    "arrests_no_static_columns_no_nan.info()"
   ]
  },
  {
   "cell_type": "markdown",
   "metadata": {},
   "source": [
    "**Note:**\n",
    "\n",
    "Ethnicity_type attribute will be removed as ONS coding system is used there; therefore, **'Ethnicity'** feature will be used to identify the ethnic property of a row."
   ]
  },
  {
   "cell_type": "code",
   "execution_count": 967,
   "metadata": {
    "scrolled": false
   },
   "outputs": [
    {
     "data": {
      "text/html": [
       "<div>\n",
       "<style scoped>\n",
       "    .dataframe tbody tr th:only-of-type {\n",
       "        vertical-align: middle;\n",
       "    }\n",
       "\n",
       "    .dataframe tbody tr th {\n",
       "        vertical-align: top;\n",
       "    }\n",
       "\n",
       "    .dataframe thead th {\n",
       "        text-align: right;\n",
       "    }\n",
       "</style>\n",
       "<table border=\"1\" class=\"dataframe\">\n",
       "  <thead>\n",
       "    <tr style=\"text-align: right;\">\n",
       "      <th></th>\n",
       "      <th>Time</th>\n",
       "      <th>Ethnicity</th>\n",
       "      <th>Gender</th>\n",
       "      <th>Age_Group</th>\n",
       "      <th>Geography</th>\n",
       "      <th>Number of arrests</th>\n",
       "    </tr>\n",
       "  </thead>\n",
       "  <tbody>\n",
       "    <tr>\n",
       "      <th>0</th>\n",
       "      <td>2018/19</td>\n",
       "      <td>All</td>\n",
       "      <td>All</td>\n",
       "      <td>10 - 17 years</td>\n",
       "      <td>All</td>\n",
       "      <td>60208.0</td>\n",
       "    </tr>\n",
       "    <tr>\n",
       "      <th>1</th>\n",
       "      <td>2018/19</td>\n",
       "      <td>All</td>\n",
       "      <td>Female</td>\n",
       "      <td>10 - 17 years</td>\n",
       "      <td>All</td>\n",
       "      <td>9290.0</td>\n",
       "    </tr>\n",
       "    <tr>\n",
       "      <th>2</th>\n",
       "      <td>2018/19</td>\n",
       "      <td>All</td>\n",
       "      <td>Male</td>\n",
       "      <td>10 - 17 years</td>\n",
       "      <td>All</td>\n",
       "      <td>50918.0</td>\n",
       "    </tr>\n",
       "    <tr>\n",
       "      <th>3</th>\n",
       "      <td>2018/19</td>\n",
       "      <td>Any other asian</td>\n",
       "      <td>Female</td>\n",
       "      <td>10 - 17 years</td>\n",
       "      <td>All</td>\n",
       "      <td>75.0</td>\n",
       "    </tr>\n",
       "    <tr>\n",
       "      <th>4</th>\n",
       "      <td>2018/19</td>\n",
       "      <td>Any other asian</td>\n",
       "      <td>Male</td>\n",
       "      <td>10 - 17 years</td>\n",
       "      <td>All</td>\n",
       "      <td>941.0</td>\n",
       "    </tr>\n",
       "    <tr>\n",
       "      <th>...</th>\n",
       "      <td>...</td>\n",
       "      <td>...</td>\n",
       "      <td>...</td>\n",
       "      <td>...</td>\n",
       "      <td>...</td>\n",
       "      <td>...</td>\n",
       "    </tr>\n",
       "    <tr>\n",
       "      <th>109174</th>\n",
       "      <td>2013/14</td>\n",
       "      <td>White</td>\n",
       "      <td>Male</td>\n",
       "      <td>Unknown</td>\n",
       "      <td>West Midlands</td>\n",
       "      <td>3.0</td>\n",
       "    </tr>\n",
       "    <tr>\n",
       "      <th>109175</th>\n",
       "      <td>2013/14</td>\n",
       "      <td>White</td>\n",
       "      <td>All</td>\n",
       "      <td>Unknown</td>\n",
       "      <td>West Midlands</td>\n",
       "      <td>5.0</td>\n",
       "    </tr>\n",
       "    <tr>\n",
       "      <th>109176</th>\n",
       "      <td>2013/14</td>\n",
       "      <td>White British</td>\n",
       "      <td>Female</td>\n",
       "      <td>Unknown</td>\n",
       "      <td>West Midlands</td>\n",
       "      <td>1.0</td>\n",
       "    </tr>\n",
       "    <tr>\n",
       "      <th>109177</th>\n",
       "      <td>2013/14</td>\n",
       "      <td>White British</td>\n",
       "      <td>Male</td>\n",
       "      <td>Unknown</td>\n",
       "      <td>West Midlands</td>\n",
       "      <td>3.0</td>\n",
       "    </tr>\n",
       "    <tr>\n",
       "      <th>109178</th>\n",
       "      <td>2013/14</td>\n",
       "      <td>White British</td>\n",
       "      <td>All</td>\n",
       "      <td>Unknown</td>\n",
       "      <td>West Midlands</td>\n",
       "      <td>4.0</td>\n",
       "    </tr>\n",
       "  </tbody>\n",
       "</table>\n",
       "<p>67762 rows × 6 columns</p>\n",
       "</div>"
      ],
      "text/plain": [
       "           Time        Ethnicity  Gender      Age_Group      Geography  \\\n",
       "0       2018/19              All     All  10 - 17 years            All   \n",
       "1       2018/19              All  Female  10 - 17 years            All   \n",
       "2       2018/19              All    Male  10 - 17 years            All   \n",
       "3       2018/19  Any other asian  Female  10 - 17 years            All   \n",
       "4       2018/19  Any other asian    Male  10 - 17 years            All   \n",
       "...         ...              ...     ...            ...            ...   \n",
       "109174  2013/14            White    Male        Unknown  West Midlands   \n",
       "109175  2013/14            White     All        Unknown  West Midlands   \n",
       "109176  2013/14    White British  Female        Unknown  West Midlands   \n",
       "109177  2013/14    White British    Male        Unknown  West Midlands   \n",
       "109178  2013/14    White British     All        Unknown  West Midlands   \n",
       "\n",
       "        Number of arrests  \n",
       "0                 60208.0  \n",
       "1                  9290.0  \n",
       "2                 50918.0  \n",
       "3                    75.0  \n",
       "4                   941.0  \n",
       "...                   ...  \n",
       "109174                3.0  \n",
       "109175                5.0  \n",
       "109176                1.0  \n",
       "109177                3.0  \n",
       "109178                4.0  \n",
       "\n",
       "[67762 rows x 6 columns]"
      ]
     },
     "execution_count": 967,
     "metadata": {},
     "output_type": "execute_result"
    }
   ],
   "source": [
    "arrests_no_static_columns_no_nan=arrests_no_static_columns_no_nan.drop(axis=1,labels=['Ethnicity_type'])\n",
    "arrests_no_static_columns_no_nan\n"
   ]
  },
  {
   "cell_type": "markdown",
   "metadata": {},
   "source": [
    "**Below:** Displaying all the distinct values of different attributes so the following preprocess can be done:\n",
    "\n",
    "1. **Ethnicity:** values can be shortlisted to [Asian,Black,Bangladeshi, Indian, Pakistani, White, Mixed].\n",
    "2. **Remove unknown Age_Group instances:** some age_group instances has missing values which will be removed.\n",
    "3. **Create an ALL dataframe:** some rows has the value \"All\" for Ethnicity, Gender, Age_group & Geography to give an overall view of the dataset which will be extracted.\n",
    "\n"
   ]
  },
  {
   "cell_type": "code",
   "execution_count": 968,
   "metadata": {
    "scrolled": false
   },
   "outputs": [
    {
     "name": "stdout",
     "output_type": "stream",
     "text": [
      "column: Time \n",
      "Number of unique values: 6 \n",
      "Unique values: ['2018/19' '2017/18' '2016/17' '2015/16' '2014/15' '2013/14'] \n",
      "\n",
      "column: Ethnicity \n",
      "Number of unique values: 23 \n",
      "Unique values: ['All' 'Any other asian' 'Any other black background'\n",
      " 'Any other ethnic group' 'Any other mixed/multiple ethnic background'\n",
      " 'Any other white background' 'Asian' 'Bangladeshi' 'Black'\n",
      " 'Black African' 'Black Caribbean' 'Chinese' 'Indian' 'Mixed'\n",
      " 'Mixed White and Asian' 'Mixed White and Black African'\n",
      " 'Mixed White and Black Caribbean' 'Other' 'Pakistani' 'Unreported'\n",
      " 'White' 'White British' 'White Irish'] \n",
      "\n",
      "column: Gender \n",
      "Number of unique values: 3 \n",
      "Unique values: ['All' 'Female' 'Male'] \n",
      "\n",
      "column: Age_Group \n",
      "Number of unique values: 6 \n",
      "Unique values: ['10 - 17 years' '18 - 20 years' '21 years and over' 'All'\n",
      " 'Under 10 years' 'Unknown'] \n",
      "\n",
      "column: Geography \n",
      "Number of unique values: 45 \n",
      "Unique values: ['All' 'Avon and Somerset' 'Bedfordshire' 'Cambridgeshire' 'Cheshire'\n",
      " 'Cleveland' 'Cumbria' 'Derbyshire' 'Devon and Cornwall' 'Dorset' 'Durham'\n",
      " 'Dyfed-Powys' 'Essex' 'Gloucestershire' 'Greater Manchester' 'Gwent'\n",
      " 'Hampshire' 'Hertfordshire' 'Humberside' 'Kent' 'Leicestershire'\n",
      " 'Lincolnshire' 'London, City of' 'Merseyside' 'Metropolitan Police'\n",
      " 'Norfolk' 'North Wales' 'North Yorkshire' 'Northamptonshire'\n",
      " 'Northumbria' 'Nottinghamshire' 'South Wales' 'South Yorkshire'\n",
      " 'Staffordshire' 'Suffolk' 'Surrey' 'Sussex' 'Thames Valley'\n",
      " 'Warwickshire' 'West Mercia' 'West Midlands' 'West Yorkshire' 'Wiltshire'\n",
      " 'Lancashire' 'England and Wales excluding Lancashire'] \n",
      "\n"
     ]
    }
   ],
   "source": [
    "# Showing the distinct values in columns that contain less than 3 distinct values\n",
    "non_unique = arrests_no_static_columns_no_nan.apply(pd.Series.nunique)\n",
    "static_columns = non_unique[(non_unique>=1)&(non_unique<200)].index\n",
    "for i in static_columns:\n",
    "    print('column:',i,'\\nNumber of unique values:',len(arrests_no_static_columns_no_nan[i].unique()),'\\nUnique values:',arrests_no_static_columns_no_nan[i].unique(),'\\n')"
   ]
  },
  {
   "cell_type": "code",
   "execution_count": 969,
   "metadata": {},
   "outputs": [],
   "source": [
    "# Grouping multiple ethnicity to enhance data visualisation and the drawn conclusions\n",
    "#  The grouping is based on how close are the grouped ethnicities are to each other.\n",
    "final_ethnic_group = {'Pakistani':'Asian','Bangladeshi':'Asian','Indian':'Asian','Any other asian':'Asian','Chinese':'Asian','Any other black background':'Black','Black African':'Black','Black Caribbean':'Black','Mixed White and Black African':'Mixed','Mixed White and Black Caribbean':'Mixed','Any other white background':'White','White British':'White','White Irish':'White','Any other mixed/multiple ethnic background':'Mixed','Mixed White and Asian':'Mixed','Any other ethnic group':'Other'  }\n",
    "arrests_no_static_columns_no_nan=arrests_no_static_columns_no_nan.replace({\"Ethnicity\":final_ethnic_group})\n"
   ]
  },
  {
   "cell_type": "markdown",
   "metadata": {},
   "source": [
    "**Removing missing age groups and Unreported ethnicities.**\n"
   ]
  },
  {
   "cell_type": "code",
   "execution_count": 970,
   "metadata": {},
   "outputs": [],
   "source": [
    "arrests_no_static_columns_no_nan = arrests_no_static_columns_no_nan.replace('Unknown', np.nan)\n",
    "arrests_no_static_columns_no_nan = arrests_no_static_columns_no_nan.dropna()\n"
   ]
  },
  {
   "cell_type": "code",
   "execution_count": 971,
   "metadata": {},
   "outputs": [],
   "source": [
    "arrests_no_static_columns_no_nan = arrests_no_static_columns_no_nan.replace('Unreported', np.nan)\n",
    "arrests_no_static_columns_no_nan = arrests_no_static_columns_no_nan.dropna()"
   ]
  },
  {
   "cell_type": "markdown",
   "metadata": {},
   "source": [
    "\n",
    "**Removing instances with age groups Under 10 years to allow compatability between different datasets as they all start from age 10+.**"
   ]
  },
  {
   "cell_type": "code",
   "execution_count": 972,
   "metadata": {},
   "outputs": [],
   "source": [
    "arrests_no_static_columns_no_nan = arrests_no_static_columns_no_nan[arrests_no_static_columns_no_nan.Age_Group != 'Under 10 years']"
   ]
  },
  {
   "cell_type": "markdown",
   "metadata": {},
   "source": [
    "**Removing any row that contains an \"All\" value for any of its attributes; as such rows are generated by summing other rows depending on the column that had the \"All\" value**."
   ]
  },
  {
   "cell_type": "code",
   "execution_count": 973,
   "metadata": {},
   "outputs": [],
   "source": [
    "arrests_no_static_columns_no_nan = arrests_no_static_columns_no_nan.replace('All', np.nan)\n",
    "arrests_no_static_columns_no_nan = arrests_no_static_columns_no_nan.dropna()"
   ]
  },
  {
   "cell_type": "markdown",
   "metadata": {},
   "source": [
    "**Reshowing all the distinct values for the arrests dataset before visualisation**"
   ]
  },
  {
   "cell_type": "code",
   "execution_count": 974,
   "metadata": {
    "scrolled": false
   },
   "outputs": [
    {
     "name": "stdout",
     "output_type": "stream",
     "text": [
      "column: Time \n",
      "Number of unique values: 6 \n",
      "Unique values: ['2018/19' '2017/18' '2016/17' '2015/16' '2014/15' '2013/14'] \n",
      "\n",
      "column: Ethnicity \n",
      "Number of unique values: 5 \n",
      "Unique values: ['Asian' 'Black' 'Other' 'Mixed' 'White'] \n",
      "\n",
      "column: Gender \n",
      "Number of unique values: 2 \n",
      "Unique values: ['Male' 'Female'] \n",
      "\n",
      "column: Age_Group \n",
      "Number of unique values: 3 \n",
      "Unique values: ['10 - 17 years' '18 - 20 years' '21 years and over'] \n",
      "\n",
      "column: Geography \n",
      "Number of unique values: 43 \n",
      "Unique values: ['Avon and Somerset' 'Bedfordshire' 'Cambridgeshire' 'Cheshire'\n",
      " 'Cleveland' 'Cumbria' 'Derbyshire' 'Devon and Cornwall' 'Dorset' 'Durham'\n",
      " 'Dyfed-Powys' 'Essex' 'Gloucestershire' 'Greater Manchester' 'Gwent'\n",
      " 'Hampshire' 'Hertfordshire' 'Humberside' 'Kent' 'Leicestershire'\n",
      " 'Lincolnshire' 'London, City of' 'Merseyside' 'Metropolitan Police'\n",
      " 'Norfolk' 'North Wales' 'North Yorkshire' 'Northamptonshire'\n",
      " 'Northumbria' 'Nottinghamshire' 'South Wales' 'South Yorkshire'\n",
      " 'Staffordshire' 'Suffolk' 'Surrey' 'Sussex' 'Thames Valley'\n",
      " 'Warwickshire' 'West Mercia' 'West Midlands' 'West Yorkshire' 'Wiltshire'\n",
      " 'Lancashire'] \n",
      "\n"
     ]
    }
   ],
   "source": [
    "# Showing the distinct values in columns that contain less than 3 distinct values\n",
    "non_unique = arrests_no_static_columns_no_nan.apply(pd.Series.nunique)\n",
    "static_columns = non_unique[(non_unique>=1)&(non_unique<200)].index\n",
    "for i in static_columns:\n",
    "    print('column:',i,'\\nNumber of unique values:',len(arrests_no_static_columns_no_nan[i].unique()),'\\nUnique values:',arrests_no_static_columns_no_nan[i].unique(),'\\n')"
   ]
  },
  {
   "cell_type": "code",
   "execution_count": 975,
   "metadata": {
    "scrolled": false
   },
   "outputs": [
    {
     "data": {
      "text/html": [
       "<div>\n",
       "<style scoped>\n",
       "    .dataframe tbody tr th:only-of-type {\n",
       "        vertical-align: middle;\n",
       "    }\n",
       "\n",
       "    .dataframe tbody tr th {\n",
       "        vertical-align: top;\n",
       "    }\n",
       "\n",
       "    .dataframe thead th {\n",
       "        text-align: right;\n",
       "    }\n",
       "</style>\n",
       "<table border=\"1\" class=\"dataframe\">\n",
       "  <thead>\n",
       "    <tr style=\"text-align: right;\">\n",
       "      <th></th>\n",
       "      <th>Number of arrests</th>\n",
       "    </tr>\n",
       "    <tr>\n",
       "      <th>Ethnicity</th>\n",
       "      <th></th>\n",
       "    </tr>\n",
       "  </thead>\n",
       "  <tbody>\n",
       "    <tr>\n",
       "      <th>White</th>\n",
       "      <td>7255230.0</td>\n",
       "    </tr>\n",
       "    <tr>\n",
       "      <th>Black</th>\n",
       "      <td>890163.0</td>\n",
       "    </tr>\n",
       "    <tr>\n",
       "      <th>Asian</th>\n",
       "      <td>653328.0</td>\n",
       "    </tr>\n",
       "    <tr>\n",
       "      <th>Mixed</th>\n",
       "      <td>315802.0</td>\n",
       "    </tr>\n",
       "    <tr>\n",
       "      <th>Other</th>\n",
       "      <td>143046.0</td>\n",
       "    </tr>\n",
       "  </tbody>\n",
       "</table>\n",
       "</div>"
      ],
      "text/plain": [
       "           Number of arrests\n",
       "Ethnicity                   \n",
       "White              7255230.0\n",
       "Black               890163.0\n",
       "Asian               653328.0\n",
       "Mixed               315802.0\n",
       "Other               143046.0"
      ]
     },
     "execution_count": 975,
     "metadata": {},
     "output_type": "execute_result"
    }
   ],
   "source": [
    "\n",
    "plot_ethnicity_arrests=pd.DataFrame((arrests_no_static_columns_no_nan.groupby('Ethnicity')['Number of arrests']).sum().sort_values(ascending=False))\n",
    "plot_ethnicity_arrests"
   ]
  },
  {
   "cell_type": "markdown",
   "metadata": {},
   "source": [
    "**Showing the correlation between the Ethnicity and Arrests in the cleaned arrests dataset**"
   ]
  },
  {
   "cell_type": "code",
   "execution_count": 1125,
   "metadata": {},
   "outputs": [
    {
     "data": {
      "application/vnd.plotly.v1+json": {
       "config": {
        "plotlyServerURL": "https://plot.ly"
       },
       "data": [
        {
         "alignmentgroup": "True",
         "hoverlabel": {
          "namelength": 0
         },
         "hovertemplate": "color=White<br>x=%{x}<br>Number of arrests=%{y}",
         "legendgroup": "White",
         "marker": {
          "color": "rgb(102, 197, 204)"
         },
         "name": "White",
         "offsetgroup": "White",
         "orientation": "v",
         "showlegend": true,
         "textposition": "auto",
         "type": "bar",
         "x": [
          "White"
         ],
         "xaxis": "x",
         "y": [
          7255230
         ],
         "yaxis": "y"
        },
        {
         "alignmentgroup": "True",
         "hoverlabel": {
          "namelength": 0
         },
         "hovertemplate": "color=Black<br>x=%{x}<br>Number of arrests=%{y}",
         "legendgroup": "Black",
         "marker": {
          "color": "rgb(246, 207, 113)"
         },
         "name": "Black",
         "offsetgroup": "Black",
         "orientation": "v",
         "showlegend": true,
         "textposition": "auto",
         "type": "bar",
         "x": [
          "Black"
         ],
         "xaxis": "x",
         "y": [
          890163
         ],
         "yaxis": "y"
        },
        {
         "alignmentgroup": "True",
         "hoverlabel": {
          "namelength": 0
         },
         "hovertemplate": "color=Asian<br>x=%{x}<br>Number of arrests=%{y}",
         "legendgroup": "Asian",
         "marker": {
          "color": "rgb(248, 156, 116)"
         },
         "name": "Asian",
         "offsetgroup": "Asian",
         "orientation": "v",
         "showlegend": true,
         "textposition": "auto",
         "type": "bar",
         "x": [
          "Asian"
         ],
         "xaxis": "x",
         "y": [
          653328
         ],
         "yaxis": "y"
        },
        {
         "alignmentgroup": "True",
         "hoverlabel": {
          "namelength": 0
         },
         "hovertemplate": "color=Mixed<br>x=%{x}<br>Number of arrests=%{y}",
         "legendgroup": "Mixed",
         "marker": {
          "color": "rgb(220, 176, 242)"
         },
         "name": "Mixed",
         "offsetgroup": "Mixed",
         "orientation": "v",
         "showlegend": true,
         "textposition": "auto",
         "type": "bar",
         "x": [
          "Mixed"
         ],
         "xaxis": "x",
         "y": [
          315802
         ],
         "yaxis": "y"
        },
        {
         "alignmentgroup": "True",
         "hoverlabel": {
          "namelength": 0
         },
         "hovertemplate": "color=Other<br>x=%{x}<br>Number of arrests=%{y}",
         "legendgroup": "Other",
         "marker": {
          "color": "rgb(135, 197, 95)"
         },
         "name": "Other",
         "offsetgroup": "Other",
         "orientation": "v",
         "showlegend": true,
         "textposition": "auto",
         "type": "bar",
         "x": [
          "Other"
         ],
         "xaxis": "x",
         "y": [
          143046
         ],
         "yaxis": "y"
        }
       ],
       "layout": {
        "barmode": "relative",
        "legend": {
         "title": {
          "text": "color"
         },
         "tracegroupgap": 0
        },
        "margin": {
         "t": 60
        },
        "template": {
         "data": {
          "bar": [
           {
            "error_x": {
             "color": "rgb(51,51,51)"
            },
            "error_y": {
             "color": "rgb(51,51,51)"
            },
            "marker": {
             "line": {
              "color": "rgb(237,237,237)",
              "width": 0.5
             }
            },
            "type": "bar"
           }
          ],
          "barpolar": [
           {
            "marker": {
             "line": {
              "color": "rgb(237,237,237)",
              "width": 0.5
             }
            },
            "type": "barpolar"
           }
          ],
          "carpet": [
           {
            "aaxis": {
             "endlinecolor": "rgb(51,51,51)",
             "gridcolor": "white",
             "linecolor": "white",
             "minorgridcolor": "white",
             "startlinecolor": "rgb(51,51,51)"
            },
            "baxis": {
             "endlinecolor": "rgb(51,51,51)",
             "gridcolor": "white",
             "linecolor": "white",
             "minorgridcolor": "white",
             "startlinecolor": "rgb(51,51,51)"
            },
            "type": "carpet"
           }
          ],
          "choropleth": [
           {
            "colorbar": {
             "outlinewidth": 0,
             "tickcolor": "rgb(237,237,237)",
             "ticklen": 6,
             "ticks": "inside"
            },
            "type": "choropleth"
           }
          ],
          "contour": [
           {
            "colorbar": {
             "outlinewidth": 0,
             "tickcolor": "rgb(237,237,237)",
             "ticklen": 6,
             "ticks": "inside"
            },
            "colorscale": [
             [
              0,
              "rgb(20,44,66)"
             ],
             [
              1,
              "rgb(90,179,244)"
             ]
            ],
            "type": "contour"
           }
          ],
          "contourcarpet": [
           {
            "colorbar": {
             "outlinewidth": 0,
             "tickcolor": "rgb(237,237,237)",
             "ticklen": 6,
             "ticks": "inside"
            },
            "type": "contourcarpet"
           }
          ],
          "heatmap": [
           {
            "colorbar": {
             "outlinewidth": 0,
             "tickcolor": "rgb(237,237,237)",
             "ticklen": 6,
             "ticks": "inside"
            },
            "colorscale": [
             [
              0,
              "rgb(20,44,66)"
             ],
             [
              1,
              "rgb(90,179,244)"
             ]
            ],
            "type": "heatmap"
           }
          ],
          "heatmapgl": [
           {
            "colorbar": {
             "outlinewidth": 0,
             "tickcolor": "rgb(237,237,237)",
             "ticklen": 6,
             "ticks": "inside"
            },
            "colorscale": [
             [
              0,
              "rgb(20,44,66)"
             ],
             [
              1,
              "rgb(90,179,244)"
             ]
            ],
            "type": "heatmapgl"
           }
          ],
          "histogram": [
           {
            "marker": {
             "colorbar": {
              "outlinewidth": 0,
              "tickcolor": "rgb(237,237,237)",
              "ticklen": 6,
              "ticks": "inside"
             }
            },
            "type": "histogram"
           }
          ],
          "histogram2d": [
           {
            "colorbar": {
             "outlinewidth": 0,
             "tickcolor": "rgb(237,237,237)",
             "ticklen": 6,
             "ticks": "inside"
            },
            "colorscale": [
             [
              0,
              "rgb(20,44,66)"
             ],
             [
              1,
              "rgb(90,179,244)"
             ]
            ],
            "type": "histogram2d"
           }
          ],
          "histogram2dcontour": [
           {
            "colorbar": {
             "outlinewidth": 0,
             "tickcolor": "rgb(237,237,237)",
             "ticklen": 6,
             "ticks": "inside"
            },
            "colorscale": [
             [
              0,
              "rgb(20,44,66)"
             ],
             [
              1,
              "rgb(90,179,244)"
             ]
            ],
            "type": "histogram2dcontour"
           }
          ],
          "mesh3d": [
           {
            "colorbar": {
             "outlinewidth": 0,
             "tickcolor": "rgb(237,237,237)",
             "ticklen": 6,
             "ticks": "inside"
            },
            "type": "mesh3d"
           }
          ],
          "parcoords": [
           {
            "line": {
             "colorbar": {
              "outlinewidth": 0,
              "tickcolor": "rgb(237,237,237)",
              "ticklen": 6,
              "ticks": "inside"
             }
            },
            "type": "parcoords"
           }
          ],
          "pie": [
           {
            "automargin": true,
            "type": "pie"
           }
          ],
          "scatter": [
           {
            "marker": {
             "colorbar": {
              "outlinewidth": 0,
              "tickcolor": "rgb(237,237,237)",
              "ticklen": 6,
              "ticks": "inside"
             }
            },
            "type": "scatter"
           }
          ],
          "scatter3d": [
           {
            "line": {
             "colorbar": {
              "outlinewidth": 0,
              "tickcolor": "rgb(237,237,237)",
              "ticklen": 6,
              "ticks": "inside"
             }
            },
            "marker": {
             "colorbar": {
              "outlinewidth": 0,
              "tickcolor": "rgb(237,237,237)",
              "ticklen": 6,
              "ticks": "inside"
             }
            },
            "type": "scatter3d"
           }
          ],
          "scattercarpet": [
           {
            "marker": {
             "colorbar": {
              "outlinewidth": 0,
              "tickcolor": "rgb(237,237,237)",
              "ticklen": 6,
              "ticks": "inside"
             }
            },
            "type": "scattercarpet"
           }
          ],
          "scattergeo": [
           {
            "marker": {
             "colorbar": {
              "outlinewidth": 0,
              "tickcolor": "rgb(237,237,237)",
              "ticklen": 6,
              "ticks": "inside"
             }
            },
            "type": "scattergeo"
           }
          ],
          "scattergl": [
           {
            "marker": {
             "colorbar": {
              "outlinewidth": 0,
              "tickcolor": "rgb(237,237,237)",
              "ticklen": 6,
              "ticks": "inside"
             }
            },
            "type": "scattergl"
           }
          ],
          "scattermapbox": [
           {
            "marker": {
             "colorbar": {
              "outlinewidth": 0,
              "tickcolor": "rgb(237,237,237)",
              "ticklen": 6,
              "ticks": "inside"
             }
            },
            "type": "scattermapbox"
           }
          ],
          "scatterpolar": [
           {
            "marker": {
             "colorbar": {
              "outlinewidth": 0,
              "tickcolor": "rgb(237,237,237)",
              "ticklen": 6,
              "ticks": "inside"
             }
            },
            "type": "scatterpolar"
           }
          ],
          "scatterpolargl": [
           {
            "marker": {
             "colorbar": {
              "outlinewidth": 0,
              "tickcolor": "rgb(237,237,237)",
              "ticklen": 6,
              "ticks": "inside"
             }
            },
            "type": "scatterpolargl"
           }
          ],
          "scatterternary": [
           {
            "marker": {
             "colorbar": {
              "outlinewidth": 0,
              "tickcolor": "rgb(237,237,237)",
              "ticklen": 6,
              "ticks": "inside"
             }
            },
            "type": "scatterternary"
           }
          ],
          "surface": [
           {
            "colorbar": {
             "outlinewidth": 0,
             "tickcolor": "rgb(237,237,237)",
             "ticklen": 6,
             "ticks": "inside"
            },
            "colorscale": [
             [
              0,
              "rgb(20,44,66)"
             ],
             [
              1,
              "rgb(90,179,244)"
             ]
            ],
            "type": "surface"
           }
          ],
          "table": [
           {
            "cells": {
             "fill": {
              "color": "rgb(237,237,237)"
             },
             "line": {
              "color": "white"
             }
            },
            "header": {
             "fill": {
              "color": "rgb(217,217,217)"
             },
             "line": {
              "color": "white"
             }
            },
            "type": "table"
           }
          ]
         },
         "layout": {
          "annotationdefaults": {
           "arrowhead": 0,
           "arrowwidth": 1
          },
          "coloraxis": {
           "colorbar": {
            "outlinewidth": 0,
            "tickcolor": "rgb(237,237,237)",
            "ticklen": 6,
            "ticks": "inside"
           }
          },
          "colorscale": {
           "sequential": [
            [
             0,
             "rgb(20,44,66)"
            ],
            [
             1,
             "rgb(90,179,244)"
            ]
           ],
           "sequentialminus": [
            [
             0,
             "rgb(20,44,66)"
            ],
            [
             1,
             "rgb(90,179,244)"
            ]
           ]
          },
          "colorway": [
           "#F8766D",
           "#A3A500",
           "#00BF7D",
           "#00B0F6",
           "#E76BF3"
          ],
          "font": {
           "color": "rgb(51,51,51)"
          },
          "geo": {
           "bgcolor": "white",
           "lakecolor": "white",
           "landcolor": "rgb(237,237,237)",
           "showlakes": true,
           "showland": true,
           "subunitcolor": "white"
          },
          "hoverlabel": {
           "align": "left"
          },
          "hovermode": "closest",
          "paper_bgcolor": "white",
          "plot_bgcolor": "rgb(237,237,237)",
          "polar": {
           "angularaxis": {
            "gridcolor": "white",
            "linecolor": "white",
            "showgrid": true,
            "tickcolor": "rgb(51,51,51)",
            "ticks": "outside"
           },
           "bgcolor": "rgb(237,237,237)",
           "radialaxis": {
            "gridcolor": "white",
            "linecolor": "white",
            "showgrid": true,
            "tickcolor": "rgb(51,51,51)",
            "ticks": "outside"
           }
          },
          "scene": {
           "xaxis": {
            "backgroundcolor": "rgb(237,237,237)",
            "gridcolor": "white",
            "gridwidth": 2,
            "linecolor": "white",
            "showbackground": true,
            "showgrid": true,
            "tickcolor": "rgb(51,51,51)",
            "ticks": "outside",
            "zerolinecolor": "white"
           },
           "yaxis": {
            "backgroundcolor": "rgb(237,237,237)",
            "gridcolor": "white",
            "gridwidth": 2,
            "linecolor": "white",
            "showbackground": true,
            "showgrid": true,
            "tickcolor": "rgb(51,51,51)",
            "ticks": "outside",
            "zerolinecolor": "white"
           },
           "zaxis": {
            "backgroundcolor": "rgb(237,237,237)",
            "gridcolor": "white",
            "gridwidth": 2,
            "linecolor": "white",
            "showbackground": true,
            "showgrid": true,
            "tickcolor": "rgb(51,51,51)",
            "ticks": "outside",
            "zerolinecolor": "white"
           }
          },
          "shapedefaults": {
           "fillcolor": "black",
           "line": {
            "width": 0
           },
           "opacity": 0.3
          },
          "ternary": {
           "aaxis": {
            "gridcolor": "white",
            "linecolor": "white",
            "showgrid": true,
            "tickcolor": "rgb(51,51,51)",
            "ticks": "outside"
           },
           "baxis": {
            "gridcolor": "white",
            "linecolor": "white",
            "showgrid": true,
            "tickcolor": "rgb(51,51,51)",
            "ticks": "outside"
           },
           "bgcolor": "rgb(237,237,237)",
           "caxis": {
            "gridcolor": "white",
            "linecolor": "white",
            "showgrid": true,
            "tickcolor": "rgb(51,51,51)",
            "ticks": "outside"
           }
          },
          "xaxis": {
           "automargin": true,
           "gridcolor": "white",
           "linecolor": "white",
           "showgrid": true,
           "tickcolor": "rgb(51,51,51)",
           "ticks": "outside",
           "title": {
            "standoff": 15
           },
           "zerolinecolor": "white"
          },
          "yaxis": {
           "automargin": true,
           "gridcolor": "white",
           "linecolor": "white",
           "showgrid": true,
           "tickcolor": "rgb(51,51,51)",
           "ticks": "outside",
           "title": {
            "standoff": 15
           },
           "zerolinecolor": "white"
          }
         }
        },
        "title": {
         "text": "Arrests count by Ethnicity (2013/14 - 2018/19)",
         "x": 0.5,
         "xanchor": "center",
         "y": 0.95,
         "yanchor": "top"
        },
        "xaxis": {
         "anchor": "y",
         "domain": [
          0,
          1
         ],
         "title": {
          "text": "x"
         }
        },
        "yaxis": {
         "anchor": "x",
         "domain": [
          0,
          1
         ],
         "title": {
          "text": "Number of arrests"
         }
        }
       }
      },
      "text/html": [
       "<div>\n",
       "        \n",
       "        \n",
       "            <div id=\"a47f9a6a-a8a1-4be0-a251-306def5fe590\" class=\"plotly-graph-div\" style=\"height:525px; width:100%;\"></div>\n",
       "            <script type=\"text/javascript\">\n",
       "                require([\"plotly\"], function(Plotly) {\n",
       "                    window.PLOTLYENV=window.PLOTLYENV || {};\n",
       "                    \n",
       "                if (document.getElementById(\"a47f9a6a-a8a1-4be0-a251-306def5fe590\")) {\n",
       "                    Plotly.newPlot(\n",
       "                        'a47f9a6a-a8a1-4be0-a251-306def5fe590',\n",
       "                        [{\"alignmentgroup\": \"True\", \"hoverlabel\": {\"namelength\": 0}, \"hovertemplate\": \"color=White<br>x=%{x}<br>Number of arrests=%{y}\", \"legendgroup\": \"White\", \"marker\": {\"color\": \"rgb(102, 197, 204)\"}, \"name\": \"White\", \"offsetgroup\": \"White\", \"orientation\": \"v\", \"showlegend\": true, \"textposition\": \"auto\", \"type\": \"bar\", \"x\": [\"White\"], \"xaxis\": \"x\", \"y\": [7255230.0], \"yaxis\": \"y\"}, {\"alignmentgroup\": \"True\", \"hoverlabel\": {\"namelength\": 0}, \"hovertemplate\": \"color=Black<br>x=%{x}<br>Number of arrests=%{y}\", \"legendgroup\": \"Black\", \"marker\": {\"color\": \"rgb(246, 207, 113)\"}, \"name\": \"Black\", \"offsetgroup\": \"Black\", \"orientation\": \"v\", \"showlegend\": true, \"textposition\": \"auto\", \"type\": \"bar\", \"x\": [\"Black\"], \"xaxis\": \"x\", \"y\": [890163.0], \"yaxis\": \"y\"}, {\"alignmentgroup\": \"True\", \"hoverlabel\": {\"namelength\": 0}, \"hovertemplate\": \"color=Asian<br>x=%{x}<br>Number of arrests=%{y}\", \"legendgroup\": \"Asian\", \"marker\": {\"color\": \"rgb(248, 156, 116)\"}, \"name\": \"Asian\", \"offsetgroup\": \"Asian\", \"orientation\": \"v\", \"showlegend\": true, \"textposition\": \"auto\", \"type\": \"bar\", \"x\": [\"Asian\"], \"xaxis\": \"x\", \"y\": [653328.0], \"yaxis\": \"y\"}, {\"alignmentgroup\": \"True\", \"hoverlabel\": {\"namelength\": 0}, \"hovertemplate\": \"color=Mixed<br>x=%{x}<br>Number of arrests=%{y}\", \"legendgroup\": \"Mixed\", \"marker\": {\"color\": \"rgb(220, 176, 242)\"}, \"name\": \"Mixed\", \"offsetgroup\": \"Mixed\", \"orientation\": \"v\", \"showlegend\": true, \"textposition\": \"auto\", \"type\": \"bar\", \"x\": [\"Mixed\"], \"xaxis\": \"x\", \"y\": [315802.0], \"yaxis\": \"y\"}, {\"alignmentgroup\": \"True\", \"hoverlabel\": {\"namelength\": 0}, \"hovertemplate\": \"color=Other<br>x=%{x}<br>Number of arrests=%{y}\", \"legendgroup\": \"Other\", \"marker\": {\"color\": \"rgb(135, 197, 95)\"}, \"name\": \"Other\", \"offsetgroup\": \"Other\", \"orientation\": \"v\", \"showlegend\": true, \"textposition\": \"auto\", \"type\": \"bar\", \"x\": [\"Other\"], \"xaxis\": \"x\", \"y\": [143046.0], \"yaxis\": \"y\"}],\n",
       "                        {\"barmode\": \"relative\", \"legend\": {\"title\": {\"text\": \"color\"}, \"tracegroupgap\": 0}, \"margin\": {\"t\": 60}, \"template\": {\"data\": {\"bar\": [{\"error_x\": {\"color\": \"rgb(51,51,51)\"}, \"error_y\": {\"color\": \"rgb(51,51,51)\"}, \"marker\": {\"line\": {\"color\": \"rgb(237,237,237)\", \"width\": 0.5}}, \"type\": \"bar\"}], \"barpolar\": [{\"marker\": {\"line\": {\"color\": \"rgb(237,237,237)\", \"width\": 0.5}}, \"type\": \"barpolar\"}], \"carpet\": [{\"aaxis\": {\"endlinecolor\": \"rgb(51,51,51)\", \"gridcolor\": \"white\", \"linecolor\": \"white\", \"minorgridcolor\": \"white\", \"startlinecolor\": \"rgb(51,51,51)\"}, \"baxis\": {\"endlinecolor\": \"rgb(51,51,51)\", \"gridcolor\": \"white\", \"linecolor\": \"white\", \"minorgridcolor\": \"white\", \"startlinecolor\": \"rgb(51,51,51)\"}, \"type\": \"carpet\"}], \"choropleth\": [{\"colorbar\": {\"outlinewidth\": 0, \"tickcolor\": \"rgb(237,237,237)\", \"ticklen\": 6, \"ticks\": \"inside\"}, \"type\": \"choropleth\"}], \"contour\": [{\"colorbar\": {\"outlinewidth\": 0, \"tickcolor\": \"rgb(237,237,237)\", \"ticklen\": 6, \"ticks\": \"inside\"}, \"colorscale\": [[0, \"rgb(20,44,66)\"], [1, \"rgb(90,179,244)\"]], \"type\": \"contour\"}], \"contourcarpet\": [{\"colorbar\": {\"outlinewidth\": 0, \"tickcolor\": \"rgb(237,237,237)\", \"ticklen\": 6, \"ticks\": \"inside\"}, \"type\": \"contourcarpet\"}], \"heatmap\": [{\"colorbar\": {\"outlinewidth\": 0, \"tickcolor\": \"rgb(237,237,237)\", \"ticklen\": 6, \"ticks\": \"inside\"}, \"colorscale\": [[0, \"rgb(20,44,66)\"], [1, \"rgb(90,179,244)\"]], \"type\": \"heatmap\"}], \"heatmapgl\": [{\"colorbar\": {\"outlinewidth\": 0, \"tickcolor\": \"rgb(237,237,237)\", \"ticklen\": 6, \"ticks\": \"inside\"}, \"colorscale\": [[0, \"rgb(20,44,66)\"], [1, \"rgb(90,179,244)\"]], \"type\": \"heatmapgl\"}], \"histogram\": [{\"marker\": {\"colorbar\": {\"outlinewidth\": 0, \"tickcolor\": \"rgb(237,237,237)\", \"ticklen\": 6, \"ticks\": \"inside\"}}, \"type\": \"histogram\"}], \"histogram2d\": [{\"colorbar\": {\"outlinewidth\": 0, \"tickcolor\": \"rgb(237,237,237)\", \"ticklen\": 6, \"ticks\": \"inside\"}, \"colorscale\": [[0, \"rgb(20,44,66)\"], [1, \"rgb(90,179,244)\"]], \"type\": \"histogram2d\"}], \"histogram2dcontour\": [{\"colorbar\": {\"outlinewidth\": 0, \"tickcolor\": \"rgb(237,237,237)\", \"ticklen\": 6, \"ticks\": \"inside\"}, \"colorscale\": [[0, \"rgb(20,44,66)\"], [1, \"rgb(90,179,244)\"]], \"type\": \"histogram2dcontour\"}], \"mesh3d\": [{\"colorbar\": {\"outlinewidth\": 0, \"tickcolor\": \"rgb(237,237,237)\", \"ticklen\": 6, \"ticks\": \"inside\"}, \"type\": \"mesh3d\"}], \"parcoords\": [{\"line\": {\"colorbar\": {\"outlinewidth\": 0, \"tickcolor\": \"rgb(237,237,237)\", \"ticklen\": 6, \"ticks\": \"inside\"}}, \"type\": \"parcoords\"}], \"pie\": [{\"automargin\": true, \"type\": \"pie\"}], \"scatter\": [{\"marker\": {\"colorbar\": {\"outlinewidth\": 0, \"tickcolor\": \"rgb(237,237,237)\", \"ticklen\": 6, \"ticks\": \"inside\"}}, \"type\": \"scatter\"}], \"scatter3d\": [{\"line\": {\"colorbar\": {\"outlinewidth\": 0, \"tickcolor\": \"rgb(237,237,237)\", \"ticklen\": 6, \"ticks\": \"inside\"}}, \"marker\": {\"colorbar\": {\"outlinewidth\": 0, \"tickcolor\": \"rgb(237,237,237)\", \"ticklen\": 6, \"ticks\": \"inside\"}}, \"type\": \"scatter3d\"}], \"scattercarpet\": [{\"marker\": {\"colorbar\": {\"outlinewidth\": 0, \"tickcolor\": \"rgb(237,237,237)\", \"ticklen\": 6, \"ticks\": \"inside\"}}, \"type\": \"scattercarpet\"}], \"scattergeo\": [{\"marker\": {\"colorbar\": {\"outlinewidth\": 0, \"tickcolor\": \"rgb(237,237,237)\", \"ticklen\": 6, \"ticks\": \"inside\"}}, \"type\": \"scattergeo\"}], \"scattergl\": [{\"marker\": {\"colorbar\": {\"outlinewidth\": 0, \"tickcolor\": \"rgb(237,237,237)\", \"ticklen\": 6, \"ticks\": \"inside\"}}, \"type\": \"scattergl\"}], \"scattermapbox\": [{\"marker\": {\"colorbar\": {\"outlinewidth\": 0, \"tickcolor\": \"rgb(237,237,237)\", \"ticklen\": 6, \"ticks\": \"inside\"}}, \"type\": \"scattermapbox\"}], \"scatterpolar\": [{\"marker\": {\"colorbar\": {\"outlinewidth\": 0, \"tickcolor\": \"rgb(237,237,237)\", \"ticklen\": 6, \"ticks\": \"inside\"}}, \"type\": \"scatterpolar\"}], \"scatterpolargl\": [{\"marker\": {\"colorbar\": {\"outlinewidth\": 0, \"tickcolor\": \"rgb(237,237,237)\", \"ticklen\": 6, \"ticks\": \"inside\"}}, \"type\": \"scatterpolargl\"}], \"scatterternary\": [{\"marker\": {\"colorbar\": {\"outlinewidth\": 0, \"tickcolor\": \"rgb(237,237,237)\", \"ticklen\": 6, \"ticks\": \"inside\"}}, \"type\": \"scatterternary\"}], \"surface\": [{\"colorbar\": {\"outlinewidth\": 0, \"tickcolor\": \"rgb(237,237,237)\", \"ticklen\": 6, \"ticks\": \"inside\"}, \"colorscale\": [[0, \"rgb(20,44,66)\"], [1, \"rgb(90,179,244)\"]], \"type\": \"surface\"}], \"table\": [{\"cells\": {\"fill\": {\"color\": \"rgb(237,237,237)\"}, \"line\": {\"color\": \"white\"}}, \"header\": {\"fill\": {\"color\": \"rgb(217,217,217)\"}, \"line\": {\"color\": \"white\"}}, \"type\": \"table\"}]}, \"layout\": {\"annotationdefaults\": {\"arrowhead\": 0, \"arrowwidth\": 1}, \"coloraxis\": {\"colorbar\": {\"outlinewidth\": 0, \"tickcolor\": \"rgb(237,237,237)\", \"ticklen\": 6, \"ticks\": \"inside\"}}, \"colorscale\": {\"sequential\": [[0, \"rgb(20,44,66)\"], [1, \"rgb(90,179,244)\"]], \"sequentialminus\": [[0, \"rgb(20,44,66)\"], [1, \"rgb(90,179,244)\"]]}, \"colorway\": [\"#F8766D\", \"#A3A500\", \"#00BF7D\", \"#00B0F6\", \"#E76BF3\"], \"font\": {\"color\": \"rgb(51,51,51)\"}, \"geo\": {\"bgcolor\": \"white\", \"lakecolor\": \"white\", \"landcolor\": \"rgb(237,237,237)\", \"showlakes\": true, \"showland\": true, \"subunitcolor\": \"white\"}, \"hoverlabel\": {\"align\": \"left\"}, \"hovermode\": \"closest\", \"paper_bgcolor\": \"white\", \"plot_bgcolor\": \"rgb(237,237,237)\", \"polar\": {\"angularaxis\": {\"gridcolor\": \"white\", \"linecolor\": \"white\", \"showgrid\": true, \"tickcolor\": \"rgb(51,51,51)\", \"ticks\": \"outside\"}, \"bgcolor\": \"rgb(237,237,237)\", \"radialaxis\": {\"gridcolor\": \"white\", \"linecolor\": \"white\", \"showgrid\": true, \"tickcolor\": \"rgb(51,51,51)\", \"ticks\": \"outside\"}}, \"scene\": {\"xaxis\": {\"backgroundcolor\": \"rgb(237,237,237)\", \"gridcolor\": \"white\", \"gridwidth\": 2, \"linecolor\": \"white\", \"showbackground\": true, \"showgrid\": true, \"tickcolor\": \"rgb(51,51,51)\", \"ticks\": \"outside\", \"zerolinecolor\": \"white\"}, \"yaxis\": {\"backgroundcolor\": \"rgb(237,237,237)\", \"gridcolor\": \"white\", \"gridwidth\": 2, \"linecolor\": \"white\", \"showbackground\": true, \"showgrid\": true, \"tickcolor\": \"rgb(51,51,51)\", \"ticks\": \"outside\", \"zerolinecolor\": \"white\"}, \"zaxis\": {\"backgroundcolor\": \"rgb(237,237,237)\", \"gridcolor\": \"white\", \"gridwidth\": 2, \"linecolor\": \"white\", \"showbackground\": true, \"showgrid\": true, \"tickcolor\": \"rgb(51,51,51)\", \"ticks\": \"outside\", \"zerolinecolor\": \"white\"}}, \"shapedefaults\": {\"fillcolor\": \"black\", \"line\": {\"width\": 0}, \"opacity\": 0.3}, \"ternary\": {\"aaxis\": {\"gridcolor\": \"white\", \"linecolor\": \"white\", \"showgrid\": true, \"tickcolor\": \"rgb(51,51,51)\", \"ticks\": \"outside\"}, \"baxis\": {\"gridcolor\": \"white\", \"linecolor\": \"white\", \"showgrid\": true, \"tickcolor\": \"rgb(51,51,51)\", \"ticks\": \"outside\"}, \"bgcolor\": \"rgb(237,237,237)\", \"caxis\": {\"gridcolor\": \"white\", \"linecolor\": \"white\", \"showgrid\": true, \"tickcolor\": \"rgb(51,51,51)\", \"ticks\": \"outside\"}}, \"xaxis\": {\"automargin\": true, \"gridcolor\": \"white\", \"linecolor\": \"white\", \"showgrid\": true, \"tickcolor\": \"rgb(51,51,51)\", \"ticks\": \"outside\", \"title\": {\"standoff\": 15}, \"zerolinecolor\": \"white\"}, \"yaxis\": {\"automargin\": true, \"gridcolor\": \"white\", \"linecolor\": \"white\", \"showgrid\": true, \"tickcolor\": \"rgb(51,51,51)\", \"ticks\": \"outside\", \"title\": {\"standoff\": 15}, \"zerolinecolor\": \"white\"}}}, \"title\": {\"text\": \"Arrests count by Ethnicity (2013/14 - 2018/19)\", \"x\": 0.5, \"xanchor\": \"center\", \"y\": 0.95, \"yanchor\": \"top\"}, \"xaxis\": {\"anchor\": \"y\", \"domain\": [0.0, 1.0], \"title\": {\"text\": \"x\"}}, \"yaxis\": {\"anchor\": \"x\", \"domain\": [0.0, 1.0], \"title\": {\"text\": \"Number of arrests\"}}},\n",
       "                        {\"responsive\": true}\n",
       "                    ).then(function(){\n",
       "                            \n",
       "var gd = document.getElementById('a47f9a6a-a8a1-4be0-a251-306def5fe590');\n",
       "var x = new MutationObserver(function (mutations, observer) {{\n",
       "        var display = window.getComputedStyle(gd).display;\n",
       "        if (!display || display === 'none') {{\n",
       "            console.log([gd, 'removed!']);\n",
       "            Plotly.purge(gd);\n",
       "            observer.disconnect();\n",
       "        }}\n",
       "}});\n",
       "\n",
       "// Listen for the removal of the full notebook cells\n",
       "var notebookContainer = gd.closest('#notebook-container');\n",
       "if (notebookContainer) {{\n",
       "    x.observe(notebookContainer, {childList: true});\n",
       "}}\n",
       "\n",
       "// Listen for the clearing of the current output cell\n",
       "var outputEl = gd.closest('.output');\n",
       "if (outputEl) {{\n",
       "    x.observe(outputEl, {childList: true});\n",
       "}}\n",
       "\n",
       "                        })\n",
       "                };\n",
       "                });\n",
       "            </script>\n",
       "        </div>"
      ]
     },
     "metadata": {},
     "output_type": "display_data"
    }
   ],
   "source": [
    "fig1 = px.bar(plot_ethnicity_arrests, x=plot_ethnicity_arrests.index, \n",
    "              y=plot_ethnicity_arrests['Number of arrests'], color=plot_ethnicity_arrests.index, \n",
    "              color_discrete_sequence=px.colors.qualitative.Pastel)\n",
    "\n",
    "fig1.update_layout(title={\n",
    "                  'text': \"Arrests count by Ethnicity (2013/14 - 2018/19)\",\n",
    "                  'y':0.95,\n",
    "                  'x':0.5,\n",
    "                  'xanchor': 'center',\n",
    "                  'yanchor': 'top'},\n",
    "                  template='ggplot2')\n"
   ]
  },
  {
   "cell_type": "code",
   "execution_count": 1124,
   "metadata": {
    "scrolled": false
   },
   "outputs": [
    {
     "data": {
      "application/vnd.plotly.v1+json": {
       "config": {
        "plotlyServerURL": "https://plot.ly"
       },
       "data": [
        {
         "domain": {
          "x": [
           0,
           1
          ],
          "y": [
           0,
           1
          ]
         },
         "hole": 0.5,
         "hoverlabel": {
          "namelength": 0
         },
         "hovertemplate": "label=%{label}<br>Number of arrests=%{value}",
         "labels": [
          "White",
          "Black",
          "Asian",
          "Mixed",
          "Other"
         ],
         "legendgroup": "",
         "marker": {
          "line": {
           "color": "black",
           "width": 1
          }
         },
         "name": "",
         "pull": [
          0,
          0.2
         ],
         "showlegend": true,
         "textinfo": "percent+label",
         "textposition": "inside",
         "type": "pie",
         "values": [
          7255230,
          890163,
          653328,
          315802,
          143046
         ]
        }
       ],
       "layout": {
        "height": 600,
        "legend": {
         "tracegroupgap": 0
        },
        "margin": {
         "t": 60
        },
        "piecolorway": [
         "rgb(102, 197, 204)",
         "rgb(246, 207, 113)",
         "rgb(248, 156, 116)",
         "rgb(220, 176, 242)",
         "rgb(135, 197, 95)",
         "rgb(158, 185, 243)",
         "rgb(254, 136, 177)",
         "rgb(201, 219, 116)",
         "rgb(139, 224, 164)",
         "rgb(180, 151, 231)",
         "rgb(179, 179, 179)"
        ],
        "template": {
         "data": {
          "bar": [
           {
            "error_x": {
             "color": "#2a3f5f"
            },
            "error_y": {
             "color": "#2a3f5f"
            },
            "marker": {
             "line": {
              "color": "white",
              "width": 0.5
             }
            },
            "type": "bar"
           }
          ],
          "barpolar": [
           {
            "marker": {
             "line": {
              "color": "white",
              "width": 0.5
             }
            },
            "type": "barpolar"
           }
          ],
          "carpet": [
           {
            "aaxis": {
             "endlinecolor": "#2a3f5f",
             "gridcolor": "#C8D4E3",
             "linecolor": "#C8D4E3",
             "minorgridcolor": "#C8D4E3",
             "startlinecolor": "#2a3f5f"
            },
            "baxis": {
             "endlinecolor": "#2a3f5f",
             "gridcolor": "#C8D4E3",
             "linecolor": "#C8D4E3",
             "minorgridcolor": "#C8D4E3",
             "startlinecolor": "#2a3f5f"
            },
            "type": "carpet"
           }
          ],
          "choropleth": [
           {
            "colorbar": {
             "outlinewidth": 0,
             "ticks": ""
            },
            "type": "choropleth"
           }
          ],
          "contour": [
           {
            "colorbar": {
             "outlinewidth": 0,
             "ticks": ""
            },
            "colorscale": [
             [
              0,
              "#0d0887"
             ],
             [
              0.1111111111111111,
              "#46039f"
             ],
             [
              0.2222222222222222,
              "#7201a8"
             ],
             [
              0.3333333333333333,
              "#9c179e"
             ],
             [
              0.4444444444444444,
              "#bd3786"
             ],
             [
              0.5555555555555556,
              "#d8576b"
             ],
             [
              0.6666666666666666,
              "#ed7953"
             ],
             [
              0.7777777777777778,
              "#fb9f3a"
             ],
             [
              0.8888888888888888,
              "#fdca26"
             ],
             [
              1,
              "#f0f921"
             ]
            ],
            "type": "contour"
           }
          ],
          "contourcarpet": [
           {
            "colorbar": {
             "outlinewidth": 0,
             "ticks": ""
            },
            "type": "contourcarpet"
           }
          ],
          "heatmap": [
           {
            "colorbar": {
             "outlinewidth": 0,
             "ticks": ""
            },
            "colorscale": [
             [
              0,
              "#0d0887"
             ],
             [
              0.1111111111111111,
              "#46039f"
             ],
             [
              0.2222222222222222,
              "#7201a8"
             ],
             [
              0.3333333333333333,
              "#9c179e"
             ],
             [
              0.4444444444444444,
              "#bd3786"
             ],
             [
              0.5555555555555556,
              "#d8576b"
             ],
             [
              0.6666666666666666,
              "#ed7953"
             ],
             [
              0.7777777777777778,
              "#fb9f3a"
             ],
             [
              0.8888888888888888,
              "#fdca26"
             ],
             [
              1,
              "#f0f921"
             ]
            ],
            "type": "heatmap"
           }
          ],
          "heatmapgl": [
           {
            "colorbar": {
             "outlinewidth": 0,
             "ticks": ""
            },
            "colorscale": [
             [
              0,
              "#0d0887"
             ],
             [
              0.1111111111111111,
              "#46039f"
             ],
             [
              0.2222222222222222,
              "#7201a8"
             ],
             [
              0.3333333333333333,
              "#9c179e"
             ],
             [
              0.4444444444444444,
              "#bd3786"
             ],
             [
              0.5555555555555556,
              "#d8576b"
             ],
             [
              0.6666666666666666,
              "#ed7953"
             ],
             [
              0.7777777777777778,
              "#fb9f3a"
             ],
             [
              0.8888888888888888,
              "#fdca26"
             ],
             [
              1,
              "#f0f921"
             ]
            ],
            "type": "heatmapgl"
           }
          ],
          "histogram": [
           {
            "marker": {
             "colorbar": {
              "outlinewidth": 0,
              "ticks": ""
             }
            },
            "type": "histogram"
           }
          ],
          "histogram2d": [
           {
            "colorbar": {
             "outlinewidth": 0,
             "ticks": ""
            },
            "colorscale": [
             [
              0,
              "#0d0887"
             ],
             [
              0.1111111111111111,
              "#46039f"
             ],
             [
              0.2222222222222222,
              "#7201a8"
             ],
             [
              0.3333333333333333,
              "#9c179e"
             ],
             [
              0.4444444444444444,
              "#bd3786"
             ],
             [
              0.5555555555555556,
              "#d8576b"
             ],
             [
              0.6666666666666666,
              "#ed7953"
             ],
             [
              0.7777777777777778,
              "#fb9f3a"
             ],
             [
              0.8888888888888888,
              "#fdca26"
             ],
             [
              1,
              "#f0f921"
             ]
            ],
            "type": "histogram2d"
           }
          ],
          "histogram2dcontour": [
           {
            "colorbar": {
             "outlinewidth": 0,
             "ticks": ""
            },
            "colorscale": [
             [
              0,
              "#0d0887"
             ],
             [
              0.1111111111111111,
              "#46039f"
             ],
             [
              0.2222222222222222,
              "#7201a8"
             ],
             [
              0.3333333333333333,
              "#9c179e"
             ],
             [
              0.4444444444444444,
              "#bd3786"
             ],
             [
              0.5555555555555556,
              "#d8576b"
             ],
             [
              0.6666666666666666,
              "#ed7953"
             ],
             [
              0.7777777777777778,
              "#fb9f3a"
             ],
             [
              0.8888888888888888,
              "#fdca26"
             ],
             [
              1,
              "#f0f921"
             ]
            ],
            "type": "histogram2dcontour"
           }
          ],
          "mesh3d": [
           {
            "colorbar": {
             "outlinewidth": 0,
             "ticks": ""
            },
            "type": "mesh3d"
           }
          ],
          "parcoords": [
           {
            "line": {
             "colorbar": {
              "outlinewidth": 0,
              "ticks": ""
             }
            },
            "type": "parcoords"
           }
          ],
          "pie": [
           {
            "automargin": true,
            "type": "pie"
           }
          ],
          "scatter": [
           {
            "marker": {
             "colorbar": {
              "outlinewidth": 0,
              "ticks": ""
             }
            },
            "type": "scatter"
           }
          ],
          "scatter3d": [
           {
            "line": {
             "colorbar": {
              "outlinewidth": 0,
              "ticks": ""
             }
            },
            "marker": {
             "colorbar": {
              "outlinewidth": 0,
              "ticks": ""
             }
            },
            "type": "scatter3d"
           }
          ],
          "scattercarpet": [
           {
            "marker": {
             "colorbar": {
              "outlinewidth": 0,
              "ticks": ""
             }
            },
            "type": "scattercarpet"
           }
          ],
          "scattergeo": [
           {
            "marker": {
             "colorbar": {
              "outlinewidth": 0,
              "ticks": ""
             }
            },
            "type": "scattergeo"
           }
          ],
          "scattergl": [
           {
            "marker": {
             "colorbar": {
              "outlinewidth": 0,
              "ticks": ""
             }
            },
            "type": "scattergl"
           }
          ],
          "scattermapbox": [
           {
            "marker": {
             "colorbar": {
              "outlinewidth": 0,
              "ticks": ""
             }
            },
            "type": "scattermapbox"
           }
          ],
          "scatterpolar": [
           {
            "marker": {
             "colorbar": {
              "outlinewidth": 0,
              "ticks": ""
             }
            },
            "type": "scatterpolar"
           }
          ],
          "scatterpolargl": [
           {
            "marker": {
             "colorbar": {
              "outlinewidth": 0,
              "ticks": ""
             }
            },
            "type": "scatterpolargl"
           }
          ],
          "scatterternary": [
           {
            "marker": {
             "colorbar": {
              "outlinewidth": 0,
              "ticks": ""
             }
            },
            "type": "scatterternary"
           }
          ],
          "surface": [
           {
            "colorbar": {
             "outlinewidth": 0,
             "ticks": ""
            },
            "colorscale": [
             [
              0,
              "#0d0887"
             ],
             [
              0.1111111111111111,
              "#46039f"
             ],
             [
              0.2222222222222222,
              "#7201a8"
             ],
             [
              0.3333333333333333,
              "#9c179e"
             ],
             [
              0.4444444444444444,
              "#bd3786"
             ],
             [
              0.5555555555555556,
              "#d8576b"
             ],
             [
              0.6666666666666666,
              "#ed7953"
             ],
             [
              0.7777777777777778,
              "#fb9f3a"
             ],
             [
              0.8888888888888888,
              "#fdca26"
             ],
             [
              1,
              "#f0f921"
             ]
            ],
            "type": "surface"
           }
          ],
          "table": [
           {
            "cells": {
             "fill": {
              "color": "#EBF0F8"
             },
             "line": {
              "color": "white"
             }
            },
            "header": {
             "fill": {
              "color": "#C8D4E3"
             },
             "line": {
              "color": "white"
             }
            },
            "type": "table"
           }
          ]
         },
         "layout": {
          "annotationdefaults": {
           "arrowcolor": "#2a3f5f",
           "arrowhead": 0,
           "arrowwidth": 1
          },
          "coloraxis": {
           "colorbar": {
            "outlinewidth": 0,
            "ticks": ""
           }
          },
          "colorscale": {
           "diverging": [
            [
             0,
             "#8e0152"
            ],
            [
             0.1,
             "#c51b7d"
            ],
            [
             0.2,
             "#de77ae"
            ],
            [
             0.3,
             "#f1b6da"
            ],
            [
             0.4,
             "#fde0ef"
            ],
            [
             0.5,
             "#f7f7f7"
            ],
            [
             0.6,
             "#e6f5d0"
            ],
            [
             0.7,
             "#b8e186"
            ],
            [
             0.8,
             "#7fbc41"
            ],
            [
             0.9,
             "#4d9221"
            ],
            [
             1,
             "#276419"
            ]
           ],
           "sequential": [
            [
             0,
             "#0d0887"
            ],
            [
             0.1111111111111111,
             "#46039f"
            ],
            [
             0.2222222222222222,
             "#7201a8"
            ],
            [
             0.3333333333333333,
             "#9c179e"
            ],
            [
             0.4444444444444444,
             "#bd3786"
            ],
            [
             0.5555555555555556,
             "#d8576b"
            ],
            [
             0.6666666666666666,
             "#ed7953"
            ],
            [
             0.7777777777777778,
             "#fb9f3a"
            ],
            [
             0.8888888888888888,
             "#fdca26"
            ],
            [
             1,
             "#f0f921"
            ]
           ],
           "sequentialminus": [
            [
             0,
             "#0d0887"
            ],
            [
             0.1111111111111111,
             "#46039f"
            ],
            [
             0.2222222222222222,
             "#7201a8"
            ],
            [
             0.3333333333333333,
             "#9c179e"
            ],
            [
             0.4444444444444444,
             "#bd3786"
            ],
            [
             0.5555555555555556,
             "#d8576b"
            ],
            [
             0.6666666666666666,
             "#ed7953"
            ],
            [
             0.7777777777777778,
             "#fb9f3a"
            ],
            [
             0.8888888888888888,
             "#fdca26"
            ],
            [
             1,
             "#f0f921"
            ]
           ]
          },
          "colorway": [
           "#636efa",
           "#EF553B",
           "#00cc96",
           "#ab63fa",
           "#FFA15A",
           "#19d3f3",
           "#FF6692",
           "#B6E880",
           "#FF97FF",
           "#FECB52"
          ],
          "font": {
           "color": "#2a3f5f"
          },
          "geo": {
           "bgcolor": "white",
           "lakecolor": "white",
           "landcolor": "white",
           "showlakes": true,
           "showland": true,
           "subunitcolor": "#C8D4E3"
          },
          "hoverlabel": {
           "align": "left"
          },
          "hovermode": "closest",
          "mapbox": {
           "style": "light"
          },
          "paper_bgcolor": "white",
          "plot_bgcolor": "white",
          "polar": {
           "angularaxis": {
            "gridcolor": "#EBF0F8",
            "linecolor": "#EBF0F8",
            "ticks": ""
           },
           "bgcolor": "white",
           "radialaxis": {
            "gridcolor": "#EBF0F8",
            "linecolor": "#EBF0F8",
            "ticks": ""
           }
          },
          "scene": {
           "xaxis": {
            "backgroundcolor": "white",
            "gridcolor": "#DFE8F3",
            "gridwidth": 2,
            "linecolor": "#EBF0F8",
            "showbackground": true,
            "ticks": "",
            "zerolinecolor": "#EBF0F8"
           },
           "yaxis": {
            "backgroundcolor": "white",
            "gridcolor": "#DFE8F3",
            "gridwidth": 2,
            "linecolor": "#EBF0F8",
            "showbackground": true,
            "ticks": "",
            "zerolinecolor": "#EBF0F8"
           },
           "zaxis": {
            "backgroundcolor": "white",
            "gridcolor": "#DFE8F3",
            "gridwidth": 2,
            "linecolor": "#EBF0F8",
            "showbackground": true,
            "ticks": "",
            "zerolinecolor": "#EBF0F8"
           }
          },
          "shapedefaults": {
           "line": {
            "color": "#2a3f5f"
           }
          },
          "ternary": {
           "aaxis": {
            "gridcolor": "#DFE8F3",
            "linecolor": "#A2B1C6",
            "ticks": ""
           },
           "baxis": {
            "gridcolor": "#DFE8F3",
            "linecolor": "#A2B1C6",
            "ticks": ""
           },
           "bgcolor": "white",
           "caxis": {
            "gridcolor": "#DFE8F3",
            "linecolor": "#A2B1C6",
            "ticks": ""
           }
          },
          "title": {
           "x": 0.05
          },
          "xaxis": {
           "automargin": true,
           "gridcolor": "#EBF0F8",
           "linecolor": "#EBF0F8",
           "ticks": "",
           "title": {
            "standoff": 15
           },
           "zerolinecolor": "#EBF0F8",
           "zerolinewidth": 2
          },
          "yaxis": {
           "automargin": true,
           "gridcolor": "#EBF0F8",
           "linecolor": "#EBF0F8",
           "ticks": "",
           "title": {
            "standoff": 15
           },
           "zerolinecolor": "#EBF0F8",
           "zerolinewidth": 2
          }
         }
        },
        "title": {
         "text": "UK Arrests by Ethnicity",
         "x": 0.5,
         "xanchor": "center",
         "y": 0.955,
         "yanchor": "top"
        }
       }
      },
      "text/html": [
       "<div>\n",
       "        \n",
       "        \n",
       "            <div id=\"348a12f2-3ddf-4999-a58a-be8c4951b5c4\" class=\"plotly-graph-div\" style=\"height:600px; width:100%;\"></div>\n",
       "            <script type=\"text/javascript\">\n",
       "                require([\"plotly\"], function(Plotly) {\n",
       "                    window.PLOTLYENV=window.PLOTLYENV || {};\n",
       "                    \n",
       "                if (document.getElementById(\"348a12f2-3ddf-4999-a58a-be8c4951b5c4\")) {\n",
       "                    Plotly.newPlot(\n",
       "                        '348a12f2-3ddf-4999-a58a-be8c4951b5c4',\n",
       "                        [{\"domain\": {\"x\": [0.0, 1.0], \"y\": [0.0, 1.0]}, \"hole\": 0.5, \"hoverlabel\": {\"namelength\": 0}, \"hovertemplate\": \"label=%{label}<br>Number of arrests=%{value}\", \"labels\": [\"White\", \"Black\", \"Asian\", \"Mixed\", \"Other\"], \"legendgroup\": \"\", \"marker\": {\"line\": {\"color\": \"black\", \"width\": 1}}, \"name\": \"\", \"pull\": [0, 0.2], \"showlegend\": true, \"textinfo\": \"percent+label\", \"textposition\": \"inside\", \"type\": \"pie\", \"values\": [7255230.0, 890163.0, 653328.0, 315802.0, 143046.0]}],\n",
       "                        {\"height\": 600, \"legend\": {\"tracegroupgap\": 0}, \"margin\": {\"t\": 60}, \"piecolorway\": [\"rgb(102, 197, 204)\", \"rgb(246, 207, 113)\", \"rgb(248, 156, 116)\", \"rgb(220, 176, 242)\", \"rgb(135, 197, 95)\", \"rgb(158, 185, 243)\", \"rgb(254, 136, 177)\", \"rgb(201, 219, 116)\", \"rgb(139, 224, 164)\", \"rgb(180, 151, 231)\", \"rgb(179, 179, 179)\"], \"template\": {\"data\": {\"bar\": [{\"error_x\": {\"color\": \"#2a3f5f\"}, \"error_y\": {\"color\": \"#2a3f5f\"}, \"marker\": {\"line\": {\"color\": \"white\", \"width\": 0.5}}, \"type\": \"bar\"}], \"barpolar\": [{\"marker\": {\"line\": {\"color\": \"white\", \"width\": 0.5}}, \"type\": \"barpolar\"}], \"carpet\": [{\"aaxis\": {\"endlinecolor\": \"#2a3f5f\", \"gridcolor\": \"#C8D4E3\", \"linecolor\": \"#C8D4E3\", \"minorgridcolor\": \"#C8D4E3\", \"startlinecolor\": \"#2a3f5f\"}, \"baxis\": {\"endlinecolor\": \"#2a3f5f\", \"gridcolor\": \"#C8D4E3\", \"linecolor\": \"#C8D4E3\", \"minorgridcolor\": \"#C8D4E3\", \"startlinecolor\": \"#2a3f5f\"}, \"type\": \"carpet\"}], \"choropleth\": [{\"colorbar\": {\"outlinewidth\": 0, \"ticks\": \"\"}, \"type\": \"choropleth\"}], \"contour\": [{\"colorbar\": {\"outlinewidth\": 0, \"ticks\": \"\"}, \"colorscale\": [[0.0, \"#0d0887\"], [0.1111111111111111, \"#46039f\"], [0.2222222222222222, \"#7201a8\"], [0.3333333333333333, \"#9c179e\"], [0.4444444444444444, \"#bd3786\"], [0.5555555555555556, \"#d8576b\"], [0.6666666666666666, \"#ed7953\"], [0.7777777777777778, \"#fb9f3a\"], [0.8888888888888888, \"#fdca26\"], [1.0, \"#f0f921\"]], \"type\": \"contour\"}], \"contourcarpet\": [{\"colorbar\": {\"outlinewidth\": 0, \"ticks\": \"\"}, \"type\": \"contourcarpet\"}], \"heatmap\": [{\"colorbar\": {\"outlinewidth\": 0, \"ticks\": \"\"}, \"colorscale\": [[0.0, \"#0d0887\"], [0.1111111111111111, \"#46039f\"], [0.2222222222222222, \"#7201a8\"], [0.3333333333333333, \"#9c179e\"], [0.4444444444444444, \"#bd3786\"], [0.5555555555555556, \"#d8576b\"], [0.6666666666666666, \"#ed7953\"], [0.7777777777777778, \"#fb9f3a\"], [0.8888888888888888, \"#fdca26\"], [1.0, \"#f0f921\"]], \"type\": \"heatmap\"}], \"heatmapgl\": [{\"colorbar\": {\"outlinewidth\": 0, \"ticks\": \"\"}, \"colorscale\": [[0.0, \"#0d0887\"], [0.1111111111111111, \"#46039f\"], [0.2222222222222222, \"#7201a8\"], [0.3333333333333333, \"#9c179e\"], [0.4444444444444444, \"#bd3786\"], [0.5555555555555556, \"#d8576b\"], [0.6666666666666666, \"#ed7953\"], [0.7777777777777778, \"#fb9f3a\"], [0.8888888888888888, \"#fdca26\"], [1.0, \"#f0f921\"]], \"type\": \"heatmapgl\"}], \"histogram\": [{\"marker\": {\"colorbar\": {\"outlinewidth\": 0, \"ticks\": \"\"}}, \"type\": \"histogram\"}], \"histogram2d\": [{\"colorbar\": {\"outlinewidth\": 0, \"ticks\": \"\"}, \"colorscale\": [[0.0, \"#0d0887\"], [0.1111111111111111, \"#46039f\"], [0.2222222222222222, \"#7201a8\"], [0.3333333333333333, \"#9c179e\"], [0.4444444444444444, \"#bd3786\"], [0.5555555555555556, \"#d8576b\"], [0.6666666666666666, \"#ed7953\"], [0.7777777777777778, \"#fb9f3a\"], [0.8888888888888888, \"#fdca26\"], [1.0, \"#f0f921\"]], \"type\": \"histogram2d\"}], \"histogram2dcontour\": [{\"colorbar\": {\"outlinewidth\": 0, \"ticks\": \"\"}, \"colorscale\": [[0.0, \"#0d0887\"], [0.1111111111111111, \"#46039f\"], [0.2222222222222222, \"#7201a8\"], [0.3333333333333333, \"#9c179e\"], [0.4444444444444444, \"#bd3786\"], [0.5555555555555556, \"#d8576b\"], [0.6666666666666666, \"#ed7953\"], [0.7777777777777778, \"#fb9f3a\"], [0.8888888888888888, \"#fdca26\"], [1.0, \"#f0f921\"]], \"type\": \"histogram2dcontour\"}], \"mesh3d\": [{\"colorbar\": {\"outlinewidth\": 0, \"ticks\": \"\"}, \"type\": \"mesh3d\"}], \"parcoords\": [{\"line\": {\"colorbar\": {\"outlinewidth\": 0, \"ticks\": \"\"}}, \"type\": \"parcoords\"}], \"pie\": [{\"automargin\": true, \"type\": \"pie\"}], \"scatter\": [{\"marker\": {\"colorbar\": {\"outlinewidth\": 0, \"ticks\": \"\"}}, \"type\": \"scatter\"}], \"scatter3d\": [{\"line\": {\"colorbar\": {\"outlinewidth\": 0, \"ticks\": \"\"}}, \"marker\": {\"colorbar\": {\"outlinewidth\": 0, \"ticks\": \"\"}}, \"type\": \"scatter3d\"}], \"scattercarpet\": [{\"marker\": {\"colorbar\": {\"outlinewidth\": 0, \"ticks\": \"\"}}, \"type\": \"scattercarpet\"}], \"scattergeo\": [{\"marker\": {\"colorbar\": {\"outlinewidth\": 0, \"ticks\": \"\"}}, \"type\": \"scattergeo\"}], \"scattergl\": [{\"marker\": {\"colorbar\": {\"outlinewidth\": 0, \"ticks\": \"\"}}, \"type\": \"scattergl\"}], \"scattermapbox\": [{\"marker\": {\"colorbar\": {\"outlinewidth\": 0, \"ticks\": \"\"}}, \"type\": \"scattermapbox\"}], \"scatterpolar\": [{\"marker\": {\"colorbar\": {\"outlinewidth\": 0, \"ticks\": \"\"}}, \"type\": \"scatterpolar\"}], \"scatterpolargl\": [{\"marker\": {\"colorbar\": {\"outlinewidth\": 0, \"ticks\": \"\"}}, \"type\": \"scatterpolargl\"}], \"scatterternary\": [{\"marker\": {\"colorbar\": {\"outlinewidth\": 0, \"ticks\": \"\"}}, \"type\": \"scatterternary\"}], \"surface\": [{\"colorbar\": {\"outlinewidth\": 0, \"ticks\": \"\"}, \"colorscale\": [[0.0, \"#0d0887\"], [0.1111111111111111, \"#46039f\"], [0.2222222222222222, \"#7201a8\"], [0.3333333333333333, \"#9c179e\"], [0.4444444444444444, \"#bd3786\"], [0.5555555555555556, \"#d8576b\"], [0.6666666666666666, \"#ed7953\"], [0.7777777777777778, \"#fb9f3a\"], [0.8888888888888888, \"#fdca26\"], [1.0, \"#f0f921\"]], \"type\": \"surface\"}], \"table\": [{\"cells\": {\"fill\": {\"color\": \"#EBF0F8\"}, \"line\": {\"color\": \"white\"}}, \"header\": {\"fill\": {\"color\": \"#C8D4E3\"}, \"line\": {\"color\": \"white\"}}, \"type\": \"table\"}]}, \"layout\": {\"annotationdefaults\": {\"arrowcolor\": \"#2a3f5f\", \"arrowhead\": 0, \"arrowwidth\": 1}, \"coloraxis\": {\"colorbar\": {\"outlinewidth\": 0, \"ticks\": \"\"}}, \"colorscale\": {\"diverging\": [[0, \"#8e0152\"], [0.1, \"#c51b7d\"], [0.2, \"#de77ae\"], [0.3, \"#f1b6da\"], [0.4, \"#fde0ef\"], [0.5, \"#f7f7f7\"], [0.6, \"#e6f5d0\"], [0.7, \"#b8e186\"], [0.8, \"#7fbc41\"], [0.9, \"#4d9221\"], [1, \"#276419\"]], \"sequential\": [[0.0, \"#0d0887\"], [0.1111111111111111, \"#46039f\"], [0.2222222222222222, \"#7201a8\"], [0.3333333333333333, \"#9c179e\"], [0.4444444444444444, \"#bd3786\"], [0.5555555555555556, \"#d8576b\"], [0.6666666666666666, \"#ed7953\"], [0.7777777777777778, \"#fb9f3a\"], [0.8888888888888888, \"#fdca26\"], [1.0, \"#f0f921\"]], \"sequentialminus\": [[0.0, \"#0d0887\"], [0.1111111111111111, \"#46039f\"], [0.2222222222222222, \"#7201a8\"], [0.3333333333333333, \"#9c179e\"], [0.4444444444444444, \"#bd3786\"], [0.5555555555555556, \"#d8576b\"], [0.6666666666666666, \"#ed7953\"], [0.7777777777777778, \"#fb9f3a\"], [0.8888888888888888, \"#fdca26\"], [1.0, \"#f0f921\"]]}, \"colorway\": [\"#636efa\", \"#EF553B\", \"#00cc96\", \"#ab63fa\", \"#FFA15A\", \"#19d3f3\", \"#FF6692\", \"#B6E880\", \"#FF97FF\", \"#FECB52\"], \"font\": {\"color\": \"#2a3f5f\"}, \"geo\": {\"bgcolor\": \"white\", \"lakecolor\": \"white\", \"landcolor\": \"white\", \"showlakes\": true, \"showland\": true, \"subunitcolor\": \"#C8D4E3\"}, \"hoverlabel\": {\"align\": \"left\"}, \"hovermode\": \"closest\", \"mapbox\": {\"style\": \"light\"}, \"paper_bgcolor\": \"white\", \"plot_bgcolor\": \"white\", \"polar\": {\"angularaxis\": {\"gridcolor\": \"#EBF0F8\", \"linecolor\": \"#EBF0F8\", \"ticks\": \"\"}, \"bgcolor\": \"white\", \"radialaxis\": {\"gridcolor\": \"#EBF0F8\", \"linecolor\": \"#EBF0F8\", \"ticks\": \"\"}}, \"scene\": {\"xaxis\": {\"backgroundcolor\": \"white\", \"gridcolor\": \"#DFE8F3\", \"gridwidth\": 2, \"linecolor\": \"#EBF0F8\", \"showbackground\": true, \"ticks\": \"\", \"zerolinecolor\": \"#EBF0F8\"}, \"yaxis\": {\"backgroundcolor\": \"white\", \"gridcolor\": \"#DFE8F3\", \"gridwidth\": 2, \"linecolor\": \"#EBF0F8\", \"showbackground\": true, \"ticks\": \"\", \"zerolinecolor\": \"#EBF0F8\"}, \"zaxis\": {\"backgroundcolor\": \"white\", \"gridcolor\": \"#DFE8F3\", \"gridwidth\": 2, \"linecolor\": \"#EBF0F8\", \"showbackground\": true, \"ticks\": \"\", \"zerolinecolor\": \"#EBF0F8\"}}, \"shapedefaults\": {\"line\": {\"color\": \"#2a3f5f\"}}, \"ternary\": {\"aaxis\": {\"gridcolor\": \"#DFE8F3\", \"linecolor\": \"#A2B1C6\", \"ticks\": \"\"}, \"baxis\": {\"gridcolor\": \"#DFE8F3\", \"linecolor\": \"#A2B1C6\", \"ticks\": \"\"}, \"bgcolor\": \"white\", \"caxis\": {\"gridcolor\": \"#DFE8F3\", \"linecolor\": \"#A2B1C6\", \"ticks\": \"\"}}, \"title\": {\"x\": 0.05}, \"xaxis\": {\"automargin\": true, \"gridcolor\": \"#EBF0F8\", \"linecolor\": \"#EBF0F8\", \"ticks\": \"\", \"title\": {\"standoff\": 15}, \"zerolinecolor\": \"#EBF0F8\", \"zerolinewidth\": 2}, \"yaxis\": {\"automargin\": true, \"gridcolor\": \"#EBF0F8\", \"linecolor\": \"#EBF0F8\", \"ticks\": \"\", \"title\": {\"standoff\": 15}, \"zerolinecolor\": \"#EBF0F8\", \"zerolinewidth\": 2}}}, \"title\": {\"text\": \"UK Arrests by Ethnicity\", \"x\": 0.5, \"xanchor\": \"center\", \"y\": 0.955, \"yanchor\": \"top\"}},\n",
       "                        {\"responsive\": true}\n",
       "                    ).then(function(){\n",
       "                            \n",
       "var gd = document.getElementById('348a12f2-3ddf-4999-a58a-be8c4951b5c4');\n",
       "var x = new MutationObserver(function (mutations, observer) {{\n",
       "        var display = window.getComputedStyle(gd).display;\n",
       "        if (!display || display === 'none') {{\n",
       "            console.log([gd, 'removed!']);\n",
       "            Plotly.purge(gd);\n",
       "            observer.disconnect();\n",
       "        }}\n",
       "}});\n",
       "\n",
       "// Listen for the removal of the full notebook cells\n",
       "var notebookContainer = gd.closest('#notebook-container');\n",
       "if (notebookContainer) {{\n",
       "    x.observe(notebookContainer, {childList: true});\n",
       "}}\n",
       "\n",
       "// Listen for the clearing of the current output cell\n",
       "var outputEl = gd.closest('.output');\n",
       "if (outputEl) {{\n",
       "    x.observe(outputEl, {childList: true});\n",
       "}}\n",
       "\n",
       "                        })\n",
       "                };\n",
       "                });\n",
       "            </script>\n",
       "        </div>"
      ]
     },
     "metadata": {},
     "output_type": "display_data"
    }
   ],
   "source": [
    "from plotly.subplots import make_subplots\n",
    "fig2 = px.pie(plot_ethnicity_arrests, plot_ethnicity_arrests.index, \n",
    "              plot_ethnicity_arrests['Number of arrests'], \n",
    "              color_discrete_sequence=px.colors.qualitative.Pastel, hole=0.5)\n",
    "\n",
    "fig2.update_layout(title={\n",
    "                  'text': \"UK Arrests by Ethnicity\",\n",
    "                  'y':0.955,\n",
    "                  'x':0.5,\n",
    "                  'xanchor': 'center',\n",
    "                  'yanchor': 'top'},\n",
    "                   height=600,\n",
    "                  template='plotly_white')\n",
    "\n",
    "fig2.update_traces(textposition='inside', textinfo='percent+label', pull=[0, 0.2])\n",
    "\n",
    "fig2.data[0].marker.line.width = 1\n",
    "fig2.data[0].marker.line.color = \"black\"\n",
    "fig2.show()"
   ]
  },
  {
   "cell_type": "code",
   "execution_count": 978,
   "metadata": {},
   "outputs": [
    {
     "data": {
      "image/png": "[encoded data removed]",
      "text/plain": [
       "<Figure size 720x504 with 2 Axes>"
      ]
     },
     "metadata": {},
     "output_type": "display_data"
    },
    {
     "name": "stdout",
     "output_type": "stream",
     "text": [
      "The comparison shows that population consists of 3.33 percent black ethnic groups; however, arrests data shows that 9.62 percent of arrested individuals originate from a black ethnicity\n"
     ]
    }
   ],
   "source": [
    "labels = 'White', 'Black', 'Asian', 'Mixed','Other'\n",
    "population_ratio= [86,3.33,7.51,2.18,1.01]\n",
    "arrests_ratio=[78.4,9.62,7.06,3.41,1.55]\n",
    "\n",
    "fig = plt.figure(figsize=(10,7))\n",
    "\n",
    "pop_ax = fig.add_axes([0, 0, .5, .5], aspect=1)\n",
    "pop_ax.pie(population_ratio, labels=labels, radius = 1.2,autopct='%1.1f%%',shadow=True)\n",
    "arrests_ax = fig.add_axes([.5, .0, .5, .5], aspect=1)\n",
    "arrests_ax.pie(arrests_ratio, labels=labels, radius = 1.2,autopct='%1.1f%%',shadow=True)\n",
    "pop_ax.set_title('Population by Ethnicity')\n",
    "arrests_ax.set_title('Arrests by Ethnicity')\n",
    "plt.show()\n",
    "print('The comparison shows that population consists of %.2f percent black ethnic groups; however, arrests data shows that %.2f percent of arrested individuals originate from a black ethnicity' % (3.33,9.62))"
   ]
  },
  {
   "cell_type": "markdown",
   "metadata": {},
   "source": [
    "**Observation:** it can be seen that the ratio between different ethnic groups in the population and arrested ethnic groups are quite close beside for the Black ethnic group. where the arrested ratio **9.62%** is almost three times the black ethnicity ratio in the UK population **3.3%**.\n",
    "\n",
    "**In order to highlight the difference in crime envolvement by race and age; a MultiIndex data frame have been created in order to plot a relevant figure that links the age_group, ethnicity and total number of arrests.**"
   ]
  },
  {
   "cell_type": "code",
   "execution_count": 979,
   "metadata": {},
   "outputs": [
    {
     "data": {
      "text/html": [
       "<div>\n",
       "<style scoped>\n",
       "    .dataframe tbody tr th:only-of-type {\n",
       "        vertical-align: middle;\n",
       "    }\n",
       "\n",
       "    .dataframe tbody tr th {\n",
       "        vertical-align: top;\n",
       "    }\n",
       "\n",
       "    .dataframe thead th {\n",
       "        text-align: right;\n",
       "    }\n",
       "</style>\n",
       "<table border=\"1\" class=\"dataframe\">\n",
       "  <thead>\n",
       "    <tr style=\"text-align: right;\">\n",
       "      <th></th>\n",
       "      <th></th>\n",
       "      <th>Number of arrests</th>\n",
       "    </tr>\n",
       "    <tr>\n",
       "      <th>Age_Group</th>\n",
       "      <th>Ethnicity</th>\n",
       "      <th></th>\n",
       "    </tr>\n",
       "  </thead>\n",
       "  <tbody>\n",
       "    <tr>\n",
       "      <th rowspan=\"5\" valign=\"top\">10 - 17 years</th>\n",
       "      <th>Asian</th>\n",
       "      <td>50512.0</td>\n",
       "    </tr>\n",
       "    <tr>\n",
       "      <th>Black</th>\n",
       "      <td>121439.0</td>\n",
       "    </tr>\n",
       "    <tr>\n",
       "      <th>Mixed</th>\n",
       "      <td>58524.0</td>\n",
       "    </tr>\n",
       "    <tr>\n",
       "      <th>Other</th>\n",
       "      <td>12341.0</td>\n",
       "    </tr>\n",
       "    <tr>\n",
       "      <th>White</th>\n",
       "      <td>672407.0</td>\n",
       "    </tr>\n",
       "    <tr>\n",
       "      <th rowspan=\"5\" valign=\"top\">18 - 20 years</th>\n",
       "      <th>Asian</th>\n",
       "      <td>67963.0</td>\n",
       "    </tr>\n",
       "    <tr>\n",
       "      <th>Black</th>\n",
       "      <td>116454.0</td>\n",
       "    </tr>\n",
       "    <tr>\n",
       "      <th>Mixed</th>\n",
       "      <td>47733.0</td>\n",
       "    </tr>\n",
       "    <tr>\n",
       "      <th>Other</th>\n",
       "      <td>14570.0</td>\n",
       "    </tr>\n",
       "    <tr>\n",
       "      <th>White</th>\n",
       "      <td>722335.0</td>\n",
       "    </tr>\n",
       "    <tr>\n",
       "      <th rowspan=\"5\" valign=\"top\">21 years and over</th>\n",
       "      <th>Asian</th>\n",
       "      <td>534853.0</td>\n",
       "    </tr>\n",
       "    <tr>\n",
       "      <th>Black</th>\n",
       "      <td>652270.0</td>\n",
       "    </tr>\n",
       "    <tr>\n",
       "      <th>Mixed</th>\n",
       "      <td>209545.0</td>\n",
       "    </tr>\n",
       "    <tr>\n",
       "      <th>Other</th>\n",
       "      <td>116135.0</td>\n",
       "    </tr>\n",
       "    <tr>\n",
       "      <th>White</th>\n",
       "      <td>5860488.0</td>\n",
       "    </tr>\n",
       "  </tbody>\n",
       "</table>\n",
       "</div>"
      ],
      "text/plain": [
       "                             Number of arrests\n",
       "Age_Group         Ethnicity                   \n",
       "10 - 17 years     Asian                50512.0\n",
       "                  Black               121439.0\n",
       "                  Mixed                58524.0\n",
       "                  Other                12341.0\n",
       "                  White               672407.0\n",
       "18 - 20 years     Asian                67963.0\n",
       "                  Black               116454.0\n",
       "                  Mixed                47733.0\n",
       "                  Other                14570.0\n",
       "                  White               722335.0\n",
       "21 years and over Asian               534853.0\n",
       "                  Black               652270.0\n",
       "                  Mixed               209545.0\n",
       "                  Other               116135.0\n",
       "                  White              5860488.0"
      ]
     },
     "execution_count": 979,
     "metadata": {},
     "output_type": "execute_result"
    }
   ],
   "source": [
    "#Creating a MultiIndex dataframe in order to highlight that black males are more involved in crime \"percentage wise\" \n",
    "# As the percentage of black population is 3.33% of the total UK population.\n",
    "#  and the percentage of white population is 86% of the total UK population.\n",
    "plot_age_ethnic_arrest=pd.DataFrame((arrests_no_static_columns_no_nan.groupby(['Age_Group','Ethnicity'])['Number of arrests']).sum())\n",
    "plot_age_ethnic_arrest"
   ]
  },
  {
   "cell_type": "code",
   "execution_count": 980,
   "metadata": {
    "scrolled": false
   },
   "outputs": [
    {
     "data": {
      "text/plain": [
       "<matplotlib.legend.Legend at 0x22322acbe48>"
      ]
     },
     "execution_count": 980,
     "metadata": {},
     "output_type": "execute_result"
    },
    {
     "data": {
      "image/png": "[encoded data removed]",
      "text/plain": [
       "<Figure size 1080x576 with 1 Axes>"
      ]
     },
     "metadata": {
      "needs_background": "light"
     },
     "output_type": "display_data"
    }
   ],
   "source": [
    "fig =plot_age_ethnic_arrest.unstack().plot(kind='bar', figsize=(15,8))\n",
    "fig.set_yscale('log')\n",
    "fig.set_xlabel('Age Group', fontsize='large')\n",
    "plt.xticks(rotation=35)\n",
    "fig.set_ylabel('Number of Arrests', fontsize='large')\n",
    "fig.legend(labels=['Asian','Black','Mixed','Other','White'],bbox_to_anchor=(1.05, 1), loc='upper left')\n"
   ]
  },
  {
   "cell_type": "markdown",
   "metadata": {},
   "source": [
    "**Observation:** It can be seen in the above bar plot that the black ethnicity arrests ratio is incompatible with the UK population ethnicity ratio in non of the available age groups in the dataset; this observation confirms the idea that the black ethnic group is three times larger (ratio wise) in preson than its ratio in the free population."
   ]
  },
  {
   "cell_type": "code",
   "execution_count": 1123,
   "metadata": {},
   "outputs": [
    {
     "data": {
      "image/png": "[encoded data removed]",
      "text/plain": [
       "<Figure size 1080x576 with 1 Axes>"
      ]
     },
     "metadata": {
      "needs_background": "light"
     },
     "output_type": "display_data"
    }
   ],
   "source": [
    "# Below is a dendogram that shows a link between different geolocations based on the number of arrests carried in them\n",
    "#  2 cities will be color-matched together if the difference between them is less that the threshold of (10,000)\n",
    "import scipy.cluster.hierarchy as shc\n",
    "dend = shc.dendrogram(shc.linkage(plot_ethnicity_geography, method='ward'), labels=plot_ethnicity_geography.index, color_threshold=10000 ) \n",
    "plt.rcParams[\"figure.figsize\"] = (15,8)\n",
    "plt.xticks(fontsize=12)\n",
    "plt.yscale('symlog')\n",
    "\n",
    "plt.show()"
   ]
  },
  {
   "cell_type": "markdown",
   "metadata": {},
   "source": [
    "### Stop and Search by Ethnicity"
   ]
  },
  {
   "cell_type": "code",
   "execution_count": 1015,
   "metadata": {},
   "outputs": [
    {
     "data": {
      "text/html": [
       "<div>\n",
       "<style scoped>\n",
       "    .dataframe tbody tr th:only-of-type {\n",
       "        vertical-align: middle;\n",
       "    }\n",
       "\n",
       "    .dataframe tbody tr th {\n",
       "        vertical-align: top;\n",
       "    }\n",
       "\n",
       "    .dataframe thead th {\n",
       "        text-align: right;\n",
       "    }\n",
       "</style>\n",
       "<table border=\"1\" class=\"dataframe\">\n",
       "  <thead>\n",
       "    <tr style=\"text-align: right;\">\n",
       "      <th></th>\n",
       "      <th>Measure</th>\n",
       "      <th>Time</th>\n",
       "      <th>Time_type</th>\n",
       "      <th>Ethnicity</th>\n",
       "      <th>Ethnicity_type</th>\n",
       "      <th>Geography</th>\n",
       "      <th>Geography_type</th>\n",
       "      <th>Number of stop and searches</th>\n",
       "      <th>Total number of stop and search carried out in this year in this area (excluding cases where the ethnicity was unreported)</th>\n",
       "      <th>Population by ethnicity</th>\n",
       "      <th>Rate per 1,000 population by ethnicity</th>\n",
       "      <th>Proportion of total stop and searches of this ethnicity in the financial year (excludes unreported)</th>\n",
       "      <th>Notes</th>\n",
       "    </tr>\n",
       "  </thead>\n",
       "  <tbody>\n",
       "    <tr>\n",
       "      <th>0</th>\n",
       "      <td>Number of stops and searches carried out (excl...</td>\n",
       "      <td>2006/07</td>\n",
       "      <td>Financial year</td>\n",
       "      <td>All</td>\n",
       "      <td>All</td>\n",
       "      <td>Avon &amp; Somerset</td>\n",
       "      <td>Police Force Area</td>\n",
       "      <td>15,018</td>\n",
       "      <td>9,050</td>\n",
       "      <td>1,599,555</td>\n",
       "      <td>9.39</td>\n",
       "      <td>NaN</td>\n",
       "      <td>NaN</td>\n",
       "    </tr>\n",
       "    <tr>\n",
       "      <th>1</th>\n",
       "      <td>Number of stops and searches carried out (excl...</td>\n",
       "      <td>2006/07</td>\n",
       "      <td>Financial year</td>\n",
       "      <td>All</td>\n",
       "      <td>All</td>\n",
       "      <td>Bedfordshire</td>\n",
       "      <td>Police Force Area</td>\n",
       "      <td>4,768</td>\n",
       "      <td>4,279</td>\n",
       "      <td>615,061</td>\n",
       "      <td>7.75</td>\n",
       "      <td>NaN</td>\n",
       "      <td>NaN</td>\n",
       "    </tr>\n",
       "    <tr>\n",
       "      <th>2</th>\n",
       "      <td>Number of stops and searches carried out (excl...</td>\n",
       "      <td>2006/07</td>\n",
       "      <td>Financial year</td>\n",
       "      <td>All</td>\n",
       "      <td>All</td>\n",
       "      <td>Cambridgeshire</td>\n",
       "      <td>Police Force Area</td>\n",
       "      <td>8,773</td>\n",
       "      <td>8,582</td>\n",
       "      <td>804,841</td>\n",
       "      <td>10.90</td>\n",
       "      <td>NaN</td>\n",
       "      <td>NaN</td>\n",
       "    </tr>\n",
       "  </tbody>\n",
       "</table>\n",
       "</div>"
      ],
      "text/plain": [
       "                                             Measure     Time       Time_type  \\\n",
       "0  Number of stops and searches carried out (excl...  2006/07  Financial year   \n",
       "1  Number of stops and searches carried out (excl...  2006/07  Financial year   \n",
       "2  Number of stops and searches carried out (excl...  2006/07  Financial year   \n",
       "\n",
       "  Ethnicity Ethnicity_type        Geography     Geography_type  \\\n",
       "0       All            All  Avon & Somerset  Police Force Area   \n",
       "1       All            All     Bedfordshire  Police Force Area   \n",
       "2       All            All   Cambridgeshire  Police Force Area   \n",
       "\n",
       "   Number of stop and searches   \\\n",
       "0                       15,018    \n",
       "1                        4,768    \n",
       "2                        8,773    \n",
       "\n",
       "   Total number of stop and search carried out in this year in this area (excluding cases where the ethnicity was unreported)   \\\n",
       "0                                             9,050                                                                              \n",
       "1                                             4,279                                                                              \n",
       "2                                             8,582                                                                              \n",
       "\n",
       "  Population by ethnicity Rate per 1,000 population by ethnicity  \\\n",
       "0              1,599,555                                   9.39    \n",
       "1                615,061                                   7.75    \n",
       "2                804,841                                  10.90    \n",
       "\n",
       "  Proportion of total stop and searches of this ethnicity in the financial year (excludes unreported)  \\\n",
       "0                                                NaN                                                    \n",
       "1                                                NaN                                                    \n",
       "2                                                NaN                                                    \n",
       "\n",
       "   Notes  \n",
       "0    NaN  \n",
       "1    NaN  \n",
       "2    NaN  "
      ]
     },
     "execution_count": 1015,
     "metadata": {},
     "output_type": "execute_result"
    }
   ],
   "source": [
    "# showing an example of the first 3 rows in the arrests dataset\n",
    "raw_StopSearch_ethnicity.head(3)"
   ]
  },
  {
   "cell_type": "code",
   "execution_count": 1016,
   "metadata": {},
   "outputs": [
    {
     "name": "stdout",
     "output_type": "stream",
     "text": [
      "shape (13104, 13)\n"
     ]
    }
   ],
   "source": [
    "print('shape',raw_StopSearch_ethnicity.shape)"
   ]
  },
  {
   "cell_type": "code",
   "execution_count": 1017,
   "metadata": {},
   "outputs": [
    {
     "name": "stdout",
     "output_type": "stream",
     "text": [
      "<class 'pandas.core.frame.DataFrame'>\n",
      "RangeIndex: 13104 entries, 0 to 13103\n",
      "Data columns (total 13 columns):\n",
      " #   Column                                                                                                                        Non-Null Count  Dtype  \n",
      "---  ------                                                                                                                        --------------  -----  \n",
      " 0   Measure                                                                                                                       13104 non-null  object \n",
      " 1   Time                                                                                                                          13104 non-null  object \n",
      " 2   Time_type                                                                                                                     13104 non-null  object \n",
      " 3   Ethnicity                                                                                                                     13104 non-null  object \n",
      " 4   Ethnicity_type                                                                                                                13104 non-null  object \n",
      " 5   Geography                                                                                                                     13104 non-null  object \n",
      " 6   Geography_type                                                                                                                13104 non-null  object \n",
      " 7    Number of stop and searches                                                                                                  13104 non-null  object \n",
      " 8    Total number of stop and search carried out in this year in this area (excluding cases where the ethnicity was unreported)   13104 non-null  object \n",
      " 9   Population by ethnicity                                                                                                       13104 non-null  object \n",
      " 10  Rate per 1,000 population by ethnicity                                                                                        13104 non-null  object \n",
      " 11  Proportion of total stop and searches of this ethnicity in the financial year (excludes unreported)                           12558 non-null  object \n",
      " 12  Notes                                                                                                                         0 non-null      float64\n",
      "dtypes: float64(1), object(12)\n",
      "memory usage: 1.3+ MB\n"
     ]
    }
   ],
   "source": [
    "raw_StopSearch_ethnicity.info()"
   ]
  },
  {
   "cell_type": "markdown",
   "metadata": {},
   "source": [
    "**Note: It can be seen that some attributes carry some ambiguity in terms of their meaning and possible values; such as:**\n",
    "\n",
    "**[**'Measure' , 'Time_type','Ethnicity Type','Geography_type'**]**\n",
    "\n",
    "Therefore, their distinct values will be analysed to know their meaning and purpose in the dataset."
   ]
  },
  {
   "cell_type": "code",
   "execution_count": 1018,
   "metadata": {},
   "outputs": [
    {
     "data": {
      "text/plain": [
       "Index(['Measure', 'Time_type', 'Ethnicity_type', 'Geography_type'], dtype='object')"
      ]
     },
     "execution_count": 1018,
     "metadata": {},
     "output_type": "execute_result"
    }
   ],
   "source": [
    "# Showing comlumns with less than 3 distinct values\n",
    "non_unique = raw_StopSearch_ethnicity.apply(pd.Series.nunique)\n",
    "static_columns = non_unique[(non_unique>=1)&(non_unique<4)].index\n",
    "static_columns"
   ]
  },
  {
   "cell_type": "code",
   "execution_count": 1019,
   "metadata": {},
   "outputs": [
    {
     "name": "stdout",
     "output_type": "stream",
     "text": [
      "column: Measure \n",
      "Number of unique values: 1 \n",
      "Unique values: ['Number of stops and searches carried out (excluding vehicle only searches)'] \n",
      "\n",
      "column: Time_type \n",
      "Number of unique values: 1 \n",
      "Unique values: ['Financial year'] \n",
      "\n",
      "column: Ethnicity_type \n",
      "Number of unique values: 3 \n",
      "Unique values: ['All' 'ONS 2001 16+1' 'ONS 2001 5+1'] \n",
      "\n",
      "column: Geography_type \n",
      "Number of unique values: 1 \n",
      "Unique values: ['Police Force Area'] \n",
      "\n"
     ]
    }
   ],
   "source": [
    " # Showing the distinct values in columns that contain less than 3 distinct values\n",
    "for i in static_columns:\n",
    "    print('column:',i,'\\nNumber of unique values:',len(raw_StopSearch_ethnicity[i].unique()),'\\nUnique values:',raw_StopSearch_ethnicity[i].unique(),'\\n')"
   ]
  },
  {
   "cell_type": "markdown",
   "metadata": {},
   "source": [
    "**To Remove:** as they only have one distinct value for all rows\n",
    "\n",
    "1. **Measure:** Which represent the measuring methodology and the column will be deleted as it has the same value for all rows.\n",
    "\n",
    "2. **Time_type:** Which represent how the time was demonstrated/formated while gathering the data.\n",
    "\n",
    "3. **Ethnicity_type:** will be removed as it uses ONS mapping and we will use the 'Ethnicity'.\n",
    "\n",
    "4. **Geography_type:** which represents the methodology of determining the location of the study."
   ]
  },
  {
   "cell_type": "code",
   "execution_count": 1020,
   "metadata": {
    "scrolled": true
   },
   "outputs": [
    {
     "data": {
      "text/html": [
       "<div>\n",
       "<style scoped>\n",
       "    .dataframe tbody tr th:only-of-type {\n",
       "        vertical-align: middle;\n",
       "    }\n",
       "\n",
       "    .dataframe tbody tr th {\n",
       "        vertical-align: top;\n",
       "    }\n",
       "\n",
       "    .dataframe thead th {\n",
       "        text-align: right;\n",
       "    }\n",
       "</style>\n",
       "<table border=\"1\" class=\"dataframe\">\n",
       "  <thead>\n",
       "    <tr style=\"text-align: right;\">\n",
       "      <th></th>\n",
       "      <th>Missing values</th>\n",
       "    </tr>\n",
       "  </thead>\n",
       "  <tbody>\n",
       "    <tr>\n",
       "      <th>Time</th>\n",
       "      <td>0</td>\n",
       "    </tr>\n",
       "    <tr>\n",
       "      <th>Ethnicity</th>\n",
       "      <td>0</td>\n",
       "    </tr>\n",
       "    <tr>\n",
       "      <th>Geography</th>\n",
       "      <td>0</td>\n",
       "    </tr>\n",
       "    <tr>\n",
       "      <th>Number of stop and searches</th>\n",
       "      <td>0</td>\n",
       "    </tr>\n",
       "    <tr>\n",
       "      <th>Total number of stop and search carried out in this year in this area (excluding cases where the ethnicity was unreported)</th>\n",
       "      <td>0</td>\n",
       "    </tr>\n",
       "    <tr>\n",
       "      <th>Population by ethnicity</th>\n",
       "      <td>0</td>\n",
       "    </tr>\n",
       "    <tr>\n",
       "      <th>Rate per 1,000 population by ethnicity</th>\n",
       "      <td>0</td>\n",
       "    </tr>\n",
       "    <tr>\n",
       "      <th>Proportion of total stop and searches of this ethnicity in the financial year (excludes unreported)</th>\n",
       "      <td>546</td>\n",
       "    </tr>\n",
       "    <tr>\n",
       "      <th>Notes</th>\n",
       "      <td>13104</td>\n",
       "    </tr>\n",
       "  </tbody>\n",
       "</table>\n",
       "</div>"
      ],
      "text/plain": [
       "                                                    Missing values\n",
       "Time                                                             0\n",
       "Ethnicity                                                        0\n",
       "Geography                                                        0\n",
       " Number of stop and searches                                     0\n",
       " Total number of stop and search carried out in...               0\n",
       "Population by ethnicity                                          0\n",
       "Rate per 1,000 population by ethnicity                           0\n",
       "Proportion of total stop and searches of this e...             546\n",
       "Notes                                                        13104"
      ]
     },
     "execution_count": 1020,
     "metadata": {},
     "output_type": "execute_result"
    }
   ],
   "source": [
    "#creating a copy of the arrests raw dataset before removing the static columns.\n",
    "stopSearch_no_static = raw_StopSearch_ethnicity.copy()\n",
    "stopSearch_no_static= stopSearch_no_static.drop(static_columns, axis=1)\n",
    "pd.DataFrame(stopSearch_no_static.isnull().sum(), columns=[ 'Missing values'])"
   ]
  },
  {
   "cell_type": "markdown",
   "metadata": {},
   "source": [
    "**Note:**Columns with index (4,5,6,7 & 8) are statistically generated attributes that we can calculate individually from columns (0-3); furthermore, the mentioned columns (7&8) mostly contained missing values or general notes that I believe wont provide any additional benifit to a model."
   ]
  },
  {
   "cell_type": "code",
   "execution_count": 1021,
   "metadata": {},
   "outputs": [
    {
     "data": {
      "text/html": [
       "<div>\n",
       "<style scoped>\n",
       "    .dataframe tbody tr th:only-of-type {\n",
       "        vertical-align: middle;\n",
       "    }\n",
       "\n",
       "    .dataframe tbody tr th {\n",
       "        vertical-align: top;\n",
       "    }\n",
       "\n",
       "    .dataframe thead th {\n",
       "        text-align: right;\n",
       "    }\n",
       "</style>\n",
       "<table border=\"1\" class=\"dataframe\">\n",
       "  <thead>\n",
       "    <tr style=\"text-align: right;\">\n",
       "      <th></th>\n",
       "      <th>Time</th>\n",
       "      <th>Ethnicity</th>\n",
       "      <th>Geography</th>\n",
       "      <th>Number of stop and searches</th>\n",
       "    </tr>\n",
       "  </thead>\n",
       "  <tbody>\n",
       "    <tr>\n",
       "      <th>0</th>\n",
       "      <td>2006/07</td>\n",
       "      <td>All</td>\n",
       "      <td>Avon &amp; Somerset</td>\n",
       "      <td>15,018</td>\n",
       "    </tr>\n",
       "    <tr>\n",
       "      <th>1</th>\n",
       "      <td>2006/07</td>\n",
       "      <td>All</td>\n",
       "      <td>Bedfordshire</td>\n",
       "      <td>4,768</td>\n",
       "    </tr>\n",
       "    <tr>\n",
       "      <th>2</th>\n",
       "      <td>2006/07</td>\n",
       "      <td>All</td>\n",
       "      <td>Cambridgeshire</td>\n",
       "      <td>8,773</td>\n",
       "    </tr>\n",
       "    <tr>\n",
       "      <th>3</th>\n",
       "      <td>2006/07</td>\n",
       "      <td>All</td>\n",
       "      <td>Cheshire</td>\n",
       "      <td>6,472</td>\n",
       "    </tr>\n",
       "    <tr>\n",
       "      <th>4</th>\n",
       "      <td>2006/07</td>\n",
       "      <td>All</td>\n",
       "      <td>Cleveland</td>\n",
       "      <td>12,137</td>\n",
       "    </tr>\n",
       "    <tr>\n",
       "      <th>...</th>\n",
       "      <td>...</td>\n",
       "      <td>...</td>\n",
       "      <td>...</td>\n",
       "      <td>...</td>\n",
       "    </tr>\n",
       "    <tr>\n",
       "      <th>13099</th>\n",
       "      <td>2017/18</td>\n",
       "      <td>White</td>\n",
       "      <td>Warwickshire</td>\n",
       "      <td>1,415</td>\n",
       "    </tr>\n",
       "    <tr>\n",
       "      <th>13100</th>\n",
       "      <td>2017/18</td>\n",
       "      <td>White</td>\n",
       "      <td>West Mercia</td>\n",
       "      <td>3,552</td>\n",
       "    </tr>\n",
       "    <tr>\n",
       "      <th>13101</th>\n",
       "      <td>2017/18</td>\n",
       "      <td>White</td>\n",
       "      <td>West Midlands</td>\n",
       "      <td>5,439</td>\n",
       "    </tr>\n",
       "    <tr>\n",
       "      <th>13102</th>\n",
       "      <td>2017/18</td>\n",
       "      <td>White</td>\n",
       "      <td>West Yorkshire</td>\n",
       "      <td>4,492</td>\n",
       "    </tr>\n",
       "    <tr>\n",
       "      <th>13103</th>\n",
       "      <td>2017/18</td>\n",
       "      <td>White</td>\n",
       "      <td>Wiltshire</td>\n",
       "      <td>802</td>\n",
       "    </tr>\n",
       "  </tbody>\n",
       "</table>\n",
       "<p>13104 rows × 4 columns</p>\n",
       "</div>"
      ],
      "text/plain": [
       "          Time Ethnicity        Geography  Number of stop and searches \n",
       "0      2006/07       All  Avon & Somerset                       15,018 \n",
       "1      2006/07       All     Bedfordshire                        4,768 \n",
       "2      2006/07       All   Cambridgeshire                        8,773 \n",
       "3      2006/07       All         Cheshire                        6,472 \n",
       "4      2006/07       All        Cleveland                       12,137 \n",
       "...        ...       ...              ...                           ...\n",
       "13099  2017/18     White     Warwickshire                        1,415 \n",
       "13100  2017/18     White      West Mercia                        3,552 \n",
       "13101  2017/18     White    West Midlands                        5,439 \n",
       "13102  2017/18     White   West Yorkshire                        4,492 \n",
       "13103  2017/18     White        Wiltshire                          802 \n",
       "\n",
       "[13104 rows x 4 columns]"
      ]
     },
     "execution_count": 1021,
     "metadata": {},
     "output_type": "execute_result"
    }
   ],
   "source": [
    "# dropping all columns that contain missing values & can still be computed from other features.\n",
    "#stopSearch_no_static = stopSearch_no_static[:-5]\n",
    "stopSearch_no_static = stopSearch_no_static[stopSearch_no_static.columns[:-5]]\n",
    "stopSearch_no_static"
   ]
  },
  {
   "cell_type": "markdown",
   "metadata": {},
   "source": [
    "**Below:** Displaying all the distinct values of different attributes so the following preprocess can be done:\n",
    "\n",
    "1. **Ethnicity:** values can be shortlisted to [Asian,Black,Bangladeshi, Indian, Pakistani, White, Mixed].\n",
    "2. **Create an ALL dataframe:** some rows has the value \"All\" for Ethnicity & Geography to give an overall view of the dataset which will be extracted.\n",
    "\n"
   ]
  },
  {
   "cell_type": "code",
   "execution_count": 1022,
   "metadata": {},
   "outputs": [
    {
     "name": "stdout",
     "output_type": "stream",
     "text": [
      "column: Time \n",
      "Number of unique values: 12 \n",
      "Unique values: ['2006/07' '2007/08' '2008/09' '2009/10' '2010/11' '2011/12' '2012/13'\n",
      " '2013/14' '2014/15' '2015/16' '2016/17' '2017/18'] \n",
      "\n",
      "column: Ethnicity \n",
      "Number of unique values: 23 \n",
      "Unique values: ['All' 'Any other Asian background' 'Any other black background'\n",
      " 'Any other ethnic group' 'Any other mixed/multiple ethnic background'\n",
      " 'Any other white background' 'Bangladeshi' 'Black African'\n",
      " 'Black Caribbean' 'Chinese' 'Indian' 'Mixed White and Asian'\n",
      " 'Mixed White and Black African' 'Mixed White and Black Caribbean'\n",
      " 'Pakistani' 'Unreported' 'White British' 'White Irish' 'Asian' 'Black'\n",
      " 'Mixed' 'Other' 'White'] \n",
      "\n",
      "column: Geography \n",
      "Number of unique values: 46 \n",
      "Unique values: ['Avon & Somerset' 'Bedfordshire' 'Cambridgeshire' 'Cheshire' 'Cleveland'\n",
      " 'Cumbria' 'Derbyshire' 'Devon & Cornwall' 'Dorset' 'Durham' 'Dyfed-Powys'\n",
      " 'Essex' 'Gloucestershire' 'Greater Manchester' 'Gwent' 'Hampshire'\n",
      " 'Hertfordshire' 'Humberside' 'Kent' 'Lancashire' 'Leicestershire'\n",
      " 'Lincolnshire' 'London, City of' 'Merseyside' 'Metropolitan Police'\n",
      " 'Norfolk' 'North Wales' 'North Yorkshire' 'Northamptonshire'\n",
      " 'Northumbria' 'Nottinghamshire' 'South Wales' 'South Yorkshire'\n",
      " 'Staffordshire' 'Suffolk' 'Surrey' 'Sussex' 'Thames Valley'\n",
      " 'Warwickshire' 'West Mercia' 'West Midlands' 'West Yorkshire' 'Wiltshire'\n",
      " 'All - excluding BTP' 'British Transport Police' 'All - including BTP'] \n",
      "\n"
     ]
    }
   ],
   "source": [
    "# Showing the distinct values in columns that contain less than 3 distinct values\n",
    "non_unique = stopSearch_no_static.apply(pd.Series.nunique)\n",
    "static_columns = non_unique[(non_unique>=1)&(non_unique<200)].index\n",
    "for i in static_columns:\n",
    "    print('column:',i,'\\nNumber of unique values:',len(stopSearch_no_static[i].unique()),'\\nUnique values:',stopSearch_no_static[i].unique(),'\\n')"
   ]
  },
  {
   "cell_type": "code",
   "execution_count": 1023,
   "metadata": {
    "scrolled": false
   },
   "outputs": [
    {
     "data": {
      "text/html": [
       "<div>\n",
       "<style scoped>\n",
       "    .dataframe tbody tr th:only-of-type {\n",
       "        vertical-align: middle;\n",
       "    }\n",
       "\n",
       "    .dataframe tbody tr th {\n",
       "        vertical-align: top;\n",
       "    }\n",
       "\n",
       "    .dataframe thead th {\n",
       "        text-align: right;\n",
       "    }\n",
       "</style>\n",
       "<table border=\"1\" class=\"dataframe\">\n",
       "  <thead>\n",
       "    <tr style=\"text-align: right;\">\n",
       "      <th></th>\n",
       "      <th>Time</th>\n",
       "      <th>Ethnicity</th>\n",
       "      <th>Geography</th>\n",
       "      <th>Number of stop and searches</th>\n",
       "    </tr>\n",
       "  </thead>\n",
       "  <tbody>\n",
       "    <tr>\n",
       "      <th>0</th>\n",
       "      <td>2006/07</td>\n",
       "      <td>All</td>\n",
       "      <td>Avon &amp; Somerset</td>\n",
       "      <td>15,018</td>\n",
       "    </tr>\n",
       "    <tr>\n",
       "      <th>1</th>\n",
       "      <td>2006/07</td>\n",
       "      <td>All</td>\n",
       "      <td>Bedfordshire</td>\n",
       "      <td>4,768</td>\n",
       "    </tr>\n",
       "    <tr>\n",
       "      <th>2</th>\n",
       "      <td>2006/07</td>\n",
       "      <td>All</td>\n",
       "      <td>Cambridgeshire</td>\n",
       "      <td>8,773</td>\n",
       "    </tr>\n",
       "    <tr>\n",
       "      <th>3</th>\n",
       "      <td>2006/07</td>\n",
       "      <td>All</td>\n",
       "      <td>Cheshire</td>\n",
       "      <td>6,472</td>\n",
       "    </tr>\n",
       "    <tr>\n",
       "      <th>4</th>\n",
       "      <td>2006/07</td>\n",
       "      <td>All</td>\n",
       "      <td>Cleveland</td>\n",
       "      <td>12,137</td>\n",
       "    </tr>\n",
       "    <tr>\n",
       "      <th>...</th>\n",
       "      <td>...</td>\n",
       "      <td>...</td>\n",
       "      <td>...</td>\n",
       "      <td>...</td>\n",
       "    </tr>\n",
       "    <tr>\n",
       "      <th>13099</th>\n",
       "      <td>2017/18</td>\n",
       "      <td>White</td>\n",
       "      <td>Warwickshire</td>\n",
       "      <td>1,415</td>\n",
       "    </tr>\n",
       "    <tr>\n",
       "      <th>13100</th>\n",
       "      <td>2017/18</td>\n",
       "      <td>White</td>\n",
       "      <td>West Mercia</td>\n",
       "      <td>3,552</td>\n",
       "    </tr>\n",
       "    <tr>\n",
       "      <th>13101</th>\n",
       "      <td>2017/18</td>\n",
       "      <td>White</td>\n",
       "      <td>West Midlands</td>\n",
       "      <td>5,439</td>\n",
       "    </tr>\n",
       "    <tr>\n",
       "      <th>13102</th>\n",
       "      <td>2017/18</td>\n",
       "      <td>White</td>\n",
       "      <td>West Yorkshire</td>\n",
       "      <td>4,492</td>\n",
       "    </tr>\n",
       "    <tr>\n",
       "      <th>13103</th>\n",
       "      <td>2017/18</td>\n",
       "      <td>White</td>\n",
       "      <td>Wiltshire</td>\n",
       "      <td>802</td>\n",
       "    </tr>\n",
       "  </tbody>\n",
       "</table>\n",
       "<p>13104 rows × 4 columns</p>\n",
       "</div>"
      ],
      "text/plain": [
       "          Time Ethnicity        Geography  Number of stop and searches \n",
       "0      2006/07       All  Avon & Somerset                       15,018 \n",
       "1      2006/07       All     Bedfordshire                        4,768 \n",
       "2      2006/07       All   Cambridgeshire                        8,773 \n",
       "3      2006/07       All         Cheshire                        6,472 \n",
       "4      2006/07       All        Cleveland                       12,137 \n",
       "...        ...       ...              ...                           ...\n",
       "13099  2017/18     White     Warwickshire                        1,415 \n",
       "13100  2017/18     White      West Mercia                        3,552 \n",
       "13101  2017/18     White    West Midlands                        5,439 \n",
       "13102  2017/18     White   West Yorkshire                        4,492 \n",
       "13103  2017/18     White        Wiltshire                          802 \n",
       "\n",
       "[13104 rows x 4 columns]"
      ]
     },
     "execution_count": 1023,
     "metadata": {},
     "output_type": "execute_result"
    }
   ],
   "source": [
    "# Grouping multiple ethnicity to enhance data visualisation and the drawn conclusions\n",
    "#  The grouping is based on how close are the grouped ethnicities are to each other.\n",
    "final_ethnic_group = { 'Any other Asian background':'Asian', 'Any other black background':'Black',\n",
    " 'Any other ethnic group':'Other', 'Any other mixed/multiple ethnic background':'Mixed',\n",
    " 'Any other white background':'White', 'Bangladeshi':'Asian', 'Black African':'Black',\n",
    " 'Black Caribbean':'Black', 'Chinese':'Asian', 'Indian':'Asian', 'Mixed White and Asian':'Mixed',\n",
    " 'Mixed White and Black African':'Mixed', 'Mixed White and Black Caribbean':'Mixed',\n",
    " 'Pakistani':'Asian', 'White British':'White', 'White Irish':'White', 'White':'White'}\n",
    "stopSearch_no_static_no_nan=stopSearch_no_static.replace({\"Ethnicity\":final_ethnic_group})\n",
    "stopSearch_no_static_no_nan"
   ]
  },
  {
   "cell_type": "markdown",
   "metadata": {},
   "source": [
    "**Removing any row that contains an \"Unreported\" value for any of its attributes; as such rows has a missing value for its Ethnicity feature**."
   ]
  },
  {
   "cell_type": "code",
   "execution_count": 1024,
   "metadata": {},
   "outputs": [],
   "source": [
    "stopSearch_no_static_no_nan = stopSearch_no_static_no_nan.replace('Unreported', np.nan)\n",
    "stopSearch_no_static_no_nan = stopSearch_no_static_no_nan.dropna()"
   ]
  },
  {
   "cell_type": "markdown",
   "metadata": {},
   "source": [
    "**Removing any row that contains an \"All\" value for any of its attributes; as such rows are generated by summing other rows depending on the column that had the \"All\" value**.\n",
    "This also includes 'All - including BTP' & 'All - excluding BTP' as there is a specific category that counts transport police stop and search."
   ]
  },
  {
   "cell_type": "code",
   "execution_count": 1025,
   "metadata": {},
   "outputs": [],
   "source": [
    "stopSearch_no_static_no_nan = stopSearch_no_static_no_nan.replace('All', np.nan)\n",
    "stopSearch_no_static_no_nan = stopSearch_no_static_no_nan.dropna()"
   ]
  },
  {
   "cell_type": "code",
   "execution_count": 1026,
   "metadata": {},
   "outputs": [],
   "source": [
    "stopSearch_no_static_no_nan = stopSearch_no_static_no_nan.replace('All - including BTP', np.nan)\n",
    "stopSearch_no_static_no_nan = stopSearch_no_static_no_nan.dropna()"
   ]
  },
  {
   "cell_type": "code",
   "execution_count": 1027,
   "metadata": {},
   "outputs": [],
   "source": [
    "stopSearch_no_static_no_nan = stopSearch_no_static_no_nan.replace('All - excluding BTP', np.nan)\n",
    "stopSearch_no_static_no_nan = stopSearch_no_static_no_nan.dropna()"
   ]
  },
  {
   "cell_type": "markdown",
   "metadata": {},
   "source": [
    "**Showing the remaining distinct values in all columns beside 'Number of stop and searches'**"
   ]
  },
  {
   "cell_type": "code",
   "execution_count": 1044,
   "metadata": {
    "scrolled": false
   },
   "outputs": [
    {
     "name": "stdout",
     "output_type": "stream",
     "text": [
      "column: Time \n",
      "Number of unique values: 12 \n",
      "Unique values: ['2006/07' '2007/08' '2008/09' '2009/10' '2010/11' '2011/12' '2012/13'\n",
      " '2013/14' '2014/15' '2015/16' '2016/17' '2017/18'] \n",
      "\n",
      "column: Ethnicity \n",
      "Number of unique values: 5 \n",
      "Unique values: ['Asian' 'Black' 'Other' 'Mixed' 'White'] \n",
      "\n",
      "column: Geography \n",
      "Number of unique values: 44 \n",
      "Unique values: ['Avon & Somerset' 'Bedfordshire' 'Cambridgeshire' 'Cheshire' 'Cleveland'\n",
      " 'Cumbria' 'Derbyshire' 'Devon & Cornwall' 'Dorset' 'Durham' 'Dyfed-Powys'\n",
      " 'Essex' 'Gloucestershire' 'Greater Manchester' 'Gwent' 'Hampshire'\n",
      " 'Hertfordshire' 'Humberside' 'Kent' 'Lancashire' 'Leicestershire'\n",
      " 'Lincolnshire' 'London, City of' 'Merseyside' 'Metropolitan Police'\n",
      " 'Norfolk' 'North Wales' 'North Yorkshire' 'Northamptonshire'\n",
      " 'Northumbria' 'Nottinghamshire' 'South Wales' 'South Yorkshire'\n",
      " 'Staffordshire' 'Suffolk' 'Surrey' 'Sussex' 'Thames Valley'\n",
      " 'Warwickshire' 'West Mercia' 'West Midlands' 'West Yorkshire' 'Wiltshire'\n",
      " 'British Transport Police'] \n",
      "\n"
     ]
    }
   ],
   "source": [
    "# Showing the distinct values in columns that contain less than 3 distinct values\n",
    "non_unique = stopSearch_no_static_no_nan.apply(pd.Series.nunique)\n",
    "static_columns = non_unique[(non_unique>=1)&(non_unique<200)].index\n",
    "for i in static_columns:\n",
    "    print('column:',i,'\\nNumber of unique values:',len(stopSearch_no_static_no_nan[i].unique()),'\\nUnique values:',stopSearch_no_static_no_nan[i].unique(),'\\n')"
   ]
  },
  {
   "cell_type": "code",
   "execution_count": 1045,
   "metadata": {},
   "outputs": [
    {
     "data": {
      "text/plain": [
       "Index(['Time', 'Ethnicity', 'Geography', ' Number of stop and searches '], dtype='object')"
      ]
     },
     "execution_count": 1045,
     "metadata": {},
     "output_type": "execute_result"
    }
   ],
   "source": [
    "stopSearch_no_static_no_nan.columns"
   ]
  },
  {
   "cell_type": "code",
   "execution_count": 1046,
   "metadata": {
    "scrolled": true
   },
   "outputs": [
    {
     "data": {
      "text/plain": [
       "(0, 4)"
      ]
     },
     "execution_count": 1046,
     "metadata": {},
     "output_type": "execute_result"
    }
   ],
   "source": [
    "stopSearch_no_static_no_nan.loc[stopSearch_no_static_no_nan[' Number of stop and searches '] == '-'].shape"
   ]
  },
  {
   "cell_type": "code",
   "execution_count": 1111,
   "metadata": {},
   "outputs": [
    {
     "data": {
      "text/html": [
       "<div>\n",
       "<style scoped>\n",
       "    .dataframe tbody tr th:only-of-type {\n",
       "        vertical-align: middle;\n",
       "    }\n",
       "\n",
       "    .dataframe tbody tr th {\n",
       "        vertical-align: top;\n",
       "    }\n",
       "\n",
       "    .dataframe thead th {\n",
       "        text-align: right;\n",
       "    }\n",
       "</style>\n",
       "<table border=\"1\" class=\"dataframe\">\n",
       "  <thead>\n",
       "    <tr style=\"text-align: right;\">\n",
       "      <th></th>\n",
       "      <th>Time</th>\n",
       "      <th>Ethnicity</th>\n",
       "      <th>Geography</th>\n",
       "      <th>Number of stop and searches</th>\n",
       "    </tr>\n",
       "  </thead>\n",
       "  <tbody>\n",
       "    <tr>\n",
       "      <th>0</th>\n",
       "      <td>2006/07</td>\n",
       "      <td>Asian</td>\n",
       "      <td>Avon &amp; Somerset</td>\n",
       "      <td>46</td>\n",
       "    </tr>\n",
       "    <tr>\n",
       "      <th>1</th>\n",
       "      <td>2006/07</td>\n",
       "      <td>Asian</td>\n",
       "      <td>Bedfordshire</td>\n",
       "      <td>42</td>\n",
       "    </tr>\n",
       "    <tr>\n",
       "      <th>2</th>\n",
       "      <td>2006/07</td>\n",
       "      <td>Asian</td>\n",
       "      <td>Cambridgeshire</td>\n",
       "      <td>77</td>\n",
       "    </tr>\n",
       "    <tr>\n",
       "      <th>3</th>\n",
       "      <td>2006/07</td>\n",
       "      <td>Asian</td>\n",
       "      <td>Cheshire</td>\n",
       "      <td>16</td>\n",
       "    </tr>\n",
       "    <tr>\n",
       "      <th>4</th>\n",
       "      <td>2006/07</td>\n",
       "      <td>Asian</td>\n",
       "      <td>Cleveland</td>\n",
       "      <td>40</td>\n",
       "    </tr>\n",
       "    <tr>\n",
       "      <th>...</th>\n",
       "      <td>...</td>\n",
       "      <td>...</td>\n",
       "      <td>...</td>\n",
       "      <td>...</td>\n",
       "    </tr>\n",
       "    <tr>\n",
       "      <th>11020</th>\n",
       "      <td>2017/18</td>\n",
       "      <td>White</td>\n",
       "      <td>Warwickshire</td>\n",
       "      <td>1415</td>\n",
       "    </tr>\n",
       "    <tr>\n",
       "      <th>11021</th>\n",
       "      <td>2017/18</td>\n",
       "      <td>White</td>\n",
       "      <td>West Mercia</td>\n",
       "      <td>3552</td>\n",
       "    </tr>\n",
       "    <tr>\n",
       "      <th>11022</th>\n",
       "      <td>2017/18</td>\n",
       "      <td>White</td>\n",
       "      <td>West Midlands</td>\n",
       "      <td>5439</td>\n",
       "    </tr>\n",
       "    <tr>\n",
       "      <th>11023</th>\n",
       "      <td>2017/18</td>\n",
       "      <td>White</td>\n",
       "      <td>West Yorkshire</td>\n",
       "      <td>4492</td>\n",
       "    </tr>\n",
       "    <tr>\n",
       "      <th>11024</th>\n",
       "      <td>2017/18</td>\n",
       "      <td>White</td>\n",
       "      <td>Wiltshire</td>\n",
       "      <td>802</td>\n",
       "    </tr>\n",
       "  </tbody>\n",
       "</table>\n",
       "<p>11025 rows × 4 columns</p>\n",
       "</div>"
      ],
      "text/plain": [
       "          Time Ethnicity        Geography  Number of stop and searches \n",
       "0      2006/07     Asian  Avon & Somerset                            46\n",
       "1      2006/07     Asian     Bedfordshire                            42\n",
       "2      2006/07     Asian   Cambridgeshire                            77\n",
       "3      2006/07     Asian         Cheshire                            16\n",
       "4      2006/07     Asian        Cleveland                            40\n",
       "...        ...       ...              ...                           ...\n",
       "11020  2017/18     White     Warwickshire                          1415\n",
       "11021  2017/18     White      West Mercia                          3552\n",
       "11022  2017/18     White    West Midlands                          5439\n",
       "11023  2017/18     White   West Yorkshire                          4492\n",
       "11024  2017/18     White        Wiltshire                           802\n",
       "\n",
       "[11025 rows x 4 columns]"
      ]
     },
     "execution_count": 1111,
     "metadata": {},
     "output_type": "execute_result"
    }
   ],
   "source": [
    "stopSearch_no_static_no_nan"
   ]
  },
  {
   "cell_type": "code",
   "execution_count": 1118,
   "metadata": {
    "scrolled": false
   },
   "outputs": [],
   "source": [
    "stopSearch_no_static_no_nan = stopSearch_no_static_no_nan.replace('-', np.nan)\n",
    "stopSearch_no_static_no_nan = stopSearch_no_static_no_nan.dropna()\n",
    "stopSearch_no_static_no_nan=stopSearch_no_static_no_nan.reset_index(drop=True)\n",
    "stopSearch_no_static_no_nan[' Number of stop and searches '] = stopSearch_no_static_no_nan[' Number of stop and searches '].astype(str)\n"
   ]
  },
  {
   "cell_type": "code",
   "execution_count": 1121,
   "metadata": {
    "scrolled": false
   },
   "outputs": [
    {
     "name": "stdout",
     "output_type": "stream",
     "text": [
      "<class 'pandas.core.frame.DataFrame'>\n",
      "RangeIndex: 11025 entries, 0 to 11024\n",
      "Data columns (total 4 columns):\n",
      " #   Column                         Non-Null Count  Dtype  \n",
      "---  ------                         --------------  -----  \n",
      " 0   Time                           11025 non-null  object \n",
      " 1   Ethnicity                      11025 non-null  object \n",
      " 2   Geography                      11025 non-null  object \n",
      " 3    Number of stop and searches   11025 non-null  float64\n",
      "dtypes: float64(1), object(3)\n",
      "memory usage: 344.7+ KB\n"
     ]
    }
   ],
   "source": [
    "stopSearch_no_static_no_nan[' Number of stop and searches '] = stopSearch_no_static_no_nan[' Number of stop and searches '].str.replace(' ', '')\n",
    "stopSearch_no_static_no_nan[' Number of stop and searches '] = stopSearch_no_static_no_nan[' Number of stop and searches '].str.replace(',', '')\n",
    "stopSearch_no_static_no_nan[' Number of stop and searches '] = stopSearch_no_static_no_nan[' Number of stop and searches '].str.replace(',', '').astype(float)\n",
    "stopSearch_no_static_no_nan.info()"
   ]
  },
  {
   "cell_type": "code",
   "execution_count": 1122,
   "metadata": {},
   "outputs": [
    {
     "data": {
      "text/html": [
       "<div>\n",
       "<style scoped>\n",
       "    .dataframe tbody tr th:only-of-type {\n",
       "        vertical-align: middle;\n",
       "    }\n",
       "\n",
       "    .dataframe tbody tr th {\n",
       "        vertical-align: top;\n",
       "    }\n",
       "\n",
       "    .dataframe thead th {\n",
       "        text-align: right;\n",
       "    }\n",
       "</style>\n",
       "<table border=\"1\" class=\"dataframe\">\n",
       "  <thead>\n",
       "    <tr style=\"text-align: right;\">\n",
       "      <th></th>\n",
       "      <th>Number of stop and searches</th>\n",
       "    </tr>\n",
       "    <tr>\n",
       "      <th>Ethnicity</th>\n",
       "      <th></th>\n",
       "    </tr>\n",
       "  </thead>\n",
       "  <tbody>\n",
       "    <tr>\n",
       "      <th>White</th>\n",
       "      <td>14480240.0</td>\n",
       "    </tr>\n",
       "    <tr>\n",
       "      <th>Black</th>\n",
       "      <td>3164676.0</td>\n",
       "    </tr>\n",
       "    <tr>\n",
       "      <th>Asian</th>\n",
       "      <td>2129018.0</td>\n",
       "    </tr>\n",
       "    <tr>\n",
       "      <th>Mixed</th>\n",
       "      <td>628932.0</td>\n",
       "    </tr>\n",
       "    <tr>\n",
       "      <th>Other</th>\n",
       "      <td>277370.0</td>\n",
       "    </tr>\n",
       "  </tbody>\n",
       "</table>\n",
       "</div>"
      ],
      "text/plain": [
       "            Number of stop and searches \n",
       "Ethnicity                               \n",
       "White                         14480240.0\n",
       "Black                          3164676.0\n",
       "Asian                          2129018.0\n",
       "Mixed                           628932.0\n",
       "Other                           277370.0"
      ]
     },
     "execution_count": 1122,
     "metadata": {},
     "output_type": "execute_result"
    }
   ],
   "source": [
    "\n",
    "plot_ethnicity_stopSearch=pd.DataFrame((stopSearch_no_static_no_nan.groupby('Ethnicity')[' Number of stop and searches ']).sum().sort_values(ascending=False))\n",
    "plot_ethnicity_stopSearch"
   ]
  },
  {
   "cell_type": "code",
   "execution_count": 1127,
   "metadata": {},
   "outputs": [
    {
     "data": {
      "application/vnd.plotly.v1+json": {
       "config": {
        "plotlyServerURL": "https://plot.ly"
       },
       "data": [
        {
         "alignmentgroup": "True",
         "hoverlabel": {
          "namelength": 0
         },
         "hovertemplate": "color=White<br>x=%{x}<br> Number of stop and searches =%{y}",
         "legendgroup": "White",
         "marker": {
          "color": "rgb(102, 197, 204)"
         },
         "name": "White",
         "offsetgroup": "White",
         "orientation": "v",
         "showlegend": true,
         "textposition": "auto",
         "type": "bar",
         "x": [
          "White"
         ],
         "xaxis": "x",
         "y": [
          14480240
         ],
         "yaxis": "y"
        },
        {
         "alignmentgroup": "True",
         "hoverlabel": {
          "namelength": 0
         },
         "hovertemplate": "color=Black<br>x=%{x}<br> Number of stop and searches =%{y}",
         "legendgroup": "Black",
         "marker": {
          "color": "rgb(246, 207, 113)"
         },
         "name": "Black",
         "offsetgroup": "Black",
         "orientation": "v",
         "showlegend": true,
         "textposition": "auto",
         "type": "bar",
         "x": [
          "Black"
         ],
         "xaxis": "x",
         "y": [
          3164676
         ],
         "yaxis": "y"
        },
        {
         "alignmentgroup": "True",
         "hoverlabel": {
          "namelength": 0
         },
         "hovertemplate": "color=Asian<br>x=%{x}<br> Number of stop and searches =%{y}",
         "legendgroup": "Asian",
         "marker": {
          "color": "rgb(248, 156, 116)"
         },
         "name": "Asian",
         "offsetgroup": "Asian",
         "orientation": "v",
         "showlegend": true,
         "textposition": "auto",
         "type": "bar",
         "x": [
          "Asian"
         ],
         "xaxis": "x",
         "y": [
          2129018
         ],
         "yaxis": "y"
        },
        {
         "alignmentgroup": "True",
         "hoverlabel": {
          "namelength": 0
         },
         "hovertemplate": "color=Mixed<br>x=%{x}<br> Number of stop and searches =%{y}",
         "legendgroup": "Mixed",
         "marker": {
          "color": "rgb(220, 176, 242)"
         },
         "name": "Mixed",
         "offsetgroup": "Mixed",
         "orientation": "v",
         "showlegend": true,
         "textposition": "auto",
         "type": "bar",
         "x": [
          "Mixed"
         ],
         "xaxis": "x",
         "y": [
          628932
         ],
         "yaxis": "y"
        },
        {
         "alignmentgroup": "True",
         "hoverlabel": {
          "namelength": 0
         },
         "hovertemplate": "color=Other<br>x=%{x}<br> Number of stop and searches =%{y}",
         "legendgroup": "Other",
         "marker": {
          "color": "rgb(135, 197, 95)"
         },
         "name": "Other",
         "offsetgroup": "Other",
         "orientation": "v",
         "showlegend": true,
         "textposition": "auto",
         "type": "bar",
         "x": [
          "Other"
         ],
         "xaxis": "x",
         "y": [
          277370
         ],
         "yaxis": "y"
        }
       ],
       "layout": {
        "barmode": "relative",
        "legend": {
         "title": {
          "text": "color"
         },
         "tracegroupgap": 0
        },
        "margin": {
         "t": 60
        },
        "template": {
         "data": {
          "bar": [
           {
            "error_x": {
             "color": "rgb(51,51,51)"
            },
            "error_y": {
             "color": "rgb(51,51,51)"
            },
            "marker": {
             "line": {
              "color": "rgb(237,237,237)",
              "width": 0.5
             }
            },
            "type": "bar"
           }
          ],
          "barpolar": [
           {
            "marker": {
             "line": {
              "color": "rgb(237,237,237)",
              "width": 0.5
             }
            },
            "type": "barpolar"
           }
          ],
          "carpet": [
           {
            "aaxis": {
             "endlinecolor": "rgb(51,51,51)",
             "gridcolor": "white",
             "linecolor": "white",
             "minorgridcolor": "white",
             "startlinecolor": "rgb(51,51,51)"
            },
            "baxis": {
             "endlinecolor": "rgb(51,51,51)",
             "gridcolor": "white",
             "linecolor": "white",
             "minorgridcolor": "white",
             "startlinecolor": "rgb(51,51,51)"
            },
            "type": "carpet"
           }
          ],
          "choropleth": [
           {
            "colorbar": {
             "outlinewidth": 0,
             "tickcolor": "rgb(237,237,237)",
             "ticklen": 6,
             "ticks": "inside"
            },
            "type": "choropleth"
           }
          ],
          "contour": [
           {
            "colorbar": {
             "outlinewidth": 0,
             "tickcolor": "rgb(237,237,237)",
             "ticklen": 6,
             "ticks": "inside"
            },
            "colorscale": [
             [
              0,
              "rgb(20,44,66)"
             ],
             [
              1,
              "rgb(90,179,244)"
             ]
            ],
            "type": "contour"
           }
          ],
          "contourcarpet": [
           {
            "colorbar": {
             "outlinewidth": 0,
             "tickcolor": "rgb(237,237,237)",
             "ticklen": 6,
             "ticks": "inside"
            },
            "type": "contourcarpet"
           }
          ],
          "heatmap": [
           {
            "colorbar": {
             "outlinewidth": 0,
             "tickcolor": "rgb(237,237,237)",
             "ticklen": 6,
             "ticks": "inside"
            },
            "colorscale": [
             [
              0,
              "rgb(20,44,66)"
             ],
             [
              1,
              "rgb(90,179,244)"
             ]
            ],
            "type": "heatmap"
           }
          ],
          "heatmapgl": [
           {
            "colorbar": {
             "outlinewidth": 0,
             "tickcolor": "rgb(237,237,237)",
             "ticklen": 6,
             "ticks": "inside"
            },
            "colorscale": [
             [
              0,
              "rgb(20,44,66)"
             ],
             [
              1,
              "rgb(90,179,244)"
             ]
            ],
            "type": "heatmapgl"
           }
          ],
          "histogram": [
           {
            "marker": {
             "colorbar": {
              "outlinewidth": 0,
              "tickcolor": "rgb(237,237,237)",
              "ticklen": 6,
              "ticks": "inside"
             }
            },
            "type": "histogram"
           }
          ],
          "histogram2d": [
           {
            "colorbar": {
             "outlinewidth": 0,
             "tickcolor": "rgb(237,237,237)",
             "ticklen": 6,
             "ticks": "inside"
            },
            "colorscale": [
             [
              0,
              "rgb(20,44,66)"
             ],
             [
              1,
              "rgb(90,179,244)"
             ]
            ],
            "type": "histogram2d"
           }
          ],
          "histogram2dcontour": [
           {
            "colorbar": {
             "outlinewidth": 0,
             "tickcolor": "rgb(237,237,237)",
             "ticklen": 6,
             "ticks": "inside"
            },
            "colorscale": [
             [
              0,
              "rgb(20,44,66)"
             ],
             [
              1,
              "rgb(90,179,244)"
             ]
            ],
            "type": "histogram2dcontour"
           }
          ],
          "mesh3d": [
           {
            "colorbar": {
             "outlinewidth": 0,
             "tickcolor": "rgb(237,237,237)",
             "ticklen": 6,
             "ticks": "inside"
            },
            "type": "mesh3d"
           }
          ],
          "parcoords": [
           {
            "line": {
             "colorbar": {
              "outlinewidth": 0,
              "tickcolor": "rgb(237,237,237)",
              "ticklen": 6,
              "ticks": "inside"
             }
            },
            "type": "parcoords"
           }
          ],
          "pie": [
           {
            "automargin": true,
            "type": "pie"
           }
          ],
          "scatter": [
           {
            "marker": {
             "colorbar": {
              "outlinewidth": 0,
              "tickcolor": "rgb(237,237,237)",
              "ticklen": 6,
              "ticks": "inside"
             }
            },
            "type": "scatter"
           }
          ],
          "scatter3d": [
           {
            "line": {
             "colorbar": {
              "outlinewidth": 0,
              "tickcolor": "rgb(237,237,237)",
              "ticklen": 6,
              "ticks": "inside"
             }
            },
            "marker": {
             "colorbar": {
              "outlinewidth": 0,
              "tickcolor": "rgb(237,237,237)",
              "ticklen": 6,
              "ticks": "inside"
             }
            },
            "type": "scatter3d"
           }
          ],
          "scattercarpet": [
           {
            "marker": {
             "colorbar": {
              "outlinewidth": 0,
              "tickcolor": "rgb(237,237,237)",
              "ticklen": 6,
              "ticks": "inside"
             }
            },
            "type": "scattercarpet"
           }
          ],
          "scattergeo": [
           {
            "marker": {
             "colorbar": {
              "outlinewidth": 0,
              "tickcolor": "rgb(237,237,237)",
              "ticklen": 6,
              "ticks": "inside"
             }
            },
            "type": "scattergeo"
           }
          ],
          "scattergl": [
           {
            "marker": {
             "colorbar": {
              "outlinewidth": 0,
              "tickcolor": "rgb(237,237,237)",
              "ticklen": 6,
              "ticks": "inside"
             }
            },
            "type": "scattergl"
           }
          ],
          "scattermapbox": [
           {
            "marker": {
             "colorbar": {
              "outlinewidth": 0,
              "tickcolor": "rgb(237,237,237)",
              "ticklen": 6,
              "ticks": "inside"
             }
            },
            "type": "scattermapbox"
           }
          ],
          "scatterpolar": [
           {
            "marker": {
             "colorbar": {
              "outlinewidth": 0,
              "tickcolor": "rgb(237,237,237)",
              "ticklen": 6,
              "ticks": "inside"
             }
            },
            "type": "scatterpolar"
           }
          ],
          "scatterpolargl": [
           {
            "marker": {
             "colorbar": {
              "outlinewidth": 0,
              "tickcolor": "rgb(237,237,237)",
              "ticklen": 6,
              "ticks": "inside"
             }
            },
            "type": "scatterpolargl"
           }
          ],
          "scatterternary": [
           {
            "marker": {
             "colorbar": {
              "outlinewidth": 0,
              "tickcolor": "rgb(237,237,237)",
              "ticklen": 6,
              "ticks": "inside"
             }
            },
            "type": "scatterternary"
           }
          ],
          "surface": [
           {
            "colorbar": {
             "outlinewidth": 0,
             "tickcolor": "rgb(237,237,237)",
             "ticklen": 6,
             "ticks": "inside"
            },
            "colorscale": [
             [
              0,
              "rgb(20,44,66)"
             ],
             [
              1,
              "rgb(90,179,244)"
             ]
            ],
            "type": "surface"
           }
          ],
          "table": [
           {
            "cells": {
             "fill": {
              "color": "rgb(237,237,237)"
             },
             "line": {
              "color": "white"
             }
            },
            "header": {
             "fill": {
              "color": "rgb(217,217,217)"
             },
             "line": {
              "color": "white"
             }
            },
            "type": "table"
           }
          ]
         },
         "layout": {
          "annotationdefaults": {
           "arrowhead": 0,
           "arrowwidth": 1
          },
          "coloraxis": {
           "colorbar": {
            "outlinewidth": 0,
            "tickcolor": "rgb(237,237,237)",
            "ticklen": 6,
            "ticks": "inside"
           }
          },
          "colorscale": {
           "sequential": [
            [
             0,
             "rgb(20,44,66)"
            ],
            [
             1,
             "rgb(90,179,244)"
            ]
           ],
           "sequentialminus": [
            [
             0,
             "rgb(20,44,66)"
            ],
            [
             1,
             "rgb(90,179,244)"
            ]
           ]
          },
          "colorway": [
           "#F8766D",
           "#A3A500",
           "#00BF7D",
           "#00B0F6",
           "#E76BF3"
          ],
          "font": {
           "color": "rgb(51,51,51)"
          },
          "geo": {
           "bgcolor": "white",
           "lakecolor": "white",
           "landcolor": "rgb(237,237,237)",
           "showlakes": true,
           "showland": true,
           "subunitcolor": "white"
          },
          "hoverlabel": {
           "align": "left"
          },
          "hovermode": "closest",
          "paper_bgcolor": "white",
          "plot_bgcolor": "rgb(237,237,237)",
          "polar": {
           "angularaxis": {
            "gridcolor": "white",
            "linecolor": "white",
            "showgrid": true,
            "tickcolor": "rgb(51,51,51)",
            "ticks": "outside"
           },
           "bgcolor": "rgb(237,237,237)",
           "radialaxis": {
            "gridcolor": "white",
            "linecolor": "white",
            "showgrid": true,
            "tickcolor": "rgb(51,51,51)",
            "ticks": "outside"
           }
          },
          "scene": {
           "xaxis": {
            "backgroundcolor": "rgb(237,237,237)",
            "gridcolor": "white",
            "gridwidth": 2,
            "linecolor": "white",
            "showbackground": true,
            "showgrid": true,
            "tickcolor": "rgb(51,51,51)",
            "ticks": "outside",
            "zerolinecolor": "white"
           },
           "yaxis": {
            "backgroundcolor": "rgb(237,237,237)",
            "gridcolor": "white",
            "gridwidth": 2,
            "linecolor": "white",
            "showbackground": true,
            "showgrid": true,
            "tickcolor": "rgb(51,51,51)",
            "ticks": "outside",
            "zerolinecolor": "white"
           },
           "zaxis": {
            "backgroundcolor": "rgb(237,237,237)",
            "gridcolor": "white",
            "gridwidth": 2,
            "linecolor": "white",
            "showbackground": true,
            "showgrid": true,
            "tickcolor": "rgb(51,51,51)",
            "ticks": "outside",
            "zerolinecolor": "white"
           }
          },
          "shapedefaults": {
           "fillcolor": "black",
           "line": {
            "width": 0
           },
           "opacity": 0.3
          },
          "ternary": {
           "aaxis": {
            "gridcolor": "white",
            "linecolor": "white",
            "showgrid": true,
            "tickcolor": "rgb(51,51,51)",
            "ticks": "outside"
           },
           "baxis": {
            "gridcolor": "white",
            "linecolor": "white",
            "showgrid": true,
            "tickcolor": "rgb(51,51,51)",
            "ticks": "outside"
           },
           "bgcolor": "rgb(237,237,237)",
           "caxis": {
            "gridcolor": "white",
            "linecolor": "white",
            "showgrid": true,
            "tickcolor": "rgb(51,51,51)",
            "ticks": "outside"
           }
          },
          "xaxis": {
           "automargin": true,
           "gridcolor": "white",
           "linecolor": "white",
           "showgrid": true,
           "tickcolor": "rgb(51,51,51)",
           "ticks": "outside",
           "title": {
            "standoff": 15
           },
           "zerolinecolor": "white"
          },
          "yaxis": {
           "automargin": true,
           "gridcolor": "white",
           "linecolor": "white",
           "showgrid": true,
           "tickcolor": "rgb(51,51,51)",
           "ticks": "outside",
           "title": {
            "standoff": 15
           },
           "zerolinecolor": "white"
          }
         }
        },
        "title": {
         "text": "Number of Stop-Search by Ethnicity (2013/14 - 2018/19)",
         "x": 0.5,
         "xanchor": "center",
         "y": 0.95,
         "yanchor": "top"
        },
        "xaxis": {
         "anchor": "y",
         "domain": [
          0,
          1
         ],
         "title": {
          "text": "x"
         }
        },
        "yaxis": {
         "anchor": "x",
         "domain": [
          0,
          1
         ],
         "title": {
          "text": " Number of stop and searches "
         }
        }
       }
      },
      "text/html": [
       "<div>\n",
       "        \n",
       "        \n",
       "            <div id=\"56c345c2-eeb7-48be-9d63-b91a33d978f9\" class=\"plotly-graph-div\" style=\"height:525px; width:100%;\"></div>\n",
       "            <script type=\"text/javascript\">\n",
       "                require([\"plotly\"], function(Plotly) {\n",
       "                    window.PLOTLYENV=window.PLOTLYENV || {};\n",
       "                    \n",
       "                if (document.getElementById(\"56c345c2-eeb7-48be-9d63-b91a33d978f9\")) {\n",
       "                    Plotly.newPlot(\n",
       "                        '56c345c2-eeb7-48be-9d63-b91a33d978f9',\n",
       "                        [{\"alignmentgroup\": \"True\", \"hoverlabel\": {\"namelength\": 0}, \"hovertemplate\": \"color=White<br>x=%{x}<br> Number of stop and searches =%{y}\", \"legendgroup\": \"White\", \"marker\": {\"color\": \"rgb(102, 197, 204)\"}, \"name\": \"White\", \"offsetgroup\": \"White\", \"orientation\": \"v\", \"showlegend\": true, \"textposition\": \"auto\", \"type\": \"bar\", \"x\": [\"White\"], \"xaxis\": \"x\", \"y\": [14480240.0], \"yaxis\": \"y\"}, {\"alignmentgroup\": \"True\", \"hoverlabel\": {\"namelength\": 0}, \"hovertemplate\": \"color=Black<br>x=%{x}<br> Number of stop and searches =%{y}\", \"legendgroup\": \"Black\", \"marker\": {\"color\": \"rgb(246, 207, 113)\"}, \"name\": \"Black\", \"offsetgroup\": \"Black\", \"orientation\": \"v\", \"showlegend\": true, \"textposition\": \"auto\", \"type\": \"bar\", \"x\": [\"Black\"], \"xaxis\": \"x\", \"y\": [3164676.0], \"yaxis\": \"y\"}, {\"alignmentgroup\": \"True\", \"hoverlabel\": {\"namelength\": 0}, \"hovertemplate\": \"color=Asian<br>x=%{x}<br> Number of stop and searches =%{y}\", \"legendgroup\": \"Asian\", \"marker\": {\"color\": \"rgb(248, 156, 116)\"}, \"name\": \"Asian\", \"offsetgroup\": \"Asian\", \"orientation\": \"v\", \"showlegend\": true, \"textposition\": \"auto\", \"type\": \"bar\", \"x\": [\"Asian\"], \"xaxis\": \"x\", \"y\": [2129018.0], \"yaxis\": \"y\"}, {\"alignmentgroup\": \"True\", \"hoverlabel\": {\"namelength\": 0}, \"hovertemplate\": \"color=Mixed<br>x=%{x}<br> Number of stop and searches =%{y}\", \"legendgroup\": \"Mixed\", \"marker\": {\"color\": \"rgb(220, 176, 242)\"}, \"name\": \"Mixed\", \"offsetgroup\": \"Mixed\", \"orientation\": \"v\", \"showlegend\": true, \"textposition\": \"auto\", \"type\": \"bar\", \"x\": [\"Mixed\"], \"xaxis\": \"x\", \"y\": [628932.0], \"yaxis\": \"y\"}, {\"alignmentgroup\": \"True\", \"hoverlabel\": {\"namelength\": 0}, \"hovertemplate\": \"color=Other<br>x=%{x}<br> Number of stop and searches =%{y}\", \"legendgroup\": \"Other\", \"marker\": {\"color\": \"rgb(135, 197, 95)\"}, \"name\": \"Other\", \"offsetgroup\": \"Other\", \"orientation\": \"v\", \"showlegend\": true, \"textposition\": \"auto\", \"type\": \"bar\", \"x\": [\"Other\"], \"xaxis\": \"x\", \"y\": [277370.0], \"yaxis\": \"y\"}],\n",
       "                        {\"barmode\": \"relative\", \"legend\": {\"title\": {\"text\": \"color\"}, \"tracegroupgap\": 0}, \"margin\": {\"t\": 60}, \"template\": {\"data\": {\"bar\": [{\"error_x\": {\"color\": \"rgb(51,51,51)\"}, \"error_y\": {\"color\": \"rgb(51,51,51)\"}, \"marker\": {\"line\": {\"color\": \"rgb(237,237,237)\", \"width\": 0.5}}, \"type\": \"bar\"}], \"barpolar\": [{\"marker\": {\"line\": {\"color\": \"rgb(237,237,237)\", \"width\": 0.5}}, \"type\": \"barpolar\"}], \"carpet\": [{\"aaxis\": {\"endlinecolor\": \"rgb(51,51,51)\", \"gridcolor\": \"white\", \"linecolor\": \"white\", \"minorgridcolor\": \"white\", \"startlinecolor\": \"rgb(51,51,51)\"}, \"baxis\": {\"endlinecolor\": \"rgb(51,51,51)\", \"gridcolor\": \"white\", \"linecolor\": \"white\", \"minorgridcolor\": \"white\", \"startlinecolor\": \"rgb(51,51,51)\"}, \"type\": \"carpet\"}], \"choropleth\": [{\"colorbar\": {\"outlinewidth\": 0, \"tickcolor\": \"rgb(237,237,237)\", \"ticklen\": 6, \"ticks\": \"inside\"}, \"type\": \"choropleth\"}], \"contour\": [{\"colorbar\": {\"outlinewidth\": 0, \"tickcolor\": \"rgb(237,237,237)\", \"ticklen\": 6, \"ticks\": \"inside\"}, \"colorscale\": [[0, \"rgb(20,44,66)\"], [1, \"rgb(90,179,244)\"]], \"type\": \"contour\"}], \"contourcarpet\": [{\"colorbar\": {\"outlinewidth\": 0, \"tickcolor\": \"rgb(237,237,237)\", \"ticklen\": 6, \"ticks\": \"inside\"}, \"type\": \"contourcarpet\"}], \"heatmap\": [{\"colorbar\": {\"outlinewidth\": 0, \"tickcolor\": \"rgb(237,237,237)\", \"ticklen\": 6, \"ticks\": \"inside\"}, \"colorscale\": [[0, \"rgb(20,44,66)\"], [1, \"rgb(90,179,244)\"]], \"type\": \"heatmap\"}], \"heatmapgl\": [{\"colorbar\": {\"outlinewidth\": 0, \"tickcolor\": \"rgb(237,237,237)\", \"ticklen\": 6, \"ticks\": \"inside\"}, \"colorscale\": [[0, \"rgb(20,44,66)\"], [1, \"rgb(90,179,244)\"]], \"type\": \"heatmapgl\"}], \"histogram\": [{\"marker\": {\"colorbar\": {\"outlinewidth\": 0, \"tickcolor\": \"rgb(237,237,237)\", \"ticklen\": 6, \"ticks\": \"inside\"}}, \"type\": \"histogram\"}], \"histogram2d\": [{\"colorbar\": {\"outlinewidth\": 0, \"tickcolor\": \"rgb(237,237,237)\", \"ticklen\": 6, \"ticks\": \"inside\"}, \"colorscale\": [[0, \"rgb(20,44,66)\"], [1, \"rgb(90,179,244)\"]], \"type\": \"histogram2d\"}], \"histogram2dcontour\": [{\"colorbar\": {\"outlinewidth\": 0, \"tickcolor\": \"rgb(237,237,237)\", \"ticklen\": 6, \"ticks\": \"inside\"}, \"colorscale\": [[0, \"rgb(20,44,66)\"], [1, \"rgb(90,179,244)\"]], \"type\": \"histogram2dcontour\"}], \"mesh3d\": [{\"colorbar\": {\"outlinewidth\": 0, \"tickcolor\": \"rgb(237,237,237)\", \"ticklen\": 6, \"ticks\": \"inside\"}, \"type\": \"mesh3d\"}], \"parcoords\": [{\"line\": {\"colorbar\": {\"outlinewidth\": 0, \"tickcolor\": \"rgb(237,237,237)\", \"ticklen\": 6, \"ticks\": \"inside\"}}, \"type\": \"parcoords\"}], \"pie\": [{\"automargin\": true, \"type\": \"pie\"}], \"scatter\": [{\"marker\": {\"colorbar\": {\"outlinewidth\": 0, \"tickcolor\": \"rgb(237,237,237)\", \"ticklen\": 6, \"ticks\": \"inside\"}}, \"type\": \"scatter\"}], \"scatter3d\": [{\"line\": {\"colorbar\": {\"outlinewidth\": 0, \"tickcolor\": \"rgb(237,237,237)\", \"ticklen\": 6, \"ticks\": \"inside\"}}, \"marker\": {\"colorbar\": {\"outlinewidth\": 0, \"tickcolor\": \"rgb(237,237,237)\", \"ticklen\": 6, \"ticks\": \"inside\"}}, \"type\": \"scatter3d\"}], \"scattercarpet\": [{\"marker\": {\"colorbar\": {\"outlinewidth\": 0, \"tickcolor\": \"rgb(237,237,237)\", \"ticklen\": 6, \"ticks\": \"inside\"}}, \"type\": \"scattercarpet\"}], \"scattergeo\": [{\"marker\": {\"colorbar\": {\"outlinewidth\": 0, \"tickcolor\": \"rgb(237,237,237)\", \"ticklen\": 6, \"ticks\": \"inside\"}}, \"type\": \"scattergeo\"}], \"scattergl\": [{\"marker\": {\"colorbar\": {\"outlinewidth\": 0, \"tickcolor\": \"rgb(237,237,237)\", \"ticklen\": 6, \"ticks\": \"inside\"}}, \"type\": \"scattergl\"}], \"scattermapbox\": [{\"marker\": {\"colorbar\": {\"outlinewidth\": 0, \"tickcolor\": \"rgb(237,237,237)\", \"ticklen\": 6, \"ticks\": \"inside\"}}, \"type\": \"scattermapbox\"}], \"scatterpolar\": [{\"marker\": {\"colorbar\": {\"outlinewidth\": 0, \"tickcolor\": \"rgb(237,237,237)\", \"ticklen\": 6, \"ticks\": \"inside\"}}, \"type\": \"scatterpolar\"}], \"scatterpolargl\": [{\"marker\": {\"colorbar\": {\"outlinewidth\": 0, \"tickcolor\": \"rgb(237,237,237)\", \"ticklen\": 6, \"ticks\": \"inside\"}}, \"type\": \"scatterpolargl\"}], \"scatterternary\": [{\"marker\": {\"colorbar\": {\"outlinewidth\": 0, \"tickcolor\": \"rgb(237,237,237)\", \"ticklen\": 6, \"ticks\": \"inside\"}}, \"type\": \"scatterternary\"}], \"surface\": [{\"colorbar\": {\"outlinewidth\": 0, \"tickcolor\": \"rgb(237,237,237)\", \"ticklen\": 6, \"ticks\": \"inside\"}, \"colorscale\": [[0, \"rgb(20,44,66)\"], [1, \"rgb(90,179,244)\"]], \"type\": \"surface\"}], \"table\": [{\"cells\": {\"fill\": {\"color\": \"rgb(237,237,237)\"}, \"line\": {\"color\": \"white\"}}, \"header\": {\"fill\": {\"color\": \"rgb(217,217,217)\"}, \"line\": {\"color\": \"white\"}}, \"type\": \"table\"}]}, \"layout\": {\"annotationdefaults\": {\"arrowhead\": 0, \"arrowwidth\": 1}, \"coloraxis\": {\"colorbar\": {\"outlinewidth\": 0, \"tickcolor\": \"rgb(237,237,237)\", \"ticklen\": 6, \"ticks\": \"inside\"}}, \"colorscale\": {\"sequential\": [[0, \"rgb(20,44,66)\"], [1, \"rgb(90,179,244)\"]], \"sequentialminus\": [[0, \"rgb(20,44,66)\"], [1, \"rgb(90,179,244)\"]]}, \"colorway\": [\"#F8766D\", \"#A3A500\", \"#00BF7D\", \"#00B0F6\", \"#E76BF3\"], \"font\": {\"color\": \"rgb(51,51,51)\"}, \"geo\": {\"bgcolor\": \"white\", \"lakecolor\": \"white\", \"landcolor\": \"rgb(237,237,237)\", \"showlakes\": true, \"showland\": true, \"subunitcolor\": \"white\"}, \"hoverlabel\": {\"align\": \"left\"}, \"hovermode\": \"closest\", \"paper_bgcolor\": \"white\", \"plot_bgcolor\": \"rgb(237,237,237)\", \"polar\": {\"angularaxis\": {\"gridcolor\": \"white\", \"linecolor\": \"white\", \"showgrid\": true, \"tickcolor\": \"rgb(51,51,51)\", \"ticks\": \"outside\"}, \"bgcolor\": \"rgb(237,237,237)\", \"radialaxis\": {\"gridcolor\": \"white\", \"linecolor\": \"white\", \"showgrid\": true, \"tickcolor\": \"rgb(51,51,51)\", \"ticks\": \"outside\"}}, \"scene\": {\"xaxis\": {\"backgroundcolor\": \"rgb(237,237,237)\", \"gridcolor\": \"white\", \"gridwidth\": 2, \"linecolor\": \"white\", \"showbackground\": true, \"showgrid\": true, \"tickcolor\": \"rgb(51,51,51)\", \"ticks\": \"outside\", \"zerolinecolor\": \"white\"}, \"yaxis\": {\"backgroundcolor\": \"rgb(237,237,237)\", \"gridcolor\": \"white\", \"gridwidth\": 2, \"linecolor\": \"white\", \"showbackground\": true, \"showgrid\": true, \"tickcolor\": \"rgb(51,51,51)\", \"ticks\": \"outside\", \"zerolinecolor\": \"white\"}, \"zaxis\": {\"backgroundcolor\": \"rgb(237,237,237)\", \"gridcolor\": \"white\", \"gridwidth\": 2, \"linecolor\": \"white\", \"showbackground\": true, \"showgrid\": true, \"tickcolor\": \"rgb(51,51,51)\", \"ticks\": \"outside\", \"zerolinecolor\": \"white\"}}, \"shapedefaults\": {\"fillcolor\": \"black\", \"line\": {\"width\": 0}, \"opacity\": 0.3}, \"ternary\": {\"aaxis\": {\"gridcolor\": \"white\", \"linecolor\": \"white\", \"showgrid\": true, \"tickcolor\": \"rgb(51,51,51)\", \"ticks\": \"outside\"}, \"baxis\": {\"gridcolor\": \"white\", \"linecolor\": \"white\", \"showgrid\": true, \"tickcolor\": \"rgb(51,51,51)\", \"ticks\": \"outside\"}, \"bgcolor\": \"rgb(237,237,237)\", \"caxis\": {\"gridcolor\": \"white\", \"linecolor\": \"white\", \"showgrid\": true, \"tickcolor\": \"rgb(51,51,51)\", \"ticks\": \"outside\"}}, \"xaxis\": {\"automargin\": true, \"gridcolor\": \"white\", \"linecolor\": \"white\", \"showgrid\": true, \"tickcolor\": \"rgb(51,51,51)\", \"ticks\": \"outside\", \"title\": {\"standoff\": 15}, \"zerolinecolor\": \"white\"}, \"yaxis\": {\"automargin\": true, \"gridcolor\": \"white\", \"linecolor\": \"white\", \"showgrid\": true, \"tickcolor\": \"rgb(51,51,51)\", \"ticks\": \"outside\", \"title\": {\"standoff\": 15}, \"zerolinecolor\": \"white\"}}}, \"title\": {\"text\": \"Number of Stop-Search by Ethnicity (2013/14 - 2018/19)\", \"x\": 0.5, \"xanchor\": \"center\", \"y\": 0.95, \"yanchor\": \"top\"}, \"xaxis\": {\"anchor\": \"y\", \"domain\": [0.0, 1.0], \"title\": {\"text\": \"x\"}}, \"yaxis\": {\"anchor\": \"x\", \"domain\": [0.0, 1.0], \"title\": {\"text\": \" Number of stop and searches \"}}},\n",
       "                        {\"responsive\": true}\n",
       "                    ).then(function(){\n",
       "                            \n",
       "var gd = document.getElementById('56c345c2-eeb7-48be-9d63-b91a33d978f9');\n",
       "var x = new MutationObserver(function (mutations, observer) {{\n",
       "        var display = window.getComputedStyle(gd).display;\n",
       "        if (!display || display === 'none') {{\n",
       "            console.log([gd, 'removed!']);\n",
       "            Plotly.purge(gd);\n",
       "            observer.disconnect();\n",
       "        }}\n",
       "}});\n",
       "\n",
       "// Listen for the removal of the full notebook cells\n",
       "var notebookContainer = gd.closest('#notebook-container');\n",
       "if (notebookContainer) {{\n",
       "    x.observe(notebookContainer, {childList: true});\n",
       "}}\n",
       "\n",
       "// Listen for the clearing of the current output cell\n",
       "var outputEl = gd.closest('.output');\n",
       "if (outputEl) {{\n",
       "    x.observe(outputEl, {childList: true});\n",
       "}}\n",
       "\n",
       "                        })\n",
       "                };\n",
       "                });\n",
       "            </script>\n",
       "        </div>"
      ]
     },
     "metadata": {},
     "output_type": "display_data"
    }
   ],
   "source": [
    "fig1 = px.bar(plot_ethnicity_stopSearch, x=plot_ethnicity_stopSearch.index, \n",
    "              y=plot_ethnicity_stopSearch[' Number of stop and searches '], color=plot_ethnicity_stopSearch.index, \n",
    "              color_discrete_sequence=px.colors.qualitative.Pastel)\n",
    "\n",
    "fig1.update_layout(title={\n",
    "                  'text': \"Number of Stop-Search by Ethnicity (2013/14 - 2018/19)\",\n",
    "                  'y':0.95,\n",
    "                  'x':0.5,\n",
    "                  'xanchor': 'center',\n",
    "                  'yanchor': 'top'},\n",
    "                  template='ggplot2')\n"
   ]
  },
  {
   "cell_type": "code",
   "execution_count": 1128,
   "metadata": {},
   "outputs": [
    {
     "data": {
      "application/vnd.plotly.v1+json": {
       "config": {
        "plotlyServerURL": "https://plot.ly"
       },
       "data": [
        {
         "domain": {
          "x": [
           0,
           1
          ],
          "y": [
           0,
           1
          ]
         },
         "hole": 0.5,
         "hoverlabel": {
          "namelength": 0
         },
         "hovertemplate": "label=%{label}<br> Number of stop and searches =%{value}",
         "labels": [
          "White",
          "Black",
          "Asian",
          "Mixed",
          "Other"
         ],
         "legendgroup": "",
         "marker": {
          "line": {
           "color": "black",
           "width": 1
          }
         },
         "name": "",
         "pull": [
          0,
          0.2
         ],
         "showlegend": true,
         "textinfo": "percent+label",
         "textposition": "inside",
         "type": "pie",
         "values": [
          14480240,
          3164676,
          2129018,
          628932,
          277370
         ]
        }
       ],
       "layout": {
        "height": 600,
        "legend": {
         "tracegroupgap": 0
        },
        "margin": {
         "t": 60
        },
        "piecolorway": [
         "rgb(102, 197, 204)",
         "rgb(246, 207, 113)",
         "rgb(248, 156, 116)",
         "rgb(220, 176, 242)",
         "rgb(135, 197, 95)",
         "rgb(158, 185, 243)",
         "rgb(254, 136, 177)",
         "rgb(201, 219, 116)",
         "rgb(139, 224, 164)",
         "rgb(180, 151, 231)",
         "rgb(179, 179, 179)"
        ],
        "template": {
         "data": {
          "bar": [
           {
            "error_x": {
             "color": "#2a3f5f"
            },
            "error_y": {
             "color": "#2a3f5f"
            },
            "marker": {
             "line": {
              "color": "white",
              "width": 0.5
             }
            },
            "type": "bar"
           }
          ],
          "barpolar": [
           {
            "marker": {
             "line": {
              "color": "white",
              "width": 0.5
             }
            },
            "type": "barpolar"
           }
          ],
          "carpet": [
           {
            "aaxis": {
             "endlinecolor": "#2a3f5f",
             "gridcolor": "#C8D4E3",
             "linecolor": "#C8D4E3",
             "minorgridcolor": "#C8D4E3",
             "startlinecolor": "#2a3f5f"
            },
            "baxis": {
             "endlinecolor": "#2a3f5f",
             "gridcolor": "#C8D4E3",
             "linecolor": "#C8D4E3",
             "minorgridcolor": "#C8D4E3",
             "startlinecolor": "#2a3f5f"
            },
            "type": "carpet"
           }
          ],
          "choropleth": [
           {
            "colorbar": {
             "outlinewidth": 0,
             "ticks": ""
            },
            "type": "choropleth"
           }
          ],
          "contour": [
           {
            "colorbar": {
             "outlinewidth": 0,
             "ticks": ""
            },
            "colorscale": [
             [
              0,
              "#0d0887"
             ],
             [
              0.1111111111111111,
              "#46039f"
             ],
             [
              0.2222222222222222,
              "#7201a8"
             ],
             [
              0.3333333333333333,
              "#9c179e"
             ],
             [
              0.4444444444444444,
              "#bd3786"
             ],
             [
              0.5555555555555556,
              "#d8576b"
             ],
             [
              0.6666666666666666,
              "#ed7953"
             ],
             [
              0.7777777777777778,
              "#fb9f3a"
             ],
             [
              0.8888888888888888,
              "#fdca26"
             ],
             [
              1,
              "#f0f921"
             ]
            ],
            "type": "contour"
           }
          ],
          "contourcarpet": [
           {
            "colorbar": {
             "outlinewidth": 0,
             "ticks": ""
            },
            "type": "contourcarpet"
           }
          ],
          "heatmap": [
           {
            "colorbar": {
             "outlinewidth": 0,
             "ticks": ""
            },
            "colorscale": [
             [
              0,
              "#0d0887"
             ],
             [
              0.1111111111111111,
              "#46039f"
             ],
             [
              0.2222222222222222,
              "#7201a8"
             ],
             [
              0.3333333333333333,
              "#9c179e"
             ],
             [
              0.4444444444444444,
              "#bd3786"
             ],
             [
              0.5555555555555556,
              "#d8576b"
             ],
             [
              0.6666666666666666,
              "#ed7953"
             ],
             [
              0.7777777777777778,
              "#fb9f3a"
             ],
             [
              0.8888888888888888,
              "#fdca26"
             ],
             [
              1,
              "#f0f921"
             ]
            ],
            "type": "heatmap"
           }
          ],
          "heatmapgl": [
           {
            "colorbar": {
             "outlinewidth": 0,
             "ticks": ""
            },
            "colorscale": [
             [
              0,
              "#0d0887"
             ],
             [
              0.1111111111111111,
              "#46039f"
             ],
             [
              0.2222222222222222,
              "#7201a8"
             ],
             [
              0.3333333333333333,
              "#9c179e"
             ],
             [
              0.4444444444444444,
              "#bd3786"
             ],
             [
              0.5555555555555556,
              "#d8576b"
             ],
             [
              0.6666666666666666,
              "#ed7953"
             ],
             [
              0.7777777777777778,
              "#fb9f3a"
             ],
             [
              0.8888888888888888,
              "#fdca26"
             ],
             [
              1,
              "#f0f921"
             ]
            ],
            "type": "heatmapgl"
           }
          ],
          "histogram": [
           {
            "marker": {
             "colorbar": {
              "outlinewidth": 0,
              "ticks": ""
             }
            },
            "type": "histogram"
           }
          ],
          "histogram2d": [
           {
            "colorbar": {
             "outlinewidth": 0,
             "ticks": ""
            },
            "colorscale": [
             [
              0,
              "#0d0887"
             ],
             [
              0.1111111111111111,
              "#46039f"
             ],
             [
              0.2222222222222222,
              "#7201a8"
             ],
             [
              0.3333333333333333,
              "#9c179e"
             ],
             [
              0.4444444444444444,
              "#bd3786"
             ],
             [
              0.5555555555555556,
              "#d8576b"
             ],
             [
              0.6666666666666666,
              "#ed7953"
             ],
             [
              0.7777777777777778,
              "#fb9f3a"
             ],
             [
              0.8888888888888888,
              "#fdca26"
             ],
             [
              1,
              "#f0f921"
             ]
            ],
            "type": "histogram2d"
           }
          ],
          "histogram2dcontour": [
           {
            "colorbar": {
             "outlinewidth": 0,
             "ticks": ""
            },
            "colorscale": [
             [
              0,
              "#0d0887"
             ],
             [
              0.1111111111111111,
              "#46039f"
             ],
             [
              0.2222222222222222,
              "#7201a8"
             ],
             [
              0.3333333333333333,
              "#9c179e"
             ],
             [
              0.4444444444444444,
              "#bd3786"
             ],
             [
              0.5555555555555556,
              "#d8576b"
             ],
             [
              0.6666666666666666,
              "#ed7953"
             ],
             [
              0.7777777777777778,
              "#fb9f3a"
             ],
             [
              0.8888888888888888,
              "#fdca26"
             ],
             [
              1,
              "#f0f921"
             ]
            ],
            "type": "histogram2dcontour"
           }
          ],
          "mesh3d": [
           {
            "colorbar": {
             "outlinewidth": 0,
             "ticks": ""
            },
            "type": "mesh3d"
           }
          ],
          "parcoords": [
           {
            "line": {
             "colorbar": {
              "outlinewidth": 0,
              "ticks": ""
             }
            },
            "type": "parcoords"
           }
          ],
          "pie": [
           {
            "automargin": true,
            "type": "pie"
           }
          ],
          "scatter": [
           {
            "marker": {
             "colorbar": {
              "outlinewidth": 0,
              "ticks": ""
             }
            },
            "type": "scatter"
           }
          ],
          "scatter3d": [
           {
            "line": {
             "colorbar": {
              "outlinewidth": 0,
              "ticks": ""
             }
            },
            "marker": {
             "colorbar": {
              "outlinewidth": 0,
              "ticks": ""
             }
            },
            "type": "scatter3d"
           }
          ],
          "scattercarpet": [
           {
            "marker": {
             "colorbar": {
              "outlinewidth": 0,
              "ticks": ""
             }
            },
            "type": "scattercarpet"
           }
          ],
          "scattergeo": [
           {
            "marker": {
             "colorbar": {
              "outlinewidth": 0,
              "ticks": ""
             }
            },
            "type": "scattergeo"
           }
          ],
          "scattergl": [
           {
            "marker": {
             "colorbar": {
              "outlinewidth": 0,
              "ticks": ""
             }
            },
            "type": "scattergl"
           }
          ],
          "scattermapbox": [
           {
            "marker": {
             "colorbar": {
              "outlinewidth": 0,
              "ticks": ""
             }
            },
            "type": "scattermapbox"
           }
          ],
          "scatterpolar": [
           {
            "marker": {
             "colorbar": {
              "outlinewidth": 0,
              "ticks": ""
             }
            },
            "type": "scatterpolar"
           }
          ],
          "scatterpolargl": [
           {
            "marker": {
             "colorbar": {
              "outlinewidth": 0,
              "ticks": ""
             }
            },
            "type": "scatterpolargl"
           }
          ],
          "scatterternary": [
           {
            "marker": {
             "colorbar": {
              "outlinewidth": 0,
              "ticks": ""
             }
            },
            "type": "scatterternary"
           }
          ],
          "surface": [
           {
            "colorbar": {
             "outlinewidth": 0,
             "ticks": ""
            },
            "colorscale": [
             [
              0,
              "#0d0887"
             ],
             [
              0.1111111111111111,
              "#46039f"
             ],
             [
              0.2222222222222222,
              "#7201a8"
             ],
             [
              0.3333333333333333,
              "#9c179e"
             ],
             [
              0.4444444444444444,
              "#bd3786"
             ],
             [
              0.5555555555555556,
              "#d8576b"
             ],
             [
              0.6666666666666666,
              "#ed7953"
             ],
             [
              0.7777777777777778,
              "#fb9f3a"
             ],
             [
              0.8888888888888888,
              "#fdca26"
             ],
             [
              1,
              "#f0f921"
             ]
            ],
            "type": "surface"
           }
          ],
          "table": [
           {
            "cells": {
             "fill": {
              "color": "#EBF0F8"
             },
             "line": {
              "color": "white"
             }
            },
            "header": {
             "fill": {
              "color": "#C8D4E3"
             },
             "line": {
              "color": "white"
             }
            },
            "type": "table"
           }
          ]
         },
         "layout": {
          "annotationdefaults": {
           "arrowcolor": "#2a3f5f",
           "arrowhead": 0,
           "arrowwidth": 1
          },
          "coloraxis": {
           "colorbar": {
            "outlinewidth": 0,
            "ticks": ""
           }
          },
          "colorscale": {
           "diverging": [
            [
             0,
             "#8e0152"
            ],
            [
             0.1,
             "#c51b7d"
            ],
            [
             0.2,
             "#de77ae"
            ],
            [
             0.3,
             "#f1b6da"
            ],
            [
             0.4,
             "#fde0ef"
            ],
            [
             0.5,
             "#f7f7f7"
            ],
            [
             0.6,
             "#e6f5d0"
            ],
            [
             0.7,
             "#b8e186"
            ],
            [
             0.8,
             "#7fbc41"
            ],
            [
             0.9,
             "#4d9221"
            ],
            [
             1,
             "#276419"
            ]
           ],
           "sequential": [
            [
             0,
             "#0d0887"
            ],
            [
             0.1111111111111111,
             "#46039f"
            ],
            [
             0.2222222222222222,
             "#7201a8"
            ],
            [
             0.3333333333333333,
             "#9c179e"
            ],
            [
             0.4444444444444444,
             "#bd3786"
            ],
            [
             0.5555555555555556,
             "#d8576b"
            ],
            [
             0.6666666666666666,
             "#ed7953"
            ],
            [
             0.7777777777777778,
             "#fb9f3a"
            ],
            [
             0.8888888888888888,
             "#fdca26"
            ],
            [
             1,
             "#f0f921"
            ]
           ],
           "sequentialminus": [
            [
             0,
             "#0d0887"
            ],
            [
             0.1111111111111111,
             "#46039f"
            ],
            [
             0.2222222222222222,
             "#7201a8"
            ],
            [
             0.3333333333333333,
             "#9c179e"
            ],
            [
             0.4444444444444444,
             "#bd3786"
            ],
            [
             0.5555555555555556,
             "#d8576b"
            ],
            [
             0.6666666666666666,
             "#ed7953"
            ],
            [
             0.7777777777777778,
             "#fb9f3a"
            ],
            [
             0.8888888888888888,
             "#fdca26"
            ],
            [
             1,
             "#f0f921"
            ]
           ]
          },
          "colorway": [
           "#636efa",
           "#EF553B",
           "#00cc96",
           "#ab63fa",
           "#FFA15A",
           "#19d3f3",
           "#FF6692",
           "#B6E880",
           "#FF97FF",
           "#FECB52"
          ],
          "font": {
           "color": "#2a3f5f"
          },
          "geo": {
           "bgcolor": "white",
           "lakecolor": "white",
           "landcolor": "white",
           "showlakes": true,
           "showland": true,
           "subunitcolor": "#C8D4E3"
          },
          "hoverlabel": {
           "align": "left"
          },
          "hovermode": "closest",
          "mapbox": {
           "style": "light"
          },
          "paper_bgcolor": "white",
          "plot_bgcolor": "white",
          "polar": {
           "angularaxis": {
            "gridcolor": "#EBF0F8",
            "linecolor": "#EBF0F8",
            "ticks": ""
           },
           "bgcolor": "white",
           "radialaxis": {
            "gridcolor": "#EBF0F8",
            "linecolor": "#EBF0F8",
            "ticks": ""
           }
          },
          "scene": {
           "xaxis": {
            "backgroundcolor": "white",
            "gridcolor": "#DFE8F3",
            "gridwidth": 2,
            "linecolor": "#EBF0F8",
            "showbackground": true,
            "ticks": "",
            "zerolinecolor": "#EBF0F8"
           },
           "yaxis": {
            "backgroundcolor": "white",
            "gridcolor": "#DFE8F3",
            "gridwidth": 2,
            "linecolor": "#EBF0F8",
            "showbackground": true,
            "ticks": "",
            "zerolinecolor": "#EBF0F8"
           },
           "zaxis": {
            "backgroundcolor": "white",
            "gridcolor": "#DFE8F3",
            "gridwidth": 2,
            "linecolor": "#EBF0F8",
            "showbackground": true,
            "ticks": "",
            "zerolinecolor": "#EBF0F8"
           }
          },
          "shapedefaults": {
           "line": {
            "color": "#2a3f5f"
           }
          },
          "ternary": {
           "aaxis": {
            "gridcolor": "#DFE8F3",
            "linecolor": "#A2B1C6",
            "ticks": ""
           },
           "baxis": {
            "gridcolor": "#DFE8F3",
            "linecolor": "#A2B1C6",
            "ticks": ""
           },
           "bgcolor": "white",
           "caxis": {
            "gridcolor": "#DFE8F3",
            "linecolor": "#A2B1C6",
            "ticks": ""
           }
          },
          "title": {
           "x": 0.05
          },
          "xaxis": {
           "automargin": true,
           "gridcolor": "#EBF0F8",
           "linecolor": "#EBF0F8",
           "ticks": "",
           "title": {
            "standoff": 15
           },
           "zerolinecolor": "#EBF0F8",
           "zerolinewidth": 2
          },
          "yaxis": {
           "automargin": true,
           "gridcolor": "#EBF0F8",
           "linecolor": "#EBF0F8",
           "ticks": "",
           "title": {
            "standoff": 15
           },
           "zerolinecolor": "#EBF0F8",
           "zerolinewidth": 2
          }
         }
        },
        "title": {
         "text": "UK Stop-Search by Ethnicity",
         "x": 0.5,
         "xanchor": "center",
         "y": 0.955,
         "yanchor": "top"
        }
       }
      },
      "text/html": [
       "<div>\n",
       "        \n",
       "        \n",
       "            <div id=\"83e62ef4-77ee-4eda-bb36-ade85bab4d9b\" class=\"plotly-graph-div\" style=\"height:600px; width:100%;\"></div>\n",
       "            <script type=\"text/javascript\">\n",
       "                require([\"plotly\"], function(Plotly) {\n",
       "                    window.PLOTLYENV=window.PLOTLYENV || {};\n",
       "                    \n",
       "                if (document.getElementById(\"83e62ef4-77ee-4eda-bb36-ade85bab4d9b\")) {\n",
       "                    Plotly.newPlot(\n",
       "                        '83e62ef4-77ee-4eda-bb36-ade85bab4d9b',\n",
       "                        [{\"domain\": {\"x\": [0.0, 1.0], \"y\": [0.0, 1.0]}, \"hole\": 0.5, \"hoverlabel\": {\"namelength\": 0}, \"hovertemplate\": \"label=%{label}<br> Number of stop and searches =%{value}\", \"labels\": [\"White\", \"Black\", \"Asian\", \"Mixed\", \"Other\"], \"legendgroup\": \"\", \"marker\": {\"line\": {\"color\": \"black\", \"width\": 1}}, \"name\": \"\", \"pull\": [0, 0.2], \"showlegend\": true, \"textinfo\": \"percent+label\", \"textposition\": \"inside\", \"type\": \"pie\", \"values\": [14480240.0, 3164676.0, 2129018.0, 628932.0, 277370.0]}],\n",
       "                        {\"height\": 600, \"legend\": {\"tracegroupgap\": 0}, \"margin\": {\"t\": 60}, \"piecolorway\": [\"rgb(102, 197, 204)\", \"rgb(246, 207, 113)\", \"rgb(248, 156, 116)\", \"rgb(220, 176, 242)\", \"rgb(135, 197, 95)\", \"rgb(158, 185, 243)\", \"rgb(254, 136, 177)\", \"rgb(201, 219, 116)\", \"rgb(139, 224, 164)\", \"rgb(180, 151, 231)\", \"rgb(179, 179, 179)\"], \"template\": {\"data\": {\"bar\": [{\"error_x\": {\"color\": \"#2a3f5f\"}, \"error_y\": {\"color\": \"#2a3f5f\"}, \"marker\": {\"line\": {\"color\": \"white\", \"width\": 0.5}}, \"type\": \"bar\"}], \"barpolar\": [{\"marker\": {\"line\": {\"color\": \"white\", \"width\": 0.5}}, \"type\": \"barpolar\"}], \"carpet\": [{\"aaxis\": {\"endlinecolor\": \"#2a3f5f\", \"gridcolor\": \"#C8D4E3\", \"linecolor\": \"#C8D4E3\", \"minorgridcolor\": \"#C8D4E3\", \"startlinecolor\": \"#2a3f5f\"}, \"baxis\": {\"endlinecolor\": \"#2a3f5f\", \"gridcolor\": \"#C8D4E3\", \"linecolor\": \"#C8D4E3\", \"minorgridcolor\": \"#C8D4E3\", \"startlinecolor\": \"#2a3f5f\"}, \"type\": \"carpet\"}], \"choropleth\": [{\"colorbar\": {\"outlinewidth\": 0, \"ticks\": \"\"}, \"type\": \"choropleth\"}], \"contour\": [{\"colorbar\": {\"outlinewidth\": 0, \"ticks\": \"\"}, \"colorscale\": [[0.0, \"#0d0887\"], [0.1111111111111111, \"#46039f\"], [0.2222222222222222, \"#7201a8\"], [0.3333333333333333, \"#9c179e\"], [0.4444444444444444, \"#bd3786\"], [0.5555555555555556, \"#d8576b\"], [0.6666666666666666, \"#ed7953\"], [0.7777777777777778, \"#fb9f3a\"], [0.8888888888888888, \"#fdca26\"], [1.0, \"#f0f921\"]], \"type\": \"contour\"}], \"contourcarpet\": [{\"colorbar\": {\"outlinewidth\": 0, \"ticks\": \"\"}, \"type\": \"contourcarpet\"}], \"heatmap\": [{\"colorbar\": {\"outlinewidth\": 0, \"ticks\": \"\"}, \"colorscale\": [[0.0, \"#0d0887\"], [0.1111111111111111, \"#46039f\"], [0.2222222222222222, \"#7201a8\"], [0.3333333333333333, \"#9c179e\"], [0.4444444444444444, \"#bd3786\"], [0.5555555555555556, \"#d8576b\"], [0.6666666666666666, \"#ed7953\"], [0.7777777777777778, \"#fb9f3a\"], [0.8888888888888888, \"#fdca26\"], [1.0, \"#f0f921\"]], \"type\": \"heatmap\"}], \"heatmapgl\": [{\"colorbar\": {\"outlinewidth\": 0, \"ticks\": \"\"}, \"colorscale\": [[0.0, \"#0d0887\"], [0.1111111111111111, \"#46039f\"], [0.2222222222222222, \"#7201a8\"], [0.3333333333333333, \"#9c179e\"], [0.4444444444444444, \"#bd3786\"], [0.5555555555555556, \"#d8576b\"], [0.6666666666666666, \"#ed7953\"], [0.7777777777777778, \"#fb9f3a\"], [0.8888888888888888, \"#fdca26\"], [1.0, \"#f0f921\"]], \"type\": \"heatmapgl\"}], \"histogram\": [{\"marker\": {\"colorbar\": {\"outlinewidth\": 0, \"ticks\": \"\"}}, \"type\": \"histogram\"}], \"histogram2d\": [{\"colorbar\": {\"outlinewidth\": 0, \"ticks\": \"\"}, \"colorscale\": [[0.0, \"#0d0887\"], [0.1111111111111111, \"#46039f\"], [0.2222222222222222, \"#7201a8\"], [0.3333333333333333, \"#9c179e\"], [0.4444444444444444, \"#bd3786\"], [0.5555555555555556, \"#d8576b\"], [0.6666666666666666, \"#ed7953\"], [0.7777777777777778, \"#fb9f3a\"], [0.8888888888888888, \"#fdca26\"], [1.0, \"#f0f921\"]], \"type\": \"histogram2d\"}], \"histogram2dcontour\": [{\"colorbar\": {\"outlinewidth\": 0, \"ticks\": \"\"}, \"colorscale\": [[0.0, \"#0d0887\"], [0.1111111111111111, \"#46039f\"], [0.2222222222222222, \"#7201a8\"], [0.3333333333333333, \"#9c179e\"], [0.4444444444444444, \"#bd3786\"], [0.5555555555555556, \"#d8576b\"], [0.6666666666666666, \"#ed7953\"], [0.7777777777777778, \"#fb9f3a\"], [0.8888888888888888, \"#fdca26\"], [1.0, \"#f0f921\"]], \"type\": \"histogram2dcontour\"}], \"mesh3d\": [{\"colorbar\": {\"outlinewidth\": 0, \"ticks\": \"\"}, \"type\": \"mesh3d\"}], \"parcoords\": [{\"line\": {\"colorbar\": {\"outlinewidth\": 0, \"ticks\": \"\"}}, \"type\": \"parcoords\"}], \"pie\": [{\"automargin\": true, \"type\": \"pie\"}], \"scatter\": [{\"marker\": {\"colorbar\": {\"outlinewidth\": 0, \"ticks\": \"\"}}, \"type\": \"scatter\"}], \"scatter3d\": [{\"line\": {\"colorbar\": {\"outlinewidth\": 0, \"ticks\": \"\"}}, \"marker\": {\"colorbar\": {\"outlinewidth\": 0, \"ticks\": \"\"}}, \"type\": \"scatter3d\"}], \"scattercarpet\": [{\"marker\": {\"colorbar\": {\"outlinewidth\": 0, \"ticks\": \"\"}}, \"type\": \"scattercarpet\"}], \"scattergeo\": [{\"marker\": {\"colorbar\": {\"outlinewidth\": 0, \"ticks\": \"\"}}, \"type\": \"scattergeo\"}], \"scattergl\": [{\"marker\": {\"colorbar\": {\"outlinewidth\": 0, \"ticks\": \"\"}}, \"type\": \"scattergl\"}], \"scattermapbox\": [{\"marker\": {\"colorbar\": {\"outlinewidth\": 0, \"ticks\": \"\"}}, \"type\": \"scattermapbox\"}], \"scatterpolar\": [{\"marker\": {\"colorbar\": {\"outlinewidth\": 0, \"ticks\": \"\"}}, \"type\": \"scatterpolar\"}], \"scatterpolargl\": [{\"marker\": {\"colorbar\": {\"outlinewidth\": 0, \"ticks\": \"\"}}, \"type\": \"scatterpolargl\"}], \"scatterternary\": [{\"marker\": {\"colorbar\": {\"outlinewidth\": 0, \"ticks\": \"\"}}, \"type\": \"scatterternary\"}], \"surface\": [{\"colorbar\": {\"outlinewidth\": 0, \"ticks\": \"\"}, \"colorscale\": [[0.0, \"#0d0887\"], [0.1111111111111111, \"#46039f\"], [0.2222222222222222, \"#7201a8\"], [0.3333333333333333, \"#9c179e\"], [0.4444444444444444, \"#bd3786\"], [0.5555555555555556, \"#d8576b\"], [0.6666666666666666, \"#ed7953\"], [0.7777777777777778, \"#fb9f3a\"], [0.8888888888888888, \"#fdca26\"], [1.0, \"#f0f921\"]], \"type\": \"surface\"}], \"table\": [{\"cells\": {\"fill\": {\"color\": \"#EBF0F8\"}, \"line\": {\"color\": \"white\"}}, \"header\": {\"fill\": {\"color\": \"#C8D4E3\"}, \"line\": {\"color\": \"white\"}}, \"type\": \"table\"}]}, \"layout\": {\"annotationdefaults\": {\"arrowcolor\": \"#2a3f5f\", \"arrowhead\": 0, \"arrowwidth\": 1}, \"coloraxis\": {\"colorbar\": {\"outlinewidth\": 0, \"ticks\": \"\"}}, \"colorscale\": {\"diverging\": [[0, \"#8e0152\"], [0.1, \"#c51b7d\"], [0.2, \"#de77ae\"], [0.3, \"#f1b6da\"], [0.4, \"#fde0ef\"], [0.5, \"#f7f7f7\"], [0.6, \"#e6f5d0\"], [0.7, \"#b8e186\"], [0.8, \"#7fbc41\"], [0.9, \"#4d9221\"], [1, \"#276419\"]], \"sequential\": [[0.0, \"#0d0887\"], [0.1111111111111111, \"#46039f\"], [0.2222222222222222, \"#7201a8\"], [0.3333333333333333, \"#9c179e\"], [0.4444444444444444, \"#bd3786\"], [0.5555555555555556, \"#d8576b\"], [0.6666666666666666, \"#ed7953\"], [0.7777777777777778, \"#fb9f3a\"], [0.8888888888888888, \"#fdca26\"], [1.0, \"#f0f921\"]], \"sequentialminus\": [[0.0, \"#0d0887\"], [0.1111111111111111, \"#46039f\"], [0.2222222222222222, \"#7201a8\"], [0.3333333333333333, \"#9c179e\"], [0.4444444444444444, \"#bd3786\"], [0.5555555555555556, \"#d8576b\"], [0.6666666666666666, \"#ed7953\"], [0.7777777777777778, \"#fb9f3a\"], [0.8888888888888888, \"#fdca26\"], [1.0, \"#f0f921\"]]}, \"colorway\": [\"#636efa\", \"#EF553B\", \"#00cc96\", \"#ab63fa\", \"#FFA15A\", \"#19d3f3\", \"#FF6692\", \"#B6E880\", \"#FF97FF\", \"#FECB52\"], \"font\": {\"color\": \"#2a3f5f\"}, \"geo\": {\"bgcolor\": \"white\", \"lakecolor\": \"white\", \"landcolor\": \"white\", \"showlakes\": true, \"showland\": true, \"subunitcolor\": \"#C8D4E3\"}, \"hoverlabel\": {\"align\": \"left\"}, \"hovermode\": \"closest\", \"mapbox\": {\"style\": \"light\"}, \"paper_bgcolor\": \"white\", \"plot_bgcolor\": \"white\", \"polar\": {\"angularaxis\": {\"gridcolor\": \"#EBF0F8\", \"linecolor\": \"#EBF0F8\", \"ticks\": \"\"}, \"bgcolor\": \"white\", \"radialaxis\": {\"gridcolor\": \"#EBF0F8\", \"linecolor\": \"#EBF0F8\", \"ticks\": \"\"}}, \"scene\": {\"xaxis\": {\"backgroundcolor\": \"white\", \"gridcolor\": \"#DFE8F3\", \"gridwidth\": 2, \"linecolor\": \"#EBF0F8\", \"showbackground\": true, \"ticks\": \"\", \"zerolinecolor\": \"#EBF0F8\"}, \"yaxis\": {\"backgroundcolor\": \"white\", \"gridcolor\": \"#DFE8F3\", \"gridwidth\": 2, \"linecolor\": \"#EBF0F8\", \"showbackground\": true, \"ticks\": \"\", \"zerolinecolor\": \"#EBF0F8\"}, \"zaxis\": {\"backgroundcolor\": \"white\", \"gridcolor\": \"#DFE8F3\", \"gridwidth\": 2, \"linecolor\": \"#EBF0F8\", \"showbackground\": true, \"ticks\": \"\", \"zerolinecolor\": \"#EBF0F8\"}}, \"shapedefaults\": {\"line\": {\"color\": \"#2a3f5f\"}}, \"ternary\": {\"aaxis\": {\"gridcolor\": \"#DFE8F3\", \"linecolor\": \"#A2B1C6\", \"ticks\": \"\"}, \"baxis\": {\"gridcolor\": \"#DFE8F3\", \"linecolor\": \"#A2B1C6\", \"ticks\": \"\"}, \"bgcolor\": \"white\", \"caxis\": {\"gridcolor\": \"#DFE8F3\", \"linecolor\": \"#A2B1C6\", \"ticks\": \"\"}}, \"title\": {\"x\": 0.05}, \"xaxis\": {\"automargin\": true, \"gridcolor\": \"#EBF0F8\", \"linecolor\": \"#EBF0F8\", \"ticks\": \"\", \"title\": {\"standoff\": 15}, \"zerolinecolor\": \"#EBF0F8\", \"zerolinewidth\": 2}, \"yaxis\": {\"automargin\": true, \"gridcolor\": \"#EBF0F8\", \"linecolor\": \"#EBF0F8\", \"ticks\": \"\", \"title\": {\"standoff\": 15}, \"zerolinecolor\": \"#EBF0F8\", \"zerolinewidth\": 2}}}, \"title\": {\"text\": \"UK Stop-Search by Ethnicity\", \"x\": 0.5, \"xanchor\": \"center\", \"y\": 0.955, \"yanchor\": \"top\"}},\n",
       "                        {\"responsive\": true}\n",
       "                    ).then(function(){\n",
       "                            \n",
       "var gd = document.getElementById('83e62ef4-77ee-4eda-bb36-ade85bab4d9b');\n",
       "var x = new MutationObserver(function (mutations, observer) {{\n",
       "        var display = window.getComputedStyle(gd).display;\n",
       "        if (!display || display === 'none') {{\n",
       "            console.log([gd, 'removed!']);\n",
       "            Plotly.purge(gd);\n",
       "            observer.disconnect();\n",
       "        }}\n",
       "}});\n",
       "\n",
       "// Listen for the removal of the full notebook cells\n",
       "var notebookContainer = gd.closest('#notebook-container');\n",
       "if (notebookContainer) {{\n",
       "    x.observe(notebookContainer, {childList: true});\n",
       "}}\n",
       "\n",
       "// Listen for the clearing of the current output cell\n",
       "var outputEl = gd.closest('.output');\n",
       "if (outputEl) {{\n",
       "    x.observe(outputEl, {childList: true});\n",
       "}}\n",
       "\n",
       "                        })\n",
       "                };\n",
       "                });\n",
       "            </script>\n",
       "        </div>"
      ]
     },
     "metadata": {},
     "output_type": "display_data"
    }
   ],
   "source": [
    "fig2 = px.pie(plot_ethnicity_stopSearch, plot_ethnicity_stopSearch.index, \n",
    "              plot_ethnicity_stopSearch[' Number of stop and searches '], \n",
    "              color_discrete_sequence=px.colors.qualitative.Pastel, hole=0.5)\n",
    "\n",
    "fig2.update_layout(title={\n",
    "                  'text': \"UK Stop-Search by Ethnicity\",\n",
    "                  'y':0.955,\n",
    "                  'x':0.5,\n",
    "                  'xanchor': 'center',\n",
    "                  'yanchor': 'top'},\n",
    "                   height=600,\n",
    "                  template='plotly_white')\n",
    "\n",
    "fig2.update_traces(textposition='inside', textinfo='percent+label', pull=[0, 0.2])\n",
    "\n",
    "fig2.data[0].marker.line.width = 1\n",
    "fig2.data[0].marker.line.color = \"black\"\n",
    "fig2.show()"
   ]
  },
  {
   "cell_type": "code",
   "execution_count": 1129,
   "metadata": {},
   "outputs": [
    {
     "data": {
      "image/png": "[encoded data removed]",
      "text/plain": [
       "<Figure size 720x504 with 2 Axes>"
      ]
     },
     "metadata": {},
     "output_type": "display_data"
    },
    {
     "name": "stdout",
     "output_type": "stream",
     "text": [
      "The comparison shows that 15.30 percent of the stoped and searched individuals fall into the black ethnic group; however, UK opopulation data shows that only 3.30 percent of the UK population originate from a black ethnicity which is 5 times less than black ethnicity stop and search ratio\n"
     ]
    }
   ],
   "source": [
    "labels = 'White', 'Black', 'Asian', 'Mixed','Other'\n",
    "population_ratio= [86,3.33,7.51,2.18,1.01]\n",
    "arrests_ratio=[70,15.3,10.3,3.04,1.34]\n",
    "fig = plt.figure(figsize=(10,7))\n",
    "pop_ax = fig.add_axes([0, 0, .5, .5], aspect=1)\n",
    "pop_ax.pie(population_ratio, labels=labels, radius = 1.2,autopct='%1.1f%%',shadow=True)\n",
    "arrests_ax = fig.add_axes([.5, .0, .5, .5], aspect=1)\n",
    "arrests_ax.pie(arrests_ratio, labels=labels, radius = 1.2,autopct='%1.1f%%',shadow=True)\n",
    "pop_ax.set_title('Population by Ethnicity')\n",
    "arrests_ax.set_title('Stop-Search by Ethnicity')\n",
    "plt.show()\n",
    "print('The comparison shows that %.2f percent of the stoped and searched individuals fall into the black ethnic group; however, UK opopulation data shows that only %.2f percent of the UK population originate from a black ethnicity which is 5 times less than black ethnicity stop and search ratio' % (15.3,3.3))"
   ]
  },
  {
   "cell_type": "markdown",
   "metadata": {},
   "source": [
    "**Observation:** it can be seen that the ratio between different ethnic groups in the population and arrested ethnic groups are quite close beside for the Black ethnic group. where the arrested ratio **9.62%** is almost three times the black ethnicity ratio in the UK population **3.3%**."
   ]
  },
  {
   "cell_type": "code",
   "execution_count": null,
   "metadata": {},
   "outputs": [],
   "source": []
  }
 ],
 "metadata": {
  "kernelspec": {
   "display_name": "Python 3",
   "language": "python",
   "name": "python3"
  },
  "language_info": {
   "codemirror_mode": {
    "name": "ipython",
    "version": 3
   },
   "file_extension": ".py",
   "mimetype": "text/x-python",
   "name": "python",
   "nbconvert_exporter": "python",
   "pygments_lexer": "ipython3",
   "version": "3.7.6"
  }
 },
 "nbformat": 4,
 "nbformat_minor": 4
}
